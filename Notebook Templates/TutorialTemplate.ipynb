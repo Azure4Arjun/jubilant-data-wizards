{
    "metadata": {
        "kernelspec": {
            "name": "SQL",
            "display_name": "SQL",
            "language": "sql"
        },
        "language_info": {
            "name": "sql",
            "version": ""
        }
    },
    "nbformat_minor": 2,
    "nbformat": 4,
    "cells": [
        {
            "cell_type": "markdown",
            "source": [
                "# How-to Tutorial Title\r\n",
                "_Last updated:_ \\\r\n",
                "_Author(s):_ \r\n",
                "\r\n",
                "> **Tip**: Great tutorial document should contain sufficient information to enable students to:\r\n",
                "* understand the objective(s) of the tutorial,\r\n",
                "* setup the environment required (pre-requisites),\r\n",
                "* steps to follow, and\r\n",
                "* verify the tutorial goal is achieved.\r\n",
                "\r\n",
                "## Overview\r\n",
                "* Describe the objective(s) of this tutorial.\r\n",
                "\r\n",
                "## Prerequisites\r\n",
                "* Describe prerequisites of running this tutorial, for example: environment setup (including version number etc)\r\n",
                "* Provide reference to how to obtain the prerequisites, where applicable. \r\n",
                "\r\n",
                "### How to verify the prerequisites\r\n",
                "* Optionally, if there is a way to verify if a prerequisites are met. \r\n",
                ""
            ],
            "metadata": {
                "azdata_cell_guid": "1e5ca23a-5122-4c35-8e06-4c6407baff15"
            }
        },
        {
            "cell_type": "code",
            "source": [
                "-- Insert the code to check that the pre-requisite is met."
            ],
            "metadata": {
                "azdata_cell_guid": "881adad7-e782-4e9c-adaf-09200259d068"
            },
            "outputs": [],
            "execution_count": null
        },
        {
            "cell_type": "markdown",
            "source": [
                "## Step (n) - (Description)\r\n",
                "* Describe the (n)th step.\r\n",
                "* Provide the code to get the results. "
            ],
            "metadata": {
                "azdata_cell_guid": "ccf118ee-4800-4d83-8089-92d98c7ec985"
            }
        },
        {
            "cell_type": "code",
            "source": [
                "-- Code to repro the approach."
            ],
            "metadata": {
                "azdata_cell_guid": "f8f945f4-c7e9-461f-95b4-4c5aaa275d34"
            },
            "outputs": [],
            "execution_count": null
        },
        {
            "cell_type": "markdown",
            "source": [
                "## Summary / Conclusion\r\n",
                "* Describe that the objective of the tutorial is achieved. This could be something to verify, etc. "
            ],
            "metadata": {
                "azdata_cell_guid": "72df21bf-d182-4683-9bcb-51581be76e96"
            }
        },
        {
            "cell_type": "markdown",
            "source": [
                "# Appendix\r\n",
                "* Provide additional details."
            ],
            "metadata": {
                "azdata_cell_guid": "89d9daf9-1a58-4f46-aa9d-9081ee97fa7a"
            }
        }
    ]
}