{
    "metadata": {
        "kernelspec": {
            "name": "SQL",
            "display_name": "SQL",
            "language": "sql"
        },
        "language_info": {
            "name": "sql",
            "version": ""
        }
    },
    "nbformat_minor": 2,
    "nbformat": 4,
    "cells": [
        {
            "cell_type": "markdown",
            "source": [
                "# Analysis Title\r\n",
                "_Last updated:_ \\\r\n",
                "_Author(s):_ \r\n",
                "\r\n",
                "> **Tip**: Great analysis document should contain sufficient information to enable others to:\r\n",
                "* assess observations,\r\n",
                "* repeat the analysis / experiments, and\r\n",
                "* evaluate the methods (and suggests improvements).\r\n",
                "\r\n",
                "## Abstract / Executive Summary\r\n",
                "* Describe briefly about the purpose of this paper, for example: recommendation for next steps, framework, null hypothesis statement, etc.\r\n",
                "\r\n",
                "## Introduction\r\n",
                "* Describe the problem statement.\r\n",
                "* Describe briefly the approach / steps, including how readers can reach to conclusion.\r\n",
                "* Describe potential alternatives or other areas that are out of scope of this paper.\r\n",
                "\r\n",
                "### Assumptions\r\n",
                "* Describe the assumptions for this paper.\r\n",
                "\r\n",
                "## Datasets\r\n",
                "* Describe the datasets used.\r\n",
                "* Provide code on how to get the exact same datasets.\r\n",
                "* Provide information on what the columns in the datasets that will be used; this can be a link to a data catalog. \r\n",
                "\r\n",
                "\r\n",
                ""
            ],
            "metadata": {
                "azdata_cell_guid": "1e5ca23a-5122-4c35-8e06-4c6407baff15"
            }
        },
        {
            "cell_type": "code",
            "source": [
                "-- Insert the code to retrieve the dataset"
            ],
            "metadata": {
                "azdata_cell_guid": "881adad7-e782-4e9c-adaf-09200259d068"
            },
            "outputs": [],
            "execution_count": null
        },
        {
            "cell_type": "markdown",
            "source": [
                "## Step (n) - (Description)\r\n",
                "* Describe the first step.\r\n",
                "* Provide the code to get the results. "
            ],
            "metadata": {
                "azdata_cell_guid": "ccf118ee-4800-4d83-8089-92d98c7ec985"
            }
        },
        {
            "cell_type": "code",
            "source": [
                "-- Code to repro the approach."
            ],
            "metadata": {
                "azdata_cell_guid": "f8f945f4-c7e9-461f-95b4-4c5aaa275d34"
            },
            "outputs": [],
            "execution_count": null
        },
        {
            "cell_type": "markdown",
            "source": [
                "## Conclusion / Recommendation\r\n",
                "* To close the analysis, provide conclusion or recommendation."
            ],
            "metadata": {
                "azdata_cell_guid": "72df21bf-d182-4683-9bcb-51581be76e96"
            }
        },
        {
            "cell_type": "markdown",
            "source": [
                "# Appendix\r\n",
                "* Provide additional details."
            ],
            "metadata": {
                "azdata_cell_guid": "89d9daf9-1a58-4f46-aa9d-9081ee97fa7a"
            }
        }
    ]
}