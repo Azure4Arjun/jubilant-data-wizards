{
    "metadata": {
        "kernelspec": {
            "name": "python3",
            "display_name": "Python 3"
        },
        "language_info": {
            "name": "python",
            "version": "3.7.5",
            "mimetype": "text/x-python",
            "codemirror_mode": {
                "name": "ipython",
                "version": 3
            },
            "pygments_lexer": "ipython3",
            "nbconvert_exporter": "python",
            "file_extension": ".py"
        }
    },
    "nbformat_minor": 2,
    "nbformat": 4,
    "cells": [
        {
            "cell_type": "markdown",
            "source": [
                "Work in progress .... "
            ],
            "metadata": {
                "azdata_cell_guid": "f7f1e363-7c1a-4851-8267-84ae6aa9c6db"
            }
        },
        {
            "cell_type": "code",
            "source": [
                "pip install numpy --no-cache-dir --upgrade"
            ],
            "metadata": {
                "azdata_cell_guid": "a4539d8a-e833-4e58-99a6-87e249f60702"
            },
            "outputs": [],
            "execution_count": null
        },
        {
            "cell_type": "code",
            "source": [
                "pip install onnxmltools --no-cache-dir --upgrade"
            ],
            "metadata": {
                "azdata_cell_guid": "02b6e9eb-4611-4475-b3b1-496a9b9b080c"
            },
            "outputs": [],
            "execution_count": null
        },
        {
            "cell_type": "markdown",
            "source": [
                ""
            ],
            "metadata": {
                "azdata_cell_guid": "45c888af-f5e2-487d-b2b0-09b0d76208ca"
            }
        },
        {
            "cell_type": "code",
            "source": [
                "pip install onnxruntime --no-cache-dir --upgrade"
            ],
            "metadata": {
                "azdata_cell_guid": "9a19fbfd-bf15-4d3f-a076-0523d2576a45"
            },
            "outputs": [],
            "execution_count": null
        },
        {
            "cell_type": "code",
            "source": [
                "pip install pandas --no-cache-dir --upgrade"
            ],
            "metadata": {
                "azdata_cell_guid": "5f0e9e35-8c50-4f4d-b0db-2b7bce4e104b"
            },
            "outputs": [],
            "execution_count": null
        },
        {
            "cell_type": "code",
            "source": [
                "pip install skl2onnx --no-cache-dir --upgrade"
            ],
            "metadata": {
                "azdata_cell_guid": "84f441d4-1e50-41d2-b01e-84a56c10bf25"
            },
            "outputs": [],
            "execution_count": null
        },
        {
            "cell_type": "code",
            "source": [
                "pip install sklearn --no-cache-dir --upgrade"
            ],
            "metadata": {
                "azdata_cell_guid": "f817dc01-ca58-4faa-9951-64c6a2fc71dc"
            },
            "outputs": [],
            "execution_count": null
        },
        {
            "cell_type": "code",
            "source": [
                "import numpy as np\r\n",
                "import onnxmltools\r\n",
                "import onnxruntime as rt\r\n",
                "import pandas as pd\r\n",
                "import skl2onnx\r\n",
                "import sklearn\r\n",
                "import sklearn.datasets\r\n",
                "\r\n",
                "from sklearn.datasets import load_boston\r\n",
                "boston = load_boston()\r\n",
                "boston\r\n",
                "\r\n",
                "df = pd.DataFrame(data=np.c_[boston['data'], boston['target']], columns=boston['feature_names'].tolist() + ['MEDV'])\r\n",
                " \r\n",
                "target_column = 'MEDV'\r\n",
                " \r\n",
                "# Split the data frame into features and target\r\n",
                "x_train = pd.DataFrame(df.drop([target_column], axis = 1))\r\n",
                "y_train = pd.DataFrame(df.iloc[:,df.columns.tolist().index(target_column)])\r\n",
                "\r\n",
                "print(\"\\n*** Training dataset x\\n\")\r\n",
                "print(x_train.head())\r\n",
                "\r\n",
                "print(\"\\n*** Training dataset y\\n\")\r\n",
                "print(y_train.head())"
            ],
            "metadata": {
                "azdata_cell_guid": "32662c77-3cb3-488d-8a72-f4815c4e370f"
            },
            "outputs": [],
            "execution_count": null
        },
        {
            "cell_type": "code",
            "source": [
                ""
            ],
            "metadata": {
                "azdata_cell_guid": "b2235e4e-8bc9-49d5-ba09-71c506e4f2c0"
            },
            "outputs": [],
            "execution_count": null
        }
    ]
}