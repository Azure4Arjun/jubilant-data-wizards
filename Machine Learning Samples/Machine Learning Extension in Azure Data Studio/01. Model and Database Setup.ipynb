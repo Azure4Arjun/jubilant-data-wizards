{
    "metadata": {
        "kernelspec": {
            "name": "python3",
            "display_name": "Python 3"
        },
        "language_info": {
            "name": "python",
            "version": "3.6.6",
            "mimetype": "text/x-python",
            "codemirror_mode": {
                "name": "ipython",
                "version": 3
            },
            "pygments_lexer": "ipython3",
            "nbconvert_exporter": "python",
            "file_extension": ".py"
        }
    },
    "nbformat_minor": 2,
    "nbformat": 4,
    "cells": [
        {
            "cell_type": "code",
            "source": [
                ""
            ],
            "metadata": {
                "azdata_cell_guid": "626939a8-126b-43cf-af6a-dae4245906f2"
            },
            "outputs": [],
            "execution_count": null
        },
        {
            "cell_type": "code",
            "source": [
                "pip install numpy --no-cache-dir --upgrade"
            ],
            "metadata": {
                "azdata_cell_guid": "a4539d8a-e833-4e58-99a6-87e249f60702"
            },
            "outputs": [
                {
                    "name": "stdout",
                    "text": "Requirement already up-to-date: numpy in c:\\users\\user\\appdata\\roaming\\python\\python36\\site-packages (1.19.0)\nNote: you may need to restart the kernel to use updated packages.\n",
                    "output_type": "stream"
                },
                {
                    "name": "stderr",
                    "text": "WARNING: You are using pip version 19.2.3, however version 20.1.1 is available.\nYou should consider upgrading via the 'python -m pip install --upgrade pip' command.\n",
                    "output_type": "stream"
                }
            ],
            "execution_count": 9
        },
        {
            "cell_type": "code",
            "source": [
                "pip install onnxmltools --no-cache-dir --upgrade"
            ],
            "metadata": {
                "azdata_cell_guid": "02b6e9eb-4611-4475-b3b1-496a9b9b080c"
            },
            "outputs": [
                {
                    "name": "stdout",
                    "text": "Collecting onnxmltools\n  Downloading https://files.pythonhosted.org/packages/13/78/cb1c3573e76059a7319fc9e8e6ec0b0bec3b0784792810ef7e29e2f2bb39/onnxmltools-1.7.0-py2.py3-none-any.whl (252kB)\nCollecting keras2onnx (from onnxmltools)\n  Downloading https://files.pythonhosted.org/packages/a6/2f/c7aef8f8215c62d55ea05f5b36737c1726e4fea6c73970909523ae497fd9/keras2onnx-1.7.0-py3-none-any.whl (96kB)\nCollecting skl2onnx (from onnxmltools)\n  Downloading https://files.pythonhosted.org/packages/8a/41/47cb3c420d3a1d0a1ad38ef636ac2d4929c938c2f209582bcf3b33440b1a/skl2onnx-1.7.0-py2.py3-none-any.whl (191kB)\nCollecting onnxconverter-common<1.8.0,>=1.7.0 (from onnxmltools)\n  Downloading https://files.pythonhosted.org/packages/fe/7a/7e30c643cd7d2ad87689188ef34ce93e657bd14da3605f87bcdbc19cd5b1/onnxconverter_common-1.7.0-py2.py3-none-any.whl (64kB)\nRequirement already satisfied, skipping upgrade: protobuf in c:\\users\\user\\azuredatastudio-python\\0.0.1\\lib\\site-packages (from onnxmltools) (3.12.2)\nRequirement already satisfied, skipping upgrade: onnx in c:\\users\\user\\azuredatastudio-python\\0.0.1\\lib\\site-packages (from onnxmltools) (1.7.0)\nRequirement already satisfied, skipping upgrade: numpy in c:\\users\\user\\appdata\\roaming\\python\\python36\\site-packages (from onnxmltools) (1.19.0)\nCollecting fire (from keras2onnx->onnxmltools)\n  Downloading https://files.pythonhosted.org/packages/34/a7/0e22e70778aca01a52b9c899d9c145c6396d7b613719cd63db97ffa13f2f/fire-0.3.1.tar.gz (81kB)\nRequirement already satisfied, skipping upgrade: requests in c:\\users\\user\\appdata\\roaming\\python\\python36\\site-packages (from keras2onnx->onnxmltools) (2.24.0)\nRequirement already satisfied, skipping upgrade: six in c:\\users\\user\\appdata\\roaming\\python\\python36\\site-packages (from skl2onnx->onnxmltools) (1.15.0)\nRequirement already satisfied, skipping upgrade: scipy>=1.0 in c:\\users\\user\\appdata\\roaming\\python\\python36\\site-packages (from skl2onnx->onnxmltools) (1.5.1)\nCollecting scikit-learn>=0.19 (from skl2onnx->onnxmltools)\n  Downloading https://files.pythonhosted.org/packages/5e/2e/dde3fd9f0bfb5892b9473b817a64ac9e933794c1af6131a8b2ab1e4b1345/scikit_learn-0.23.1-cp36-cp36m-win_amd64.whl (6.8MB)\nRequirement already satisfied, skipping upgrade: setuptools in c:\\users\\user\\appdata\\roaming\\python\\python36\\site-packages (from protobuf->onnxmltools) (49.2.0)\nRequirement already satisfied, skipping upgrade: typing-extensions>=3.6.2.1 in c:\\users\\user\\azuredatastudio-python\\0.0.1\\lib\\site-packages (from onnx->onnxmltools) (3.7.4.2)\nCollecting termcolor (from fire->keras2onnx->onnxmltools)\n  Downloading https://files.pythonhosted.org/packages/8a/48/a76be51647d0eb9f10e2a4511bf3ffb8cc1e6b14e9e4fab46173aa79f981/termcolor-1.1.0.tar.gz\nRequirement already satisfied, skipping upgrade: chardet<4,>=3.0.2 in c:\\users\\user\\appdata\\roaming\\python\\python36\\site-packages (from requests->keras2onnx->onnxmltools) (3.0.4)\nRequirement already satisfied, skipping upgrade: idna<3,>=2.5 in c:\\users\\user\\appdata\\roaming\\python\\python36\\site-packages (from requests->keras2onnx->onnxmltools) (2.10)\nRequirement already satisfied, skipping upgrade: urllib3!=1.25.0,!=1.25.1,<1.26,>=1.21.1 in c:\\users\\user\\appdata\\roaming\\python\\python36\\site-packages (from requests->keras2onnx->onnxmltools) (1.25.9)\nRequirement already satisfied, skipping upgrade: certifi>=2017.4.17 in c:\\users\\user\\appdata\\roaming\\python\\python36\\site-packages (from requests->keras2onnx->onnxmltools) (2020.6.20)\nCollecting joblib>=0.11 (from scikit-learn>=0.19->skl2onnx->onnxmltools)\n  Downloading https://files.pythonhosted.org/packages/51/dd/0e015051b4a27ec5a58b02ab774059f3289a94b0906f880a3f9507e74f38/joblib-0.16.0-py3-none-any.whl (300kB)\nCollecting threadpoolctl>=2.0.0 (from scikit-learn>=0.19->skl2onnx->onnxmltools)\nNote: you may need to restart the kernel to use updated packages.\n  Downloading https://files.pythonhosted.org/packages/f7/12/ec3f2e203afa394a149911729357aa48affc59c20e2c1c8297a60f33f133/threadpoolctl-2.1.0-py3-none-any.whl\nInstalling collected packages: termcolor, fire, onnxconverter-common, keras2onnx, joblib, threadpoolctl, scikit-learn, skl2onnx, onnxmltools\n  Running setup.py install for termcolor: started\n    Running setup.py install for termcolor: finished with status 'done'\n  Running setup.py install for fire: started\n    Running setup.py install for fire: finished with status 'done'\nSuccessfully installed fire-0.3.1 joblib-0.16.0 keras2onnx-1.7.0 onnxconverter-common-1.7.0 onnxmltools-1.7.0 scikit-learn-0.23.1 skl2onnx-1.7.0 termcolor-1.1.0 threadpoolctl-2.1.0\n",
                    "output_type": "stream"
                },
                {
                    "name": "stderr",
                    "text": "WARNING: You are using pip version 19.2.3, however version 20.1.1 is available.\nYou should consider upgrading via the 'python -m pip install --upgrade pip' command.\n",
                    "output_type": "stream"
                }
            ],
            "execution_count": 8
        },
        {
            "cell_type": "markdown",
            "source": [
                ""
            ],
            "metadata": {
                "azdata_cell_guid": "45c888af-f5e2-487d-b2b0-09b0d76208ca"
            }
        },
        {
            "cell_type": "code",
            "source": [
                "pip install onnxruntime --no-cache-dir --upgrade"
            ],
            "metadata": {
                "azdata_cell_guid": "9a19fbfd-bf15-4d3f-a076-0523d2576a45"
            },
            "outputs": [
                {
                    "name": "stdout",
                    "text": "Collecting onnxruntime\n  Downloading https://files.pythonhosted.org/packages/21/60/bcace27e46566e36c30689f1498c74e198036b30db96567146324efa1491/onnxruntime-1.4.0-cp36-cp36m-win_amd64.whl (3.5MB)\nRequirement already satisfied, skipping upgrade: numpy>=1.16.6 in c:\\users\\user\\appdata\\roaming\\python\\python36\\site-packages (from onnxruntime) (1.19.0)\nRequirement already satisfied, skipping upgrade: protobuf in c:\\users\\user\\azuredatastudio-python\\0.0.1\\lib\\site-packages (from onnxruntime) (3.12.2)\nRequirement already satisfied, skipping upgrade: six>=1.9 in c:\\users\\user\\appdata\\roaming\\python\\python36\\site-packages (from protobuf->onnxruntime) (1.15.0)\nRequirement already satisfied, skipping upgrade: setuptools in c:\\users\\user\\appdata\\roaming\\python\\python36\\site-packages (from protobuf->onnxruntime) (49.2.0)\nInstalling collected packages: onnxruntime\n  Found existing installation: onnxruntime 1.3.0\n    Uninstalling onnxruntime-1.3.0:\n      Successfully uninstalled onnxruntime-1.3.0\nSuccessfully installed onnxruntime-1.4.0\nNote: you may need to restart the kernel to use updated packages.\n",
                    "output_type": "stream"
                },
                {
                    "name": "stderr",
                    "text": "WARNING: You are using pip version 19.2.3, however version 20.1.1 is available.\nYou should consider upgrading via the 'python -m pip install --upgrade pip' command.\n",
                    "output_type": "stream"
                }
            ],
            "execution_count": 10
        },
        {
            "cell_type": "code",
            "source": [
                "pip install pandas --no-cache-dir --upgrade"
            ],
            "metadata": {
                "azdata_cell_guid": "5f0e9e35-8c50-4f4d-b0db-2b7bce4e104b"
            },
            "outputs": [
                {
                    "name": "stdout",
                    "text": "Requirement already up-to-date: pandas in c:\\users\\user\\appdata\\roaming\\python\\python36\\site-packages (1.0.5)\nRequirement already satisfied, skipping upgrade: pytz>=2017.2 in c:\\users\\user\\appdata\\roaming\\python\\python36\\site-packages (from pandas) (2020.1)\nRequirement already satisfied, skipping upgrade: numpy>=1.13.3 in c:\\users\\user\\appdata\\roaming\\python\\python36\\site-packages (from pandas) (1.19.0)\nRequirement already satisfied, skipping upgrade: python-dateutil>=2.6.1 in c:\\users\\user\\appdata\\roaming\\python\\python36\\site-packages (from pandas) (2.8.1)\nRequirement already satisfied, skipping upgrade: six>=1.5 in c:\\users\\user\\appdata\\roaming\\python\\python36\\site-packages (from python-dateutil>=2.6.1->pandas) (1.15.0)\nNote: you may need to restart the kernel to use updated packages.\n",
                    "output_type": "stream"
                },
                {
                    "name": "stderr",
                    "text": "WARNING: You are using pip version 19.2.3, however version 20.1.1 is available.\nYou should consider upgrading via the 'python -m pip install --upgrade pip' command.\n",
                    "output_type": "stream"
                }
            ],
            "execution_count": 11
        },
        {
            "cell_type": "code",
            "source": [
                "pip install skl2onnx --no-cache-dir --upgrade"
            ],
            "metadata": {
                "azdata_cell_guid": "84f441d4-1e50-41d2-b01e-84a56c10bf25"
            },
            "outputs": [
                {
                    "name": "stdout",
                    "text": "Requirement already up-to-date: skl2onnx in c:\\users\\user\\azuredatastudio-python\\0.0.1\\lib\\site-packages (1.7.0)\nRequirement already satisfied, skipping upgrade: scipy>=1.0 in c:\\users\\user\\appdata\\roaming\\python\\python36\\site-packages (from skl2onnx) (1.5.1)\nRequirement already satisfied, skipping upgrade: onnx>=1.2.1 in c:\\users\\user\\azuredatastudio-python\\0.0.1\\lib\\site-packages (from skl2onnx) (1.7.0)\nRequirement already satisfied, skipping upgrade: scikit-learn>=0.19 in c:\\users\\user\\azuredatastudio-python\\0.0.1\\lib\\site-packages (from skl2onnx) (0.23.1)\nRequirement already satisfied, skipping upgrade: numpy>=1.15 in c:\\users\\user\\appdata\\roaming\\python\\python36\\site-packages (from skl2onnx) (1.19.0)\nRequirement already satisfied, skipping upgrade: six in c:\\users\\user\\appdata\\roaming\\python\\python36\\site-packages (from skl2onnx) (1.15.0)\nRequirement already satisfied, skipping upgrade: onnxconverter-common>=1.5.1 in c:\\users\\user\\azuredatastudio-python\\0.0.1\\lib\\site-packages (from skl2onnx) (1.7.0)\nRequirement already satisfied, skipping upgrade: protobuf in c:\\users\\user\\azuredatastudio-python\\0.0.1\\lib\\site-packages (from skl2onnx) (3.12.2)\nRequirement already satisfied, skipping upgrade: typing-extensions>=3.6.2.1 in c:\\users\\user\\azuredatastudio-python\\0.0.1\\lib\\site-packages (from onnx>=1.2.1->skl2onnx) (3.7.4.2)\nRequirement already satisfied, skipping upgrade: joblib>=0.11 in c:\\users\\user\\azuredatastudio-python\\0.0.1\\lib\\site-packages (from scikit-learn>=0.19->skl2onnx) (0.16.0)\nRequirement already satisfied, skipping upgrade: threadpoolctl>=2.0.0 in c:\\users\\user\\azuredatastudio-python\\0.0.1\\lib\\site-packages (from scikit-learn>=0.19->skl2onnx) (2.1.0)\nRequirement already satisfied, skipping upgrade: setuptools in c:\\users\\user\\appdata\\roaming\\python\\python36\\site-packages (from protobuf->skl2onnx) (49.2.0)\nNote: you may need to restart the kernel to use updated packages.\n",
                    "output_type": "stream"
                },
                {
                    "name": "stderr",
                    "text": "WARNING: You are using pip version 19.2.3, however version 20.1.1 is available.\nYou should consider upgrading via the 'python -m pip install --upgrade pip' command.\n",
                    "output_type": "stream"
                }
            ],
            "execution_count": 12
        },
        {
            "cell_type": "code",
            "source": [
                "pip install sklearn --no-cache-dir --upgrade"
            ],
            "metadata": {
                "azdata_cell_guid": "f817dc01-ca58-4faa-9951-64c6a2fc71dc"
            },
            "outputs": [
                {
                    "name": "stdout",
                    "text": "Collecting sklearn\n  Downloading https://files.pythonhosted.org/packages/1e/7a/dbb3be0ce9bd5c8b7e3d87328e79063f8b263b2b1bfa4774cb1147bfcd3f/sklearn-0.0.tar.gz\nRequirement already satisfied, skipping upgrade: scikit-learn in c:\\users\\user\\azuredatastudio-python\\0.0.1\\lib\\site-packages (from sklearn) (0.23.1)\nRequirement already satisfied, skipping upgrade: numpy>=1.13.3 in c:\\users\\user\\appdata\\roaming\\python\\python36\\site-packages (from scikit-learn->sklearn) (1.19.0)\nRequirement already satisfied, skipping upgrade: threadpoolctl>=2.0.0 in c:\\users\\user\\azuredatastudio-python\\0.0.1\\lib\\site-packages (from scikit-learn->sklearn) (2.1.0)\nRequirement already satisfied, skipping upgrade: scipy>=0.19.1 in c:\\users\\user\\appdata\\roaming\\python\\python36\\site-packages (from scikit-learn->sklearn) (1.5.1)\nRequirement already satisfied, skipping upgrade: joblib>=0.11 in c:\\users\\user\\azuredatastudio-python\\0.0.1\\lib\\site-packages (from scikit-learn->sklearn) (0.16.0)\nInstalling collected packages: sklearn\n  Running setup.py install for sklearn: started\n    Running setup.py install for sklearn: finished with status 'done'\nSuccessfully installed sklearn-0.0\nNote: you may need to restart the kernel to use updated packages.\n",
                    "output_type": "stream"
                },
                {
                    "name": "stderr",
                    "text": "WARNING: You are using pip version 19.2.3, however version 20.1.1 is available.\nYou should consider upgrading via the 'python -m pip install --upgrade pip' command.\n",
                    "output_type": "stream"
                }
            ],
            "execution_count": 13
        },
        {
            "cell_type": "code",
            "source": [
                "import numpy as np\r\n",
                "import onnxmltools\r\n",
                "import onnxruntime as rt\r\n",
                "import pandas as pd\r\n",
                "import skl2onnx\r\n",
                "import sklearn\r\n",
                "import sklearn.datasets\r\n",
                "\r\n",
                "from sklearn.datasets import load_boston\r\n",
                "boston = load_boston()\r\n",
                "boston\r\n",
                "\r\n",
                "df = pd.DataFrame(data=np.c_[boston['data'], boston['target']], columns=boston['feature_names'].tolist() + ['MEDV'])\r\n",
                " \r\n",
                "target_column = 'MEDV'\r\n",
                " \r\n",
                "# Split the data frame into features and target\r\n",
                "x_train = pd.DataFrame(df.drop([target_column], axis = 1))\r\n",
                "y_train = pd.DataFrame(df.iloc[:,df.columns.tolist().index(target_column)])\r\n",
                "\r\n",
                "print(\"\\n*** Training dataset x\\n\")\r\n",
                "print(x_train.head())\r\n",
                "\r\n",
                "print(\"\\n*** Training dataset y\\n\")\r\n",
                "print(y_train.head())"
            ],
            "metadata": {
                "azdata_cell_guid": "32662c77-3cb3-488d-8a72-f4815c4e370f"
            },
            "outputs": [
                {
                    "name": "stdout",
                    "text": "\n*** Training dataset x\n\n      CRIM    ZN  INDUS  CHAS    NOX     RM   AGE     DIS  RAD    TAX  \\\n0  0.00632  18.0   2.31   0.0  0.538  6.575  65.2  4.0900  1.0  296.0   \n1  0.02731   0.0   7.07   0.0  0.469  6.421  78.9  4.9671  2.0  242.0   \n2  0.02729   0.0   7.07   0.0  0.469  7.185  61.1  4.9671  2.0  242.0   \n3  0.03237   0.0   2.18   0.0  0.458  6.998  45.8  6.0622  3.0  222.0   \n4  0.06905   0.0   2.18   0.0  0.458  7.147  54.2  6.0622  3.0  222.0   \n\n   PTRATIO       B  LSTAT  \n0     15.3  396.90   4.98  \n1     17.8  396.90   9.14  \n2     17.8  392.83   4.03  \n3     18.7  394.63   2.94  \n4     18.7  396.90   5.33  \n\n*** Training dataset y\n\n   MEDV\n0  24.0\n1  21.6\n2  34.7\n3  33.4\n4  36.2\n",
                    "output_type": "stream"
                }
            ],
            "execution_count": 14
        },
        {
            "cell_type": "code",
            "source": [
                ""
            ],
            "metadata": {
                "azdata_cell_guid": "b2235e4e-8bc9-49d5-ba09-71c506e4f2c0"
            },
            "outputs": [],
            "execution_count": null
        }
    ]
}