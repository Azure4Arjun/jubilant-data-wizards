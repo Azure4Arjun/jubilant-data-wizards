{
    "metadata": {
        "kernelspec": {
            "name": "powershell",
            "display_name": "PowerShell"
        },
        "language_info": {
            "name": "powershell",
            "codemirror_mode": "shell",
            "mimetype": "text/x-sh",
            "file_extension": ".ps1"
        }
    },
    "nbformat_minor": 2,
    "nbformat": 4,
    "cells": [
        {
            "cell_type": "markdown",
            "source": [
                "# Simple example of Converting Existing Scripts to Notebooks\r\n",
                "\r\n",
                "Created by: Julie Koesmarno (@MsSQLGirl)\r\n",
                "\r\n",
                "This notebook provides an example of converting SQL and PowerShell files to Notebooks. Very simple example!\r\n",
                ""
            ],
            "metadata": {
                "azdata_cell_guid": "3d2b677e-2976-4326-9d5d-cc8cdbd1f049"
            }
        },
        {
            "cell_type": "markdown",
            "source": [
                "## Check if PowerShellNotebook module already exists."
            ],
            "metadata": {
                "azdata_cell_guid": "46dc9004-9d5e-42e5-8caa-0b33a3419876"
            }
        },
        {
            "cell_type": "code",
            "source": [
                "Get-Module -ListAvailable | Where Name -Like *Notebook"
            ],
            "metadata": {
                "azdata_cell_guid": "70f9ab19-587c-4dab-813f-598fdc30de33"
            },
            "outputs": [
                {
                    "output_type": "stream",
                    "name": "stdout",
                    "text": "\n\n    Directory: C:\\Users\\jukoesma\\Documents\\WindowsPowerShell\\Modules\n\n\nModuleType Version    Name                                ExportedCommands                                             \n---------- -------    ----                                ----------------                                             \nScript     2.6.3      PowerShellNotebook                  {New-GistNotebook, New-SQLNotebook, Get-ParsedSqlOffsets, ...\n\n\n"
                }
            ],
            "execution_count": 19
        },
        {
            "cell_type": "code",
            "source": [
                "mkdir \"c:\\temp\\RawFiles\"\r\n",
                "cd \"c:\\temp\\RawFiles\""
            ],
            "metadata": {
                "azdata_cell_guid": "937a93aa-1d24-4886-b160-6e302b7b7645",
                "tags": []
            },
            "outputs": [
                {
                    "name": "stdout",
                    "text": "\n\n    Directory: C:\\temp\n\n\nMode                 LastWriteTime         Length Name                                                                 \n----                 -------------         ------ ----                                                                 \nd-----        10/13/2020  10:03 AM                RawFiles                                                             \n\n\n",
                    "output_type": "stream"
                }
            ],
            "execution_count": 18
        },
        {
            "cell_type": "markdown",
            "source": [
                "## Convert existing files in the directory\n",
                "\n",
                "Check if there is any ps1 or SQL files.\n",
                "\n",
                "You can also copy a PowerShell script from docs.microsoft.com like this: [https://docs.microsoft.com/en-us/azure/azure-sql/database/scripts/restore-database-powershell](https://docs.microsoft.com/en-us/azure/azure-sql/database/scripts/restore-database-powershell)"
            ],
            "metadata": {
                "azdata_cell_guid": "e4574da5-2122-4bda-b5c6-7b4c8f3d7cfa"
            }
        },
        {
            "cell_type": "code",
            "source": [
                "Get-ChildItem -Path \"c:\\temp\\RawFiles\" | where {$_.extension -eq \".ps1\" -Or $_.extension -eq \".sql\"}\r\n",
                ""
            ],
            "metadata": {
                "azdata_cell_guid": "a40ad2e0-42b6-466a-8276-9f0b64b6f592",
                "tags": [
                    "hide_input"
                ]
            },
            "outputs": [
                {
                    "name": "stdout",
                    "text": "\n\n    Directory: C:\\temp\\RawFiles\n\n\nMode                 LastWriteTime         Length Name                                                                 \n----                 -------------         ------ ----                                                                 \n-a----        10/13/2020  10:07 AM           9848 CheckClientUpdates.ps1                                               \n-a----        10/13/2020  10:07 AM        1684454 Check_BP_Servers.sql                                                 \n-a----        10/13/2020  10:04 AM          10304 RegisterSubscriptionsToSqlVmAutomaticRegistration.ps1                \n\n\n",
                    "output_type": "stream"
                }
            ],
            "execution_count": 40
        },
        {
            "cell_type": "code",
            "source": [
                "irm https://raw.githubusercontent.com/microsoft/tigertoolbox/master/BPCheck/Check_BP_Servers.sql > '.\\Check_BP_Servers.sql'\r\n",
                "#irm https://raw.githubusercontent.com/microsoft/tigertoolbox/master/AzureSQLVM/RegisterSubscriptionsToSqlVmAutomaticRegistration.ps1 > '.\\RegisterSubscriptionsToSqlVmAutomaticRegistration.ps1'\r\n",
                "\r\n",
                "#irm https://raw.githubusercontent.com/microsoft/tigertoolbox/master/tls1.2/CheckClientUpdates.ps1 > '.\\CheckClientUpdates.ps1'\r\n",
                "irm https://raw.githubusercontent.com/microsoft/tigertoolbox/master/SQLConfigurations/Configure_SQLConfig.ps1 > '.\\Configure_SQLConfig.ps1'"
            ],
            "metadata": {
                "azdata_cell_guid": "cc2b7752-5d16-4b74-9af5-ed250a0888a0"
            },
            "outputs": [
                {
                    "name": "stdout",
                    "text": "",
                    "output_type": "stream"
                }
            ],
            "execution_count": 44
        },
        {
            "cell_type": "markdown",
            "source": [
                " Remove existing ipynb files if any."
            ],
            "metadata": {
                "azdata_cell_guid": "735b8455-f1fa-4b23-9ab1-3915261c2b2f"
            }
        },
        {
            "cell_type": "code",
            "source": [
                "Remove-Item *.ipynb"
            ],
            "metadata": {
                "azdata_cell_guid": "fd8358b1-d864-4461-8035-db9d8b6410cf"
            },
            "outputs": [
                {
                    "name": "stdout",
                    "text": "",
                    "output_type": "stream"
                }
            ],
            "execution_count": 45
        },
        {
            "cell_type": "markdown",
            "source": [
                " Convert one file at a time"
            ],
            "metadata": {
                "azdata_cell_guid": "596e8ef8-5cbf-4f59-a4ff-c41c6bfb6fc5"
            }
        },
        {
            "cell_type": "code",
            "source": [
                "ConvertTo-PowerShellNotebook -InputFileName  \"c:\\temp\\RawFiles\\Configure_SQLConfig.ps1\" -OutputNotebookName \"c:\\temp\\RawFiles\\Configure_SQLConfig.ipynb\""
            ],
            "metadata": {
                "azdata_cell_guid": "fa421ac7-5042-4aa1-a28e-34904aa540dd"
            },
            "outputs": [
                {
                    "name": "stdout",
                    "text": "",
                    "output_type": "stream"
                }
            ],
            "execution_count": 46
        },
        {
            "cell_type": "code",
            "source": [
                "ConvertTo-SQLNotebook \"c:\\temp\\RawFiles\\Check_BP_Servers.sql\" \"c:\\temp\\RawFiles\\Check_BP_Servers.ipynb\""
            ],
            "metadata": {
                "azdata_cell_guid": "619b779e-8692-447d-b580-82aa3e6cbc39"
            },
            "outputs": [
                {
                    "name": "stdout",
                    "text": "",
                    "output_type": "stream"
                }
            ],
            "execution_count": 47
        },
        {
            "cell_type": "markdown",
            "source": [
                " See the converted files. Now you can open them in Azure Data Studio!"
            ],
            "metadata": {
                "azdata_cell_guid": "4002667f-9078-43a3-a968-5711b729ae93"
            }
        },
        {
            "cell_type": "code",
            "source": [
                "Get-ChildItem -Path \"c:\\temp\\RawFiles\" | where {$_.extension -eq \".ipynb\"}"
            ],
            "metadata": {
                "azdata_cell_guid": "062b77d7-a8d1-4b36-b80e-4cb047233e50"
            },
            "outputs": [
                {
                    "name": "stdout",
                    "text": "\n\n    Directory: C:\\temp\\RawFiles\n\n\nMode                 LastWriteTime         Length Name                                                                 \n----                 -------------         ------ ----                                                                 \n-a----        10/13/2020  10:13 AM         993113 Check_BP_Servers.ipynb                                               \n-a----        10/13/2020  10:13 AM           4917 Configure_SQLConfig.ipynb                                            \n\n\n",
                    "output_type": "stream"
                }
            ],
            "execution_count": 48
        }
    ]
}