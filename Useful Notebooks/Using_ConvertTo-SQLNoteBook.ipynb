{
    "metadata": {
        "kernelspec": {
            "name": "powershell",
            "display_name": "PowerShell"
        },
        "language_info": {
            "name": "powershell",
            "codemirror_mode": "shell",
            "mimetype": "text/x-sh",
            "file_extension": ".ps1"
        }
    },
    "nbformat_minor": 2,
    "nbformat": 4,
    "cells": [
        {
            "cell_type": "markdown",
            "source": [
                "<img src=\"https://raw.githubusercontent.com/PowerShell/PowerShell/master/assets/avatar_128.svg\" width=\"8%\"> ➕\r\n",
                "<img src=\"https://user-images.githubusercontent.com/67258/89468449-77bfdf80-d745-11ea-894b-0cbaa4f06809.png?raw=true\" width=\"12.5%\"> ➕\r\n",
                "<img src=\"https://github.com/Microsoft/azuredatastudio/blob/master/samples/notebookSamples/Graphics/AzureDataStudioLogo.png?raw=true\" width=\"7.5%\"> = ❤\r\n",
                "# PowerShell to convert .SQL files into Notebooks"
            ],
            "metadata": {
                "azdata_cell_guid": "42ce5c87-0ea5-429e-9d0a-6450eadb2a4d"
            }
        },
        {
            "cell_type": "markdown",
            "source": [
                "```\r\n",
                "Shared by: Aaron Nelson.\\\r\n",
                "Modified by: Julie Koesmarno.\r\n",
                "```\r\n",
                "\r\n",
                "(optional step, for demo purposes)\r\n",
                "## Make a directory to store some .SQL files"
            ],
            "metadata": {
                "azdata_cell_guid": "9130e7bd-c976-4fe9-94db-7c26eb1360dd"
            }
        },
        {
            "cell_type": "code",
            "source": [
                "mkdir c:\\temp\\SQLFiles"
            ],
            "metadata": {
                "azdata_cell_guid": "faf204dc-5a96-4c46-b4aa-38b10ab49037"
            },
            "outputs": [
                {
                    "output_type": "stream",
                    "name": "stdout",
                    "text": "\n\n    Directory: C:\\temp\n\n\nMode                 LastWriteTime         Length Name                                                                 \n----                 -------------         ------ ----                                                                 \nd-----         8/28/2020   6:13 PM                SQLFiles                                                             \n\n\n"
                }
            ],
            "execution_count": 2
        },
        {
            "cell_type": "markdown",
            "source": [
                "Switch to a folder where you have a lot of `.SQL` files."
            ],
            "metadata": {
                "azdata_cell_guid": "d5be3b3d-a666-4df1-b487-da0ff4020f05"
            }
        },
        {
            "cell_type": "code",
            "source": [
                "cd c:\\temp\\SQLFiles"
            ],
            "metadata": {
                "azdata_cell_guid": "399042e8-4824-4ec7-a605-1047e0b1a4ba"
            },
            "outputs": [
                {
                    "output_type": "stream",
                    "name": "stdout",
                    "text": ""
                }
            ],
            "execution_count": 3
        },
        {
            "cell_type": "markdown",
            "source": [
                "If you don't have any .SQL files handy, download some from GitHub\r\n",
                "(use the step below.)"
            ],
            "metadata": {
                "azdata_cell_guid": "de0cdacb-d1f3-4237-b834-64de0e2a10bb"
            }
        },
        {
            "cell_type": "code",
            "source": [
                "\r\n",
                "irm https://gist.githubusercontent.com/MsSQLGirl/799d3613c6b3aba58cb4decbb30da139/raw/433ffdcefcbc4db0e5f5c9b53e1e9bde139f885d/SQLSample_01_ServerProperties.sql > '.\\SQLSample_01_ServerProperties.sql'\r\n",
                "irm https://gist.githubusercontent.com/MsSQLGirl/799d3613c6b3aba58cb4decbb30da139/raw/433ffdcefcbc4db0e5f5c9b53e1e9bde139f885d/SQLSample_02_WWI.sql > '.\\SQLSample_02_WWI.sql'\r\n",
                "irm https://gist.githubusercontent.com/MsSQLGirl/799d3613c6b3aba58cb4decbb30da139/raw/433ffdcefcbc4db0e5f5c9b53e1e9bde139f885d/SQLSample_03_StringDynamics.sql > '.\\SQLSample_03_StringDynamics.sql'\r\n",
                "irm https://gist.githubusercontent.com/MsSQLGirl/799d3613c6b3aba58cb4decbb30da139/raw/433ffdcefcbc4db0e5f5c9b53e1e9bde139f885d/SQLSample_04_VariableBatchConundrum.sql > '.\\SQLSample_04_VariableBatchConundrum.sql'\r\n",
                "irm https://gist.githubusercontent.com/vickyharp/d188b5ab2ceec12896b4a514ea52e5b6/raw/f2e4b1bc4d6a2fb293aebb9989129bd722d6a25e/AdventureWorksAddress.sql > '.\\AdventureWorksAddress.sql'\r\n",
                "irm https://gist.githubusercontent.com/vickyharp/6c254d63d3de9850b20b5861b061b5f5/raw/0ff7d7c5da9f216fb7534994c8be60fe0e7efaf3/AdventureWorksMultiStatementSBatch.sql > '.\\AdventureWorksMultiStatementSBatch.sql'\r\n",
                "irm https://raw.githubusercontent.com/microsoft/tigertoolbox/master/BPCheck/Check_BP_Servers.sql > '.\\Check_BP_Servers.sql'\r\n",
                ""
            ],
            "metadata": {
                "azdata_cell_guid": "a84484aa-d595-49f7-91b3-8d6e1a66c739"
            },
            "outputs": [
                {
                    "output_type": "stream",
                    "name": "stdout",
                    "text": ""
                }
            ],
            "execution_count": 4
        },
        {
            "cell_type": "markdown",
            "source": [
                "## Here's the part where it gets good!\r\n",
                "\r\n",
                "Now use `dir` to loop over all the .SQL files in the directory, and use the `ConvertTo-SQLNoteBook` function to turn them into SQL Notebooks."
            ],
            "metadata": {
                "azdata_cell_guid": "57307f7e-a897-4d9a-801e-f6b9396a6690"
            }
        },
        {
            "cell_type": "code",
            "source": [
                "Get-ChildItem -Recurse *.SQL | \r\n",
                "foreach {\r\n",
                "    ConvertTo-SQLNoteBook -InputFileName $_.FullName -OutputNotebookName (Join-Path -Path (Split-Path -Path $_.FullName -Parent) -ChildPath ($_.Name -replace '.sql', '.ipynb'))\r\n",
                "}"
            ],
            "metadata": {
                "azdata_cell_guid": "5ebfab75-513b-4a66-a1db-dc38f43d82ce"
            },
            "outputs": [
                {
                    "output_type": "stream",
                    "name": "stdout",
                    "text": ""
                }
            ],
            "execution_count": 5
        },
        {
            "cell_type": "code",
            "source": [
                "Get-ChildItem -Recurse *.SQL"
            ],
            "metadata": {
                "azdata_cell_guid": "e2ec8db5-6ac4-4eba-b4f3-0f88be7ebd14"
            },
            "outputs": [],
            "execution_count": null
        },
        {
            "cell_type": "markdown",
            "source": [
                "Check inside that same directory, and you should now see a bunch of .IPYNB files."
            ],
            "metadata": {
                "azdata_cell_guid": "bec32cbd-7593-4ff5-a64f-a360647058c2"
            }
        },
        {
            "cell_type": "code",
            "source": [
                "dir -Filter *.ipynb"
            ],
            "metadata": {
                "azdata_cell_guid": "cc62ccf7-3ad0-4c9e-8490-8894017be4e4"
            },
            "outputs": [
                {
                    "output_type": "stream",
                    "name": "stdout",
                    "text": "\n\n    Directory: C:\\temp\\SQLFiles\n\n\nMode                 LastWriteTime         Length Name                                                                 \n----                 -------------         ------ ----                                                                 \n-a----         8/28/2020   6:14 PM           1933 AdventureWorksAddress.ipynb                                          \n-a----         8/28/2020   6:14 PM           4051 AdventureWorksMultiStatementSBatch.ipynb                             \n-a----         8/28/2020   6:14 PM        1032013 Check_BP_Servers.ipynb                                               \n-a----         8/28/2020   6:14 PM           2581 SQLSample_01_ServerProperties.ipynb                                  \n-a----         8/28/2020   6:14 PM           5513 SQLSample_02_WWI.ipynb                                               \n-a----         8/28/2020   6:14 PM           4026 SQLSample_03_StringDynamics.ipynb                                    \n-a----         8/28/2020   6:14 PM           1853 SQLSample_04_VariableBatchConundrum.ipynb                            \n\n\n"
                }
            ],
            "execution_count": 6
        },
        {
            "cell_type": "markdown",
            "source": [
                "Now let's have a look at one of the Notebooks we just built.  Grab one and open it up in Azure Data Studio."
            ],
            "metadata": {
                "azdata_cell_guid": "4cbaa36c-82cf-42ea-a900-18dfdea860ae"
            }
        }
    ]
}