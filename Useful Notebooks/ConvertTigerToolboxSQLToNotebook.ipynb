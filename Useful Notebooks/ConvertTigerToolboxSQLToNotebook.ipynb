{
    "metadata": {
        "kernelspec": {
            "name": "powershell",
            "display_name": "PowerShell"
        },
        "language_info": {
            "name": "powershell",
            "codemirror_mode": "shell",
            "mimetype": "text/x-sh",
            "file_extension": ".ps1"
        }
    },
    "nbformat_minor": 2,
    "nbformat": 4,
    "cells": [
        {
            "cell_type": "markdown",
            "source": [
                "<img src=\"https://raw.githubusercontent.com/PowerShell/PowerShell/master/assets/avatar_128.svg\" width=\"8%\"> ➕\r\n",
                "<img src=\"https://user-images.githubusercontent.com/67258/89468449-77bfdf80-d745-11ea-894b-0cbaa4f06809.png?raw=true\" width=\"12.5%\"> ➕\r\n",
                "<img src=\"https://github.com/Microsoft/azuredatastudio/blob/master/samples/notebookSamples/Graphics/AzureDataStudioLogo.png?raw=true\" width=\"7.5%\"> = ❤\r\n",
                "# PowerShell to convert .SQL files into Notebooks"
            ],
            "metadata": {
                "azdata_cell_guid": "42ce5c87-0ea5-429e-9d0a-6450eadb2a4d"
            }
        },
        {
            "cell_type": "markdown",
            "source": [
                "```\n",
                "Shared by: Aaron Nelson.\n",
                "Modified by: Julie Koesmarno.\n",
                "```\n",
                "\n",
                "(optional step, for demo purposes)\n",
                "\n",
                "## Make a directory to store some .SQL files"
            ],
            "metadata": {
                "azdata_cell_guid": "9130e7bd-c976-4fe9-94db-7c26eb1360dd"
            }
        },
        {
            "cell_type": "code",
            "source": [
                "Set-ExecutionPolicy Unrestricted  -Scope CurrentUser"
            ],
            "metadata": {
                "azdata_cell_guid": "a58455b4-de19-4cb2-8ead-eeba0d70e413"
            },
            "outputs": [
                {
                    "output_type": "stream",
                    "name": "stdout",
                    "text": ""
                }
            ],
            "execution_count": 1
        },
        {
            "cell_type": "code",
            "source": [
                "mkdir c:\\temp\\test"
            ],
            "metadata": {
                "azdata_cell_guid": "faf204dc-5a96-4c46-b4aa-38b10ab49037"
            },
            "outputs": [],
            "execution_count": null
        },
        {
            "cell_type": "markdown",
            "source": [
                "Switch to a folder where you will have a lot of `.SQL` files (mwahaha!)"
            ],
            "metadata": {
                "azdata_cell_guid": "d5be3b3d-a666-4df1-b487-da0ff4020f05"
            }
        },
        {
            "cell_type": "code",
            "source": [
                "cd c:\\temp\\test\r\n",
                "\r\n",
                "dir"
            ],
            "metadata": {
                "azdata_cell_guid": "399042e8-4824-4ec7-a605-1047e0b1a4ba"
            },
            "outputs": [
                {
                    "output_type": "stream",
                    "name": "stdout",
                    "text": "\n\n    Directory: C:\\temp\\test\n\n\nMode                 LastWriteTime         Length Name                                                                 \n----                 -------------         ------ ----                                                                 \nd-----        10/12/2020   9:20 PM                backup-NewBook                                                       \nd-----        10/12/2020   6:17 PM                backup-tigertoolbox                                                  \nd-----        10/23/2020  11:08 PM                PrepBook-backup                                                      \nd-----        10/23/2020  10:56 PM                tigertoolbox - original                                              \nd-----        10/24/2020   3:11 PM                tigertoolbox - original - Copy                                       \n"
                },
                {
                    "output_type": "stream",
                    "name": "stdout",
                    "text": "-a----        10/19/2020   7:44 PM        3662491 PrepBook.zip                                                         \n\n\n"
                }
            ],
            "execution_count": 1
        },
        {
            "cell_type": "markdown",
            "source": [
                "Let's get SQL Scripts from Tiger Toolbox on GitHub"
            ],
            "metadata": {
                "azdata_cell_guid": "de0cdacb-d1f3-4237-b834-64de0e2a10bb"
            }
        },
        {
            "cell_type": "code",
            "source": [
                "git clone https://github.com/microsoft/tigertoolbox.git"
            ],
            "metadata": {
                "azdata_cell_guid": "a84484aa-d595-49f7-91b3-8d6e1a66c739"
            },
            "outputs": [
                {
                    "output_type": "stream",
                    "name": "stdout",
                    "text": "Cloning into 'tigertoolbox'...\n"
                },
                {
                    "output_type": "stream",
                    "name": "stdout",
                    "text": "Updating files:  85% (1240/1449)Updating files:  86% (1247/1449)"
                },
                {
                    "output_type": "stream",
                    "name": "stdout",
                    "text": "Updating files:  87% (1261/1449)"
                },
                {
                    "output_type": "stream",
                    "name": "stdout",
                    "text": "Updating files:  88% (1276/1449)"
                },
                {
                    "output_type": "stream",
                    "name": "stdout",
                    "text": "Updating files:  89% (1290/1449)"
                },
                {
                    "output_type": "stream",
                    "name": "stdout",
                    "text": "Updating files:  89% (1294/1449)Updating files:  90% (1305/1449)"
                },
                {
                    "output_type": "stream",
                    "name": "stdout",
                    "text": "Updating files:  91% (1319/1449)"
                },
                {
                    "output_type": "stream",
                    "name": "stdout",
                    "text": "Updating files:  92% (1334/1449)"
                },
                {
                    "output_type": "stream",
                    "name": "stdout",
                    "text": "Updating files:  93% (1348/1449)Updating files:  94% (1363/1449)Updating files:  95% (1377/1449)Updating files:  96% (1392/1449)Updating files:  97% (1406/1449)"
                },
                {
                    "output_type": "stream",
                    "name": "stdout",
                    "text": "Updating files:  98% (1421/1449)Updating files:  99% (1435/1449)Updating files: 100% (1449/1449)Updating files: 100% (1449/1449), done.\n"
                }
            ],
            "execution_count": 3
        },
        {
            "cell_type": "markdown",
            "source": [
                "Check to ensure there are some SQL Files."
            ],
            "metadata": {
                "azdata_cell_guid": "e7df8125-ea3f-4323-b968-26ca822be625"
            }
        },
        {
            "cell_type": "code",
            "source": [
                "(Get-ChildItem -Recurse *.SQL).count"
            ],
            "metadata": {
                "azdata_cell_guid": "e2ec8db5-6ac4-4eba-b4f3-0f88be7ebd14"
            },
            "outputs": [
                {
                    "output_type": "stream",
                    "name": "stdout",
                    "text": "192\n"
                }
            ],
            "execution_count": 2
        },
        {
            "cell_type": "markdown",
            "source": [
                "## Here's the part where it gets good!\n",
                "\n",
                "Now use `Get-ChildItem` to loop over all the .SQL files in the directory, and use the `ConvertTo-SQLNoteBook` function to turn them into SQL Notebooks."
            ],
            "metadata": {
                "azdata_cell_guid": "57307f7e-a897-4d9a-801e-f6b9396a6690"
            }
        },
        {
            "cell_type": "code",
            "source": [
                "$counter = 0\r\n",
                "\r\n",
                "Get-ChildItem -Recurse *.SQL | \r\n",
                "foreach {\r\n",
                "    ConvertTo-SQLNoteBook -InputFileName $_.FullName -OutputNotebookName (Join-Path -Path (Split-Path -Path $_.FullName -Parent) -ChildPath ($_.Name -replace '.sql', '.ipynb' -replace \" \", \"-\" -replace \"_\", \"-\"))\r\n",
                "    $counter++\r\n",
                "    if ($counter % 5 -eq 1) {Write-Output \"Converted $counter notebooks\"}  \r\n",
                "}\r\n",
                "\r\n",
                "Write-Output \"DONE: Converted $counter notebooks\"\r\n",
                ""
            ],
            "metadata": {
                "azdata_cell_guid": "5ebfab75-513b-4a66-a1db-dc38f43d82ce"
            },
            "outputs": [
                {
                    "output_type": "stream",
                    "name": "stdout",
                    "text": ". {\n"
                },
                {
                    "output_type": "stream",
                    "name": "stdout",
                    "text": ">> $counter = 0\n>> \n>> Get-ChildItem -Recurse *.SQL | \n>> foreach {\n>>     ConvertTo-SQLNoteBook -InputFileName $_.FullName -OutputNotebookName (Join-Path -Path (Split-Path -Path $_.FullName -Parent) -ChildPath ($_.Name -replace '.sql', '.ipynb' -replace \" \", \"-\" -replace \"_\", \"-\"))\n>>     $counter++\n>>     if ($counter % 5 -eq 1) {Write-Output \"Converted $counter notebooks\"}  \n>> }\n>> \n>> Write-Output \"DONE: Converted $counter notebooks\"\n>> \n>> }\n>> \n"
                },
                {
                    "output_type": "stream",
                    "name": "stdout",
                    "text": "Converted 1 notebooks\n"
                },
                {
                    "output_type": "stream",
                    "name": "stdout",
                    "text": "Converted 6 notebooks\n"
                },
                {
                    "output_type": "stream",
                    "name": "stdout",
                    "text": "Converted 11 notebooks\n"
                },
                {
                    "output_type": "stream",
                    "name": "stdout",
                    "text": "Converted 16 notebooks\n"
                },
                {
                    "output_type": "stream",
                    "name": "stdout",
                    "text": "Converted 21 notebooks\n"
                },
                {
                    "output_type": "stream",
                    "name": "stdout",
                    "text": "Converted 26 notebooks\n"
                },
                {
                    "output_type": "stream",
                    "name": "stdout",
                    "text": "Converted 31 notebooks\n"
                },
                {
                    "output_type": "stream",
                    "name": "stdout",
                    "text": "Converted 36 notebooks\n"
                },
                {
                    "output_type": "stream",
                    "name": "stdout",
                    "text": "Converted 41 notebooks\n"
                },
                {
                    "output_type": "stream",
                    "name": "stdout",
                    "text": "Converted 46 notebooks\n"
                },
                {
                    "output_type": "stream",
                    "name": "stdout",
                    "text": "Converted 51 notebooks\n"
                },
                {
                    "output_type": "stream",
                    "name": "stdout",
                    "text": "Converted 56 notebooks\n"
                },
                {
                    "output_type": "stream",
                    "name": "stdout",
                    "text": "Converted 61 notebooks\n"
                },
                {
                    "output_type": "stream",
                    "name": "stdout",
                    "text": "Converted 66 notebooks\n"
                },
                {
                    "output_type": "stream",
                    "name": "stdout",
                    "text": "Converted 71 notebooks\n"
                },
                {
                    "output_type": "stream",
                    "name": "stdout",
                    "text": "Converted 76 notebooks\n"
                },
                {
                    "output_type": "stream",
                    "name": "stdout",
                    "text": "Converted 81 notebooks\n"
                },
                {
                    "output_type": "stream",
                    "name": "stdout",
                    "text": "Converted 86 notebooks\n"
                },
                {
                    "output_type": "stream",
                    "name": "stdout",
                    "text": "Converted 91 notebooks\n"
                },
                {
                    "output_type": "stream",
                    "name": "stdout",
                    "text": "Converted 96 notebooks\n"
                },
                {
                    "output_type": "stream",
                    "name": "stdout",
                    "text": "Converted 101 notebooks\n"
                },
                {
                    "output_type": "stream",
                    "name": "stdout",
                    "text": "Converted 106 notebooks\n"
                },
                {
                    "output_type": "stream",
                    "name": "stdout",
                    "text": "Converted 111 notebooks\n"
                },
                {
                    "output_type": "stream",
                    "name": "stdout",
                    "text": "Converted 116 notebooks\n"
                },
                {
                    "output_type": "stream",
                    "name": "stdout",
                    "text": "Converted 121 notebooks\n"
                },
                {
                    "output_type": "stream",
                    "name": "stdout",
                    "text": "Converted 126 notebooks\n"
                },
                {
                    "output_type": "stream",
                    "name": "stdout",
                    "text": "Converted 131 notebooks\n"
                },
                {
                    "output_type": "stream",
                    "name": "stdout",
                    "text": "Converted 136 notebooks\n"
                },
                {
                    "output_type": "stream",
                    "name": "stdout",
                    "text": "Converted 141 notebooks\n"
                },
                {
                    "output_type": "stream",
                    "name": "stdout",
                    "text": "Converted 146 notebooks\n"
                },
                {
                    "output_type": "stream",
                    "name": "stdout",
                    "text": "Converted 151 notebooks\n"
                },
                {
                    "output_type": "stream",
                    "name": "stdout",
                    "text": "Converted 156 notebooks\n"
                },
                {
                    "output_type": "stream",
                    "name": "stdout",
                    "text": "Converted 161 notebooks\n"
                },
                {
                    "output_type": "stream",
                    "name": "stdout",
                    "text": "Converted 166 notebooks\n"
                },
                {
                    "output_type": "stream",
                    "name": "stdout",
                    "text": "Converted 171 notebooks\n"
                },
                {
                    "output_type": "stream",
                    "name": "stdout",
                    "text": "Converted 176 notebooks\n"
                },
                {
                    "output_type": "stream",
                    "name": "stdout",
                    "text": "Converted 181 notebooks\n"
                },
                {
                    "output_type": "stream",
                    "name": "stdout",
                    "text": "Converted 186 notebooks\n"
                },
                {
                    "output_type": "stream",
                    "name": "stdout",
                    "text": "Converted 191 notebooks\n"
                },
                {
                    "output_type": "stream",
                    "name": "stdout",
                    "text": "DONE: Converted 192 notebooks\n"
                }
            ],
            "execution_count": 7
        },
        {
            "cell_type": "markdown",
            "source": [
                "Check inside that same directory, and you should now see a bunch of .IPYNB files."
            ],
            "metadata": {
                "azdata_cell_guid": "bec32cbd-7593-4ff5-a64f-a360647058c2"
            }
        },
        {
            "cell_type": "code",
            "source": [
                "(Get-ChildItem c:\\temp\\test\\tigertoolbox -Recurse *.ipynb).Count"
            ],
            "metadata": {
                "azdata_cell_guid": "cc62ccf7-3ad0-4c9e-8490-8894017be4e4"
            },
            "outputs": [
                {
                    "output_type": "stream",
                    "name": "stdout",
                    "text": "977\n"
                }
            ],
            "execution_count": 8
        },
        {
            "cell_type": "markdown",
            "source": [
                "This step just lifts all the ipynb file to create a Jupyter book. \n",
                "\n",
                "> Note: after creating this, I put readme file in PrepBook as the Jupyter Book creation seems to require the first readme file otherwise it would fail."
            ],
            "metadata": {
                "azdata_cell_guid": "b0de7c22-df52-4ddc-82d0-b666cd296763"
            }
        },
        {
            "cell_type": "code",
            "source": [
                "#Copy ipynb\r\n",
                "$path = \"C:\\temp\\test\\tigertoolbox\"\r\n",
                "$destination = \"c:\\temp\\test\\PrepBook\"\r\n",
                "\r\n",
                "Copy-Item -Path $path -Destination $destination -Recurse -Force -Container -Filter \"*.ipynb\""
            ],
            "metadata": {
                "azdata_cell_guid": "36d958da-47ca-4f9d-842f-178e5839026f"
            },
            "outputs": [
                {
                    "output_type": "stream",
                    "name": "stdout",
                    "text": ""
                }
            ],
            "execution_count": 9
        },
        {
            "cell_type": "code",
            "source": [
                "(Get-ChildItem $destination -Recurse *.ipynb).Count"
            ],
            "metadata": {
                "azdata_cell_guid": "6118e7c8-ff50-4344-bf68-ec0dc1ef533b"
            },
            "outputs": [
                {
                    "output_type": "stream",
                    "name": "stdout",
                    "text": "977\n"
                }
            ],
            "execution_count": 10
        },
        {
            "cell_type": "markdown",
            "source": [
                "Now let's have a look at one of the Notebooks we just built.  Grab one and open it up in Azure Data Studio."
            ],
            "metadata": {
                "azdata_cell_guid": "4cbaa36c-82cf-42ea-a900-18dfdea860ae"
            }
        }
    ]
}