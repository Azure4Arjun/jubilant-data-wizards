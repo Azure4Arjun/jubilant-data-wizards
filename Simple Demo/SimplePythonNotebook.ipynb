{
    "metadata": {
        "kernelspec": {
            "name": "python3",
            "display_name": "Python 3",
            "language": "python"
        },
        "language_info": {
            "name": "python",
            "version": "3.6.6",
            "mimetype": "text/x-python",
            "codemirror_mode": {
                "name": "ipython",
                "version": 3
            },
            "pygments_lexer": "ipython3",
            "nbconvert_exporter": "python",
            "file_extension": ".py"
        }
    },
    "nbformat_minor": 2,
    "nbformat": 4,
    "cells": [
        {
            "cell_type": "code",
            "source": [
                "a = 10\r\n",
                "b = 5"
            ],
            "metadata": {
                "azdata_cell_guid": "3726ff67-9b0c-4955-a478-f84b5a8a41c9",
                "tags": [
                    "parameters"
                ]
            },
            "outputs": [],
            "execution_count": 1
        },
        {
            "cell_type": "code",
            "source": [
                "a + b"
            ],
            "metadata": {
                "azdata_cell_guid": "23ee68b9-02e2-4c14-893b-a29c2a27e7cf"
            },
            "outputs": [
                {
                    "data": {
                        "text/plain": "15"
                    },
                    "metadata": {},
                    "execution_count": 2,
                    "output_type": "execute_result"
                }
            ],
            "execution_count": 2
        }
    ]
}