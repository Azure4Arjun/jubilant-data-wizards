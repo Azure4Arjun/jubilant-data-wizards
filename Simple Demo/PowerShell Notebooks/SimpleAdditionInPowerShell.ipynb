{
    "metadata": {
        "kernelspec": {
            "name": "powershell",
            "display_name": "PowerShell",
            "language": "powershell"
        },
        "language_info": {
            "name": "powershell",
            "codemirror_mode": "shell",
            "mimetype": "text/x-sh",
            "file_extension": ".ps1"
        }
    },
    "nbformat_minor": 2,
    "nbformat": 4,
    "cells": [
        {
            "cell_type": "code",
            "source": [
                "$a = 10\r\n",
                "$b = 5"
            ],
            "metadata": {
                "azdata_cell_guid": "3726ff67-9b0c-4955-a478-f84b5a8a41c9",
                "tags": [
                    "parameters"
                ]
            },
            "outputs": [],
            "execution_count": null
        },
        {
            "cell_type": "code",
            "source": [
                "$a + $b"
            ],
            "metadata": {
                "azdata_cell_guid": "23ee68b9-02e2-4c14-893b-a29c2a27e7cf"
            },
            "outputs": [],
            "execution_count": null
        }
    ]
}