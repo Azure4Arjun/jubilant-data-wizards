{
    "metadata": {
        "kernelspec": {
            "name": "powershell",
            "display_name": "PowerShell"
        },
        "language_info": {
            "name": "powershell",
            "codemirror_mode": "shell",
            "mimetype": "text/x-sh",
            "file_extension": ".ps1"
        }
    },
    "nbformat_minor": 2,
    "nbformat": 4,
    "cells": [
        {
            "cell_type": "markdown",
            "source": [
                "# Notebooks in Azure Data Studio\r\n",
                "\r\n",
                "Prepared by: Julie Koesmarno (twitter: [@MsSQLGirl](http://twitter.com/MsSQLGirl))\r\n",
                "\r\n",
                "[![Azure Data Studio](./images/ADSHeartNotebooks.png)](./images/ADSHeartNotebooks.png \"ADS loves Notebooks\")\r\n",
                "\r\n",
                "\r\n",
                "## Fun facts about Notebooks in Azure Data Studio: \r\n",
                "* Sep 2018: Notebook first introduced in Azure Data Studio\r\n",
                "* Mar 2019: SQL Notebooks\r\n",
                "* Nov 2019: Jupyter Book & PowerShell Notebooks\r\n",
                ""
            ],
            "metadata": {
                "azdata_cell_guid": "57461731-0312-4c1f-b882-5e2106b83442"
            }
        },
        {
            "cell_type": "markdown",
            "source": [
                "## Meet Notebook users \r\n",
                "\r\n",
                "| Data Scientist | Data Analyst | Data Engineer | DBA |\r\n",
                "| --- | --- | --- | --- |\r\n",
                "| [![Azure Data Studio](./images/DataScientist.png)](./images/DataScientist.png \"Data Scientist\") | [![Azure Data Studio](./images/DataAnalyst.png)](./images/DataAnalyst.png \"Data Analyst\") | [![Azure Data Studio](./images/DataEngineer.png)](./images/DataEngineer.png \"Data Engineer\") |  [![Azure Data Studio](./images/DBA.png)](./images/DBA.png \"DBA\") |\r\n",
                "| **Typical kernels:** | | | |\r\n",
                "| Python, R, SQL | SQL, Python, R | Spark, Python, SQL | SQL, PowerShell | \r\n",
                "\r\n",
                "<br>\r\n",
                ""
            ],
            "metadata": {
                "azdata_cell_guid": "6350949c-ab2d-441f-b754-c34320c7c864"
            }
        },
        {
            "cell_type": "markdown",
            "source": [
                "\r\n",
                "## Examples\r\n",
                "Simple Reproducible Research example - [click here](azuredatastudio://microsoft.notebook/open?url=https://raw.githubusercontent.com/MsSQLGirl/jubilant-data-wizards/master/Simple%20Demo/Sample%20Notebooks%20-%20Data%20Analysis/ReproducibleResearch.ipynb) to display it in Azure Data Studio. \r\n",
                "\r\n",
                "\r\n",
                "[![Azure Data Studio](https://github.com/MsSQLGirl/jubilant-data-wizards/raw/master/Simple%20Demo/Sample%20Notebooks%20-%20Data%20Analysis/SQLNotebookExample3.gif)](https://github.com/MsSQLGirl/jubilant-data-wizards/blob/master/Simple%20Demo/Sample%20Notebooks%20-%20Data%20Analysis/SQLNotebookExample3.gif)\r\n",
                "\r\n",
                ""
            ],
            "metadata": {
                "azdata_cell_guid": "030f362a-9da0-4dfb-8f27-a92cb3e24608"
            }
        },
        {
            "cell_type": "markdown",
            "source": [
                "\r\n",
                "## Anatomy \r\n",
                "* Text Cell - Plain text, markdown, HTML, code snippets and more!\r\n",
                "    * Plain Text **and** *simple* markdown ***formatting***\r\n",
                "    * HTML support for <mark>advanced</mark> ~~complex~~ formatting\r\n",
                "    * Code format\r\n",
                "~~~SQL\r\n",
                "SELECT TOP 10 * FROM [sys].[databases]\r\n",
                "~~~\r\n",
                "    * Multimedia / Image as shown above.\r\n",
                "\r\n",
                "\r\n",
                "* Execution Cell - Code and output\r\n",
                "    * Visualizations / graphics \r\n",
                "\r\n",
                "> TIP:\r\n",
                "> If you are sharing Notebooks to others publicly, ensure that the results don't include sensitive information. \r\n",
                "\r\n",
                ""
            ],
            "metadata": {
                "azdata_cell_guid": "7034c892-5280-405a-8b53-452640841c5c"
            }
        },
        {
            "cell_type": "markdown",
            "source": [
                "\r\n",
                "## Notebooks Use Cases \r\n",
                "\r\n",
                "Notebook journey starts with **Exploratory / Academic / Collaborative / Reproducible** nature, then it's used for **broader analysis for app operations**. We are now seeing more adoption of Notebook in **DBA and data work (management / analysis / visualization)**.\r\n",
                "\r\n",
                "### Exploratory / Academic / Collaborative - *original intention*\r\n",
                "* [Simple Reproducible Research example on Github](https://github.com/MsSQLGirl/jubilant-data-wizards/blob/master/Simple%20Demo/Sample%20Notebooks%20-%20Data%20Analysis/ReproducibleResearch.ipynb)\r\n",
                "* [Typical Data Science example on GitHub](https://github.com/rhiever/Data-Analysis-and-Machine-Learning-Projects/blob/master/example-data-science-notebook/Example%20Machine%20Learning%20Notebook.ipynb) | [View this in Azure Data Studio](azuredatastudio://microsoft.notebook/open?url=https://raw.githubusercontent.com/rhiever/Data-Analysis-and-Machine-Learning-Projects/master/example-data-science-notebook/Example%20Machine%20Learning%20Notebook.ipynb)\r\n",
                "* [NBA Games in Notebooks](https://github.com/DunderData/Tutorials/blob/master/Data%20Analysis%20and%20Visualization%20Tutorials/Matplotlib%20Tutorials/NBA%20Full%20Game%20Animation.ipynb)\r\n",
                "\r\n",
                "### Broader analysis - *app operations*\r\n",
                "* [Malicious detection](https://hub.gke.mybinder.org/user/johnlatwc-shared-psdjmbbn/notebooks/notebooks/Malware%20Decode%20Demo.ipynb)\r\n",
                "* [Malware Powershell shellcode analysis by @JohnLaTwC](https://github.com/JohnLaTwC/Shared/blob/master/notebooks/Malware%20PowerShell%20shellcode%20analysis.ipynb)  | [View this in Azure Data Studio](azuredatastudio://microsoft.notebook/open?url=https://raw.githubusercontent.com/JohnLaTwC/Shared/master/notebooks/Malware%20PowerShell%20shellcode%20analysis.ipynb)\r\n",
                "\r\n",
                "\r\n",
                "### DBA Scenarios / examples - *data, automation and DevOps use cases*\r\n",
                "* Runbooks: [SQL Assessment](https://github.com/microsoft/sql-server-samples/blob/master/samples/manage/sql-assessment-api/notebooks/SQLAssessmentAPIQuickStartNotebook.ipynb)\r\n",
                "* Troubleshooting: \r\n",
                "    * Jupyter Book created based on Glenn Berry's Diagnostic Queries - check out his [blog](https://glennsqlperformance.com/resources/) or from [dbatools GitHub](https://github.com/sqlcollaborative/dbatools/tree/development/bin/diagnosticquery).\r\n",
                "        * Here's an example for [SQL Server 2019 Diagnostic Query in SQL](https://www.dropbox.com/s/k1vauzxxhyh1fnb/SQL%20Server%202019%20Diagnostic%20Information%20Queries.sql?dl=0)\r\n",
                "    * **SQL Server 2019 Guide Jupyter Book** -> From Command Palette (Ctrl + Shift + P), type \"Jupyter Books: SQL Server 2019 Guide\".\r\n",
                "    * Your own!\r\n",
                "* Notebooks for **deploying SQL Server containers** -> From Command Palette (Ctrl + Shift + P), type \"Deployment: New Deployment...\" \r\n",
                "* Change Management workflow\r\n",
                "\r\n",
                "> The \"Ops\" side of DevOps\r\n",
                "    > * Runbook automation\r\n",
                "    > * Ops Excellence ~ Software Engineering Excellence (version control, code review and more!)\r\n",
                "    > * Incident Response Auditing"
            ],
            "metadata": {
                "azdata_cell_guid": "36c66662-d2be-4c0d-972d-f057dc96e5c5"
            }
        },
        {
            "cell_type": "markdown",
            "source": [
                "## Useful links for getting started with Notebooks in Azure Data Studio!\n",
                "\n",
                "* Azure Data Studio Notebook Overview https://docs.microsoft.com/sql/big-data-cluster/notebooks-guidance\n",
                "* Rob Sewell - Incident Response Index https://sqldbawithabeard.com/2019/11/21/dynamically-creating-azure-data-studio-notebooks-with-powershell-for-an-incident-response-index-notebook/\n",
                "* Emanuele Meazzo - SQL Diagnostic Jupyter Book https://tsql.tech/the-sql-diagnostic-jupyter-book/\n",
                "* Azure Data Studio Release Notes: https://docs.microsoft.com/sql/azure-data-studio/release-notes-azure-data-studio\n",
                "* Simplify DevOps with Jupyter Notebook: https://dev.to/amit1rrr/simplify-devops-with-jupyter-notebook-e33 \n",
                "* Useful samples:\n",
                "    * SQL Assessment API on GitHub: https://github.com/microsoft/sql-server-samples/tree/master/samples/manage/sql-assessment-api/notebooks\n",
                "    \n",
                ""
            ],
            "metadata": {
                "azdata_cell_guid": "472bec77-ca9a-4448-a891-100cfcb5508b"
            }
        }
    ]
}