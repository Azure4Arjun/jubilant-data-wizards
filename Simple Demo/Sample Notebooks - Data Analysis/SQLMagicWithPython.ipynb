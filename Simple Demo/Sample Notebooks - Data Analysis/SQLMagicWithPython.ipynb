{
    "metadata": {
        "kernelspec": {
            "name": "python3",
            "display_name": "Python 3"
        },
        "language_info": {
            "name": "python",
            "version": "3.6.6",
            "mimetype": "text/x-python",
            "codemirror_mode": {
                "name": "ipython",
                "version": 3
            },
            "pygments_lexer": "ipython3",
            "nbconvert_exporter": "python",
            "file_extension": ".py"
        }
    },
    "nbformat_minor": 2,
    "nbformat": 4,
    "cells": [
        {
            "cell_type": "markdown",
            "source": [
                "# SQLMagic (%sql magic) with Python \r\n",
                "\r\n",
                "This notebook highlights how you can create a connection to a SQL Server instance with trusted connection, that interacts with Python.\r\n",
                "\r\n",
                "A few notes:\r\n",
                "* We are using [ipython-sql](https://github.com/catherinedevlin/ipython-sql) module. Please make sure that you install this in your environment first before you can start using the %sql magic. \r\n",
                "* Get Azure Data Studio here: http://aka.ms/getAzureDataStudio\r\n",
                "\r\n",
                ""
            ],
            "metadata": {
                "azdata_cell_guid": "28a87020-69c8-44ea-9102-52fd583d9aee"
            }
        },
        {
            "cell_type": "markdown",
            "source": [
                "## 1. Load %sql Magic extension\r\n",
                "\r\n",
                ""
            ],
            "metadata": {
                "azdata_cell_guid": "4a6a358a-2a42-4790-848f-7a401bce3a9e"
            }
        },
        {
            "cell_type": "code",
            "source": [
                " %reload_ext sql\r\n",
                " %config SqlMagic.displaycon = False # change this to True to show the connection string for the %sql commands executed against\r\n",
                ""
            ],
            "metadata": {
                "azdata_cell_guid": "56b6c378-0f1b-4586-aedd-62569556694e",
                "tags": []
            },
            "outputs": [],
            "execution_count": 1
        },
        {
            "cell_type": "markdown",
            "source": [
                "## 2. Setup connection string\r\n",
                "\r\n",
                "Provide your username and database name"
            ],
            "metadata": {
                "azdata_cell_guid": "0014e82c-b851-4a34-9682-e7c2958aa5c9"
            }
        },
        {
            "cell_type": "code",
            "source": [
                "serverName = input(\"Enter the SQL Server instance you'd like to connect to: \")\r\n",
                "database = input(\"Enter the database to connect to: \")\r\n",
                "\r\n",
                "import urllib\r\n",
                "params = urllib.parse.quote_plus(\"DRIVER={SQL SERVER};SERVER=\" + serverName + \";DATABASE=\" + database + \";TRUSTED_CONNECTION=YES\")\r\n",
                "conn = \"mssql+pyodbc:///?odbc_connect=%s\" % params\r\n",
                "conn"
            ],
            "metadata": {
                "azdata_cell_guid": "db1b4df0-5d8a-4e4a-a977-1134fa313a93",
                "tags": []
            },
            "outputs": [],
            "execution_count": null
        },
        {
            "cell_type": "markdown",
            "source": [
                "## 3. Connect to SQL Server instance and database"
            ],
            "metadata": {
                "azdata_cell_guid": "f088bbea-a39a-43bb-859a-a7174187b813"
            }
        },
        {
            "cell_type": "code",
            "source": [
                "%sql {conn}"
            ],
            "metadata": {
                "azdata_cell_guid": "cb0cdfc6-bbb4-4dd4-b444-22cf24d328d1"
            },
            "outputs": [],
            "execution_count": 3
        },
        {
            "cell_type": "markdown",
            "source": [
                "## 4. Query sys.databases and filter a database with a name = \"master\"\r\n",
                "\r\n",
                "This is a simple exapmle of passing a variable from Python to a SQL query."
            ],
            "metadata": {
                "azdata_cell_guid": "2a0d9059-dc61-471b-ad9f-f4130829b63f"
            }
        },
        {
            "cell_type": "code",
            "source": [
                "database_name = \"master\"\r\n",
                "%sql select :database_name\r\n",
                "%sql select top 4 name, compatibility_level from sys.databases where name = :database_name"
            ],
            "metadata": {
                "azdata_cell_guid": "76fc8935-a703-47f7-a493-aaffb2ea7735"
            },
            "outputs": [
                {
                    "name": "stdout",
                    "text": "Done.\nDone.\n",
                    "output_type": "stream"
                },
                {
                    "data": {
                        "text/plain": "[('master', 150)]",
                        "text/html": "<table>\n    <tr>\n        <th>name</th>\n        <th>compatibility_level</th>\n    </tr>\n    <tr>\n        <td>master</td>\n        <td>150</td>\n    </tr>\n</table>"
                    },
                    "metadata": {},
                    "execution_count": 14,
                    "output_type": "execute_result"
                }
            ],
            "execution_count": 14
        },
        {
            "cell_type": "markdown",
            "source": [
                "## 5. Create a stored procedure dbo.usp_AddDayToADate\r\n",
                "\r\n",
                "This will create a stored procedure that will add a number of days to a specified date. The default is to to return tomorrow's date. "
            ],
            "metadata": {
                "azdata_cell_guid": "8434e6e8-88c8-496b-8166-2544c15e74e7"
            }
        },
        {
            "cell_type": "code",
            "source": [
                "%%sql CREATE PROCEDURE dbo.usp_AddDayToADate\r\n",
                "(\r\n",
                "    @DayNumber INT = 1,\r\n",
                "    @Date DATE = NULL\r\n",
                ") AS\r\n",
                "BEGIN\r\n",
                "    SELECT DATEADD(DAY, @DayNumber, ISNULL(@Date, GETDATE())) AS NewDate;\r\n",
                "END;"
            ],
            "metadata": {
                "azdata_cell_guid": "517be16b-1bb6-456c-8a9b-63a764e60680"
            },
            "outputs": [
                {
                    "name": "stdout",
                    "text": "Done.\n",
                    "output_type": "stream"
                },
                {
                    "data": {
                        "text/plain": "[]"
                    },
                    "metadata": {},
                    "execution_count": 7,
                    "output_type": "execute_result"
                }
            ],
            "execution_count": 7
        },
        {
            "cell_type": "markdown",
            "source": [
                "## 6. Run the stored procedure dbo.usp_AddDayToADate with default input values"
            ],
            "metadata": {
                "azdata_cell_guid": "fbfabc0b-72d7-455a-8b82-1b8eeaaa4555"
            }
        },
        {
            "cell_type": "code",
            "source": [
                "%sql EXEC dbo.usp_AddDayToADate"
            ],
            "metadata": {
                "azdata_cell_guid": "ece1b1d5-d875-44e0-b9d9-01d09fe00290"
            },
            "outputs": [
                {
                    "name": "stdout",
                    "text": "Done.\n",
                    "output_type": "stream"
                },
                {
                    "data": {
                        "text/plain": "[('2020-10-19',)]",
                        "text/html": "<table>\n    <tr>\n        <th>NewDate</th>\n    </tr>\n    <tr>\n        <td>2020-10-19</td>\n    </tr>\n</table>"
                    },
                    "metadata": {},
                    "execution_count": 8,
                    "output_type": "execute_result"
                }
            ],
            "execution_count": 8
        },
        {
            "cell_type": "markdown",
            "source": [
                "## 7. Run dbo.usp_AddDayToADate with input parameters from Python\r\n",
                "\r\n",
                "This will add 5 days to the Jan 1, 2020. "
            ],
            "metadata": {
                "azdata_cell_guid": "98dcc139-da73-4cd1-b23a-0bc459a18b20"
            }
        },
        {
            "cell_type": "code",
            "source": [
                "numberOfDays = 5\r\n",
                "someDate = '20200101'\r\n",
                "\r\n",
                "%sql EXEC dbo.usp_AddDayToADate :numberOfDays, :someDate"
            ],
            "metadata": {
                "azdata_cell_guid": "d748d8be-09fb-440d-a8c7-f0c02378898c"
            },
            "outputs": [
                {
                    "name": "stdout",
                    "text": "Done.\n",
                    "output_type": "stream"
                },
                {
                    "data": {
                        "text/plain": "[('2020-01-06',)]",
                        "text/html": "<table>\n    <tr>\n        <th>NewDate</th>\n    </tr>\n    <tr>\n        <td>2020-01-06</td>\n    </tr>\n</table>"
                    },
                    "metadata": {},
                    "execution_count": 9,
                    "output_type": "execute_result"
                }
            ],
            "execution_count": 9
        },
        {
            "cell_type": "markdown",
            "source": [
                "Use `numberOfDays` set in previous cell as a parameter in another stored proc call.\r\n",
                ""
            ],
            "metadata": {
                "azdata_cell_guid": "1a83ebd4-8f38-4b40-830a-c813078ba8bd"
            }
        },
        {
            "cell_type": "code",
            "source": [
                "numberOfDays = 5\r\n",
                "\r\n",
                "%sql EXEC dbo.usp_AddDayToADate :numberOfDays, '20201010'"
            ],
            "metadata": {
                "azdata_cell_guid": "f7a05c6f-ebc7-4bdc-8fc2-13e82720cb3f"
            },
            "outputs": [
                {
                    "name": "stdout",
                    "text": "Done.\n",
                    "output_type": "stream"
                },
                {
                    "data": {
                        "text/plain": "[('2020-10-15',)]",
                        "text/html": "<table>\n    <tr>\n        <th>NewDate</th>\n    </tr>\n    <tr>\n        <td>2020-10-15</td>\n    </tr>\n</table>"
                    },
                    "metadata": {},
                    "execution_count": 10,
                    "output_type": "execute_result"
                }
            ],
            "execution_count": 10
        },
        {
            "cell_type": "markdown",
            "source": [
                "## 8. Clean up stored procedure\r\n",
                "\r\n",
                "Remove dbo.usp_AddDayToADate"
            ],
            "metadata": {
                "azdata_cell_guid": "d192aaa2-4f45-426f-a7ce-8edbee521fc6"
            }
        },
        {
            "cell_type": "code",
            "source": [
                "%sql DROP PROCEDURE dbo.usp_AddDayToADate"
            ],
            "metadata": {
                "azdata_cell_guid": "46659ebc-90d3-4161-9a45-dce29700b2d1"
            },
            "outputs": [
                {
                    "name": "stdout",
                    "text": "Done.\n",
                    "output_type": "stream"
                },
                {
                    "data": {
                        "text/plain": "[]"
                    },
                    "metadata": {},
                    "execution_count": 11,
                    "output_type": "execute_result"
                }
            ],
            "execution_count": 11
        },
        {
            "cell_type": "markdown",
            "source": [
                "# Other useful info\r\n",
                "\r\n",
                "* Check out %config SqlMagic and see what configuration is supported. \r\n",
                "* For more information about SqlMagic check out: https://pypi.org/project/ipython-sql/\r\n",
                "\r\n",
                ""
            ],
            "metadata": {
                "azdata_cell_guid": "b5637da4-9df4-4e65-ad65-f07664e58e37"
            }
        },
        {
            "cell_type": "code",
            "source": [
                "%config SqlMagic"
            ],
            "metadata": {
                "azdata_cell_guid": "fdd54366-b9ab-4e89-8744-63eba0711212"
            },
            "outputs": [
                {
                    "name": "stdout",
                    "text": "SqlMagic options\n--------------\nSqlMagic.autocommit=<Bool>\n    Current: True\n    Set autocommit mode\nSqlMagic.autolimit=<Int>\n    Current: 0\n    Automatically limit the size of the returned result sets\nSqlMagic.autopandas=<Bool>\n    Current: False\n    Return Pandas DataFrames instead of regular result sets\nSqlMagic.column_local_vars=<Bool>\n    Current: False\n    Return data into local variables from column names\nSqlMagic.displaycon=<Bool>\n    Current: False\n    Show connection string after execute\nSqlMagic.displaylimit=<Int>\n    Current: None\n    Automatically limit the number of rows displayed (full result set is still\n    stored)\nSqlMagic.dsn_filename=<Unicode>\n    Current: 'odbc.ini'\n    Path to DSN file. When the first argument is of the form [section], a\n    sqlalchemy connection string is formed from the matching section in the DSN\n    file.\nSqlMagic.feedback=<Bool>\n    Current: True\n    Print number of rows affected by DML\nSqlMagic.short_errors=<Bool>\n    Current: True\n    Don't display the full traceback on SQL Programming Error\nSqlMagic.style=<Unicode>\n    Current: 'DEFAULT'\n    Set the table printing style to any of prettytable's defined styles\n    (currently DEFAULT, MSWORD_FRIENDLY, PLAIN_COLUMNS, RANDOM)\n",
                    "output_type": "stream"
                }
            ],
            "execution_count": 12
        }
    ]
}