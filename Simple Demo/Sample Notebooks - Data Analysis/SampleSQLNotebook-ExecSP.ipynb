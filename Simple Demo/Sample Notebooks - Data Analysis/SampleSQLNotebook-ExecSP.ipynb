{
    "metadata": {
        "kernelspec": {
            "name": "SQL",
            "display_name": "SQL",
            "language": "sql"
        },
        "language_info": {
            "name": "sql",
            "version": ""
        }
    },
    "nbformat_minor": 2,
    "nbformat": 4,
    "cells": [
        {
            "cell_type": "markdown",
            "source": [
                "# Create a procedure and calling a procedure in SQL Notebook\r\n",
                "\r\n",
                "_Last updated: 2020.10.16\\\r\n",
                "Author: Julie Koesmarno ([@MsSQLGirl](http://twitter.com/MsSQLGirl))_\r\n",
                "\r\n",
                "This notebook will create a stored procedure in your designated database. After the creation, you can execute the stored procedure.\r\n",
                "\r\n",
                "At the end of this notebook, there is a clean up script that will remove the stored procedure."
            ],
            "metadata": {
                "azdata_cell_guid": "3b2d78b9-4f99-48e7-9c53-f12482ed777c"
            }
        },
        {
            "cell_type": "markdown",
            "source": [
                "## Change a database (optional)"
            ],
            "metadata": {
                "azdata_cell_guid": "57c99ddb-eb82-40a7-8164-e304f03ec228"
            }
        },
        {
            "cell_type": "code",
            "source": [
                "USE Keep_CalmAndCarryOn\r\n",
                "GO\r\n",
                ""
            ],
            "metadata": {
                "azdata_cell_guid": "d5e035b0-2f57-42c0-aae6-90ca57928703"
            },
            "outputs": [],
            "execution_count": null
        },
        {
            "cell_type": "markdown",
            "source": [
                "## Create a stored procedure\r\n",
                "This stored procedure will add a number of days (`@DayNumber`) to a specified date (`@Date`), and return a result set with one row containing the new date.\r\n",
                ""
            ],
            "metadata": {
                "azdata_cell_guid": "f512f59f-d4ff-42b1-9e5f-bfd6f553d7ac"
            }
        },
        {
            "cell_type": "code",
            "source": [
                "CREATE PROCEDURE dbo.usp_AddDayToADate\r\n",
                "(\r\n",
                "    @DayNumber INT = 1,\r\n",
                "    @Date DATE = NULL\r\n",
                ") AS\r\n",
                "BEGIN\r\n",
                "    SELECT DATEADD(DAY, @DayNumber, ISNULL(@Date, GETDATE())) AS NewDate;\r\n",
                "END;"
            ],
            "metadata": {
                "azdata_cell_guid": "21c00303-9f8b-44bd-8f03-1f1b95068545"
            },
            "outputs": [
                {
                    "output_type": "display_data",
                    "data": {
                        "text/html": "Commands completed successfully."
                    },
                    "metadata": {}
                },
                {
                    "output_type": "display_data",
                    "data": {
                        "text/html": "Total execution time: 00:00:00.025"
                    },
                    "metadata": {}
                }
            ],
            "execution_count": 4
        },
        {
            "cell_type": "markdown",
            "source": [
                "# Execute the stored procedure\r\n",
                "\r\n",
                "Because the stored procedure contains default parameter values, you can run the stored procedure without the input parameters.\r\n",
                "\r\n",
                "This will return tomorrow's date (as at the execution time)"
            ],
            "metadata": {
                "azdata_cell_guid": "80cc4b4b-fe94-4a42-8a76-ebf8c7719051"
            }
        },
        {
            "cell_type": "code",
            "source": [
                "EXEC dbo.usp_AddDayToADate "
            ],
            "metadata": {
                "azdata_cell_guid": "9320f891-bd9a-42c1-bf80-cf2e4d67cba8",
                "language": "markdown"
            },
            "outputs": [
                {
                    "output_type": "display_data",
                    "data": {
                        "text/html": "(1 row affected)"
                    },
                    "metadata": {}
                },
                {
                    "output_type": "display_data",
                    "data": {
                        "text/html": "Total execution time: 00:00:00.036"
                    },
                    "metadata": {}
                },
                {
                    "output_type": "execute_result",
                    "execution_count": 6,
                    "data": {
                        "application/vnd.dataresource+json": {
                            "schema": {
                                "fields": [
                                    {
                                        "name": "NewDate"
                                    }
                                ]
                            },
                            "data": [
                                {
                                    "0": "2020-10-19"
                                }
                            ]
                        },
                        "text/html": "<table><tr><th>NewDate</th></tr><tr><td>2020-10-19</td></tr></table>"
                    },
                    "metadata": {}
                }
            ],
            "execution_count": 6
        },
        {
            "cell_type": "markdown",
            "source": [
                "## Execute the stored procedure with input parameters\r\n",
                "Add 7 days to Jan 1, 2020."
            ],
            "metadata": {
                "azdata_cell_guid": "f9f6c9ad-089c-41e0-b849-d24e6349ee3a"
            }
        },
        {
            "cell_type": "code",
            "source": [
                "DECLARE @MyDayNumber INT = 7;\r\n",
                "DECLARE @MyDate DATE = '2020-01-01';\r\n",
                "\r\n",
                "EXEC dbo.usp_AddDayToADate @MyDayNumber, @MyDate;"
            ],
            "metadata": {
                "azdata_cell_guid": "8fdfe64b-9953-4638-8d2e-46775c2dc6a1"
            },
            "outputs": [
                {
                    "output_type": "display_data",
                    "data": {
                        "text/html": "(1 row affected)"
                    },
                    "metadata": {}
                },
                {
                    "output_type": "display_data",
                    "data": {
                        "text/html": "Total execution time: 00:00:00.036"
                    },
                    "metadata": {}
                },
                {
                    "output_type": "execute_result",
                    "execution_count": 7,
                    "data": {
                        "application/vnd.dataresource+json": {
                            "schema": {
                                "fields": [
                                    {
                                        "name": "NewDate"
                                    }
                                ]
                            },
                            "data": [
                                {
                                    "0": "2020-01-08"
                                }
                            ]
                        },
                        "text/html": "<table><tr><th>NewDate</th></tr><tr><td>2020-01-08</td></tr></table>"
                    },
                    "metadata": {}
                }
            ],
            "execution_count": 7
        },
        {
            "cell_type": "markdown",
            "source": [
                "## Clean up\r\n",
                "\r\n",
                "To clean up, uncomment below and run it."
            ],
            "metadata": {
                "azdata_cell_guid": "68eb9c25-e2eb-4cdf-94dc-bfbd283f16a5"
            }
        },
        {
            "cell_type": "code",
            "source": [
                "-- DROP PROCEDURE dbo.usp_AddDayToADate;"
            ],
            "metadata": {
                "azdata_cell_guid": "a8882927-b8de-4d57-a66d-f3d0bdd4e81d"
            },
            "outputs": [
                {
                    "output_type": "display_data",
                    "data": {
                        "text/html": "Commands completed successfully."
                    },
                    "metadata": {}
                },
                {
                    "output_type": "display_data",
                    "data": {
                        "text/html": "Total execution time: 00:00:00.033"
                    },
                    "metadata": {}
                }
            ],
            "execution_count": 8
        }
    ]
}