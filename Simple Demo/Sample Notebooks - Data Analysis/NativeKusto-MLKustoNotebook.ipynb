{
    "metadata": {
        "kernelspec": {
            "name": "SQL",
            "display_name": "SQL",
            "language": "sql"
        },
        "language_info": {
            "name": "kusto",
            "version": ""
        }
    },
    "nbformat_minor": 2,
    "nbformat": 4,
    "cells": [
        {
            "cell_type": "markdown",
            "source": [
                "# Machine Learning in Azure Data Explorer\n",
                "\n",
                "These are examples of analytics in Azure Data Explorer using machine learning plugins. \n",
                "\n",
                "## autocluster plugin\n",
                "\n",
                "`autocluster` finds common patterns of discrete attributes (dimensions) in the data. It then reduces the results of the original query, whether it's 100 or 100k rows, to a small number of patterns. The plugin was developed to help analyze failures (such as exceptions or crashes) but can potentially work on any filtered data set.\n",
                "\n",
                "More info: https://docs.microsoft.com/en-us/azure/data-explorer/kusto/query/autoclusterplugin"
            ],
            "metadata": {
                "azdata_cell_guid": "b2b4d405-bd06-470a-a296-b02cbd9ce757"
            }
        },
        {
            "cell_type": "code",
            "source": [
                "StormEvents \n",
                "| where monthofyear(StartTime) == 5\n",
                "| extend Damage = iff(DamageCrops + DamageProperty > 0 , \"YES\" , \"NO\")\n",
                "| project State , EventType , Damage\n",
                "| evaluate autocluster(0.6, \"~\", \"~\", \"*\")"
            ],
            "metadata": {
                "azdata_cell_guid": "77bb97a3-5da9-4b26-922a-1ca41cd4b844",
                "tags": []
            },
            "outputs": [
                {
                    "output_type": "display_data",
                    "data": {
                        "text/html": "Commands completed successfully."
                    },
                    "metadata": {}
                },
                {
                    "output_type": "display_data",
                    "data": {
                        "text/html": "Total execution time: 00:00:00.118"
                    },
                    "metadata": {}
                },
                {
                    "output_type": "execute_result",
                    "metadata": {},
                    "execution_count": 1,
                    "data": {
                        "application/vnd.dataresource+json": {
                            "schema": {
                                "fields": [
                                    {
                                        "name": "SegmentId"
                                    },
                                    {
                                        "name": "Count"
                                    },
                                    {
                                        "name": "Percent"
                                    },
                                    {
                                        "name": "State"
                                    },
                                    {
                                        "name": "EventType"
                                    },
                                    {
                                        "name": "Damage"
                                    }
                                ]
                            },
                            "data": [
                                {
                                    "0": "0",
                                    "1": "2278",
                                    "2": "38.71515975526852",
                                    "3": "*",
                                    "4": "Hail",
                                    "5": "NO"
                                },
                                {
                                    "0": "1",
                                    "1": "512",
                                    "2": "8.701563562202583",
                                    "3": "*",
                                    "4": "Thunderstorm Wind",
                                    "5": "YES"
                                },
                                {
                                    "0": "2",
                                    "1": "898",
                                    "2": "15.261726716519375",
                                    "3": "TEXAS",
                                    "4": "*",
                                    "5": "*"
                                }
                            ]
                        },
                        "text/html": [
                            "<table>",
                            "<tr><th>SegmentId</th><th>Count</th><th>Percent</th><th>State</th><th>EventType</th><th>Damage</th></tr>",
                            "<tr><td>0</td><td>2278</td><td>38.71515975526852</td><td>*</td><td>Hail</td><td>NO</td></tr>",
                            "<tr><td>1</td><td>512</td><td>8.701563562202583</td><td>*</td><td>Thunderstorm Wind</td><td>YES</td></tr>",
                            "<tr><td>2</td><td>898</td><td>15.261726716519375</td><td>TEXAS</td><td>*</td><td>*</td></tr>",
                            "</table>"
                        ]
                    }
                }
            ],
            "execution_count": 1
        },
        {
            "cell_type": "markdown",
            "source": [
                "## diffpatterns plugin\n",
                "\n",
                "Compares two data sets of the same structure and finds patterns of discrete attributes (dimensions) that characterize differences between the two data sets. Diffpatterns was developed to help analyze failures (for example, by comparing failures to non-failures in a given time frame), but can potentially find differences between any two data sets of the same structure.\n",
                "\n",
                "More info: https://docs.microsoft.com/en-us/azure/data-explorer/kusto/query/diffpatternsplugin"
            ],
            "metadata": {
                "azdata_cell_guid": "a9393713-3701-4cf6-8425-ff2d5ddf9f1b"
            }
        },
        {
            "cell_type": "code",
            "source": [
                "StormEvents \n",
                "| where monthofyear(StartTime) == 5\n",
                "| extend Damage = iff(DamageCrops + DamageProperty > 0 , 1 , 0)\n",
                "| project State , EventType , Source , Damage, DamageCrops\n",
                "| evaluate diffpatterns(Damage, \"0\", \"1\" )"
            ],
            "metadata": {
                "azdata_cell_guid": "5afe08f3-71dd-4caa-82ea-105e691ae92f",
                "tags": []
            },
            "outputs": [],
            "execution_count": null
        }
    ]
}