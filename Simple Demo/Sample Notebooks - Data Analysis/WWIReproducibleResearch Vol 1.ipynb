{
    "metadata": {
        "kernelspec": {
            "name": "SQL",
            "display_name": "SQL",
            "language": "sql"
        },
        "language_info": {
            "name": "sql",
            "version": ""
        }
    },
    "nbformat_minor": 2,
    "nbformat": 4,
    "cells": [
        {
            "cell_type": "markdown",
            "source": [
                "# Notebook Sample: Marketing Experimentation Preparation\n",
                "\n",
                "| Doc Properties | Value |\n",
                "| --- | --- |\n",
                "| Prepared by | Julie  Koesmarno (signal@mssqlgirl.com) |\n",
                "| Prepared on | Feb 17, 2020 |\n",
                "| Purpose | To illustrate how to use Notebooks for Data Analysis. This notebook is created using [Azure Data Studio](https://docs.microsoft.com/en-us/sql/azure-data-studio/what-is?view=sql-server-ver15) |\n",
                "\n",
                "\n",
                "\n",
                "## Abstract\n",
                "\n",
                "Wide World Importers CEO is keen to understand the revenue, profit and margin spread of their products. This paper is to prepare for the next Marketing Planning Meeting with marketing investment as one of the topics. They would like to experiment and strategize on marketing investment. The idea is to work with two distinct product groups for marketing experimentation. \n",
                "\n",
                "## Description \n",
                "This document will use the Wide World Importers database to do analysis on product portfolio in the past year. \n",
                "We would like to identify two groups for planned experimentation in the next Marketing Planning Meeting: \n",
                "* **Group A**: After iterative discussions with marketing, we think that there are some stock items with high margin but low contribution to Total Revenue and Total Profit. \n",
                "* **Group B**: As part of the experimentation, we want to also understand how these stock items would perform against those with low margin and lower contribution to Total Revenue and Total Profit. \n",
                "\n",
                "Once we identify these groups, we will conclude with recommendation and potential next steps for experimentation especially what to track."
            ],
            "metadata": {
                "azdata_cell_guid": "efe8f844-c25f-4db6-8ea2-ef649adf12e3"
            }
        },
        {
            "cell_type": "markdown",
            "source": [
                "## Step 1 - Get and inspect the data\r\n",
                "\r\n",
                "To access the Wide World Importers database:\r\n",
                "\r\n",
                "| Server | Database | Credential |\r\n",
                "| --- | --- | --- |\r\n",
                "| 11.81.136.97,1433 | WideWorldImporters | Windows Auth\r\n",
                "\r\n",
                "To get a copy of your own WideWorldImporters database, go to: https://github.com/Microsoft/sql-server-samples/releases/tag/wide-world-importers-v1.0 \r\n",
                "\r\n",
                "Here's the assumption / description about the data that will be used in the analysis today.\r\n",
                "* For the purpose of analysis prepared for Feb 2016 meeting, we will use the latest month data, i.e. Jan 2016. It is possible to extend this to show month over month trend.\r\n",
                "* We will use Sales.Invoices and Sales.InvoiceLines which has information about Revenue for each invoice line item (i.e. ExtendedPrice) and Profit (i.e. LineProfit).\r\n",
                "* Warehouse.Stock* tables have more information about the stock items. \r\n",
                "* No cumulative analysis needed for this document. \r\n",
                "\r\n",
                "> Note: A stock item can belong to many different stock groups. So it is important that throughout the analysis, when / if we want to do cumulative total or percentage of cumulative total, that we choose only one group that it belongs to \"consistently\".\r\n",
                "\r\n",
                "\r\n",
                "\r\n",
                ""
            ],
            "metadata": {
                "azdata_cell_guid": "b2a2ba96-77ba-4a8d-aa66-3c99556ec97e"
            }
        },
        {
            "cell_type": "markdown",
            "source": [
                "### Show Top 10 rows from the tables that we will be using today. "
            ],
            "metadata": {
                "azdata_cell_guid": "e759ea70-ee33-4e46-90c9-1cd6d41bf51c"
            }
        },
        {
            "cell_type": "code",
            "source": [
                "USE WideWorldImporters;\r\n",
                "\r\n",
                "-- Must use the same start and end date for the analysis in this paper. \r\n",
                "DECLARE @StartDate DATETIME = '20160101';\r\n",
                "DECLARE @EndDate DATETIME = DATEADD(MONTH, 1, @StartDate);\r\n",
                "\r\n",
                "SELECT TOP 10\r\n",
                "    --  COUNT(DISTINCT g.StockItemStockGroupID) StockGroups\r\n",
                "     i.InvoiceDate\r\n",
                "    ,i.InvoiceID\r\n",
                "    ,si.StockItemName\r\n",
                "    ,gr.StockGroupName\r\n",
                "    ,il.ExtendedPrice AS Revenue\r\n",
                "    ,il.LineProfit AS Profit\r\n",
                "    ,il.Quantity\r\n",
                "    ,il.LineProfit * 100.0 / il.ExtendedPrice AS [Margin%]    \r\n",
                "FROM Sales.InvoiceLines il\r\n",
                "    INNER JOIN Sales.Invoices i\r\n",
                "        ON i.InvoiceID = il.InvoiceID\r\n",
                "    INNER JOIN Warehouse.StockItems_Archive si\r\n",
                "        ON si.StockItemID = il.StockItemID \r\n",
                "        AND i.InvoiceDate BETWEEN si.ValidFrom AND si.ValidTo    \r\n",
                "    INNER JOIN Warehouse.StockItemStockGroups sg\r\n",
                "        ON sg.StockItemID = si.StockItemID        \r\n",
                "    INNER JOIN Warehouse.StockGroups gr\r\n",
                "        ON gr.StockGroupID = sg.StockGroupID\r\n",
                "        AND i.InvoiceDate BETWEEN gr.ValidFrom AND gr.ValidTo\r\n",
                "WHERE i.InvoiceDate >= '20160101'\r\n",
                "AND  i.InvoiceDate < '20160201'\r\n",
                "ORDER BY i.InvoiceID, i.InvoiceDate, si.StockItemName"
            ],
            "metadata": {
                "azdata_cell_guid": "375ce5e3-5ca0-4276-b6ec-d060e1bcc326"
            },
            "outputs": [
                {
                    "output_type": "display_data",
                    "data": {
                        "text/html": "(10 rows affected)"
                    },
                    "metadata": {}
                },
                {
                    "output_type": "display_data",
                    "data": {
                        "text/html": "Total execution time: 00:00:00.059"
                    },
                    "metadata": {}
                },
                {
                    "output_type": "execute_result",
                    "execution_count": 44,
                    "data": {
                        "application/vnd.dataresource+json": {
                            "schema": {
                                "fields": [
                                    {
                                        "name": "InvoiceDate"
                                    },
                                    {
                                        "name": "InvoiceID"
                                    },
                                    {
                                        "name": "StockItemName"
                                    },
                                    {
                                        "name": "StockGroupName"
                                    },
                                    {
                                        "name": "Revenue"
                                    },
                                    {
                                        "name": "Profit"
                                    },
                                    {
                                        "name": "Quantity"
                                    },
                                    {
                                        "name": "Margin%"
                                    }
                                ]
                            },
                            "data": [
                                {
                                    "0": "2016-01-01",
                                    "1": "61321",
                                    "2": "\"The Gu\" red shirt XML tag t-shirt (White) XXS",
                                    "3": "Clothing",
                                    "4": "1490.40",
                                    "5": "792.00",
                                    "6": "72",
                                    "7": "53.1400966183574879"
                                },
                                {
                                    "0": "2016-01-01",
                                    "1": "61321",
                                    "2": "\"The Gu\" red shirt XML tag t-shirt (White) XXS",
                                    "3": "T-Shirts",
                                    "4": "1490.40",
                                    "5": "792.00",
                                    "6": "72",
                                    "7": "53.1400966183574879"
                                },
                                {
                                    "0": "2016-01-01",
                                    "1": "61321",
                                    "2": "\"The Gu\" red shirt XML tag t-shirt (White) XXS",
                                    "3": "Computing Novelties",
                                    "4": "1490.40",
                                    "5": "792.00",
                                    "6": "72",
                                    "7": "53.1400966183574879"
                                },
                                {
                                    "0": "2016-01-01",
                                    "1": "61322",
                                    "2": "Tape dispenser (Red)",
                                    "3": "Packaging Materials",
                                    "4": "1840.00",
                                    "5": "750.00",
                                    "6": "50",
                                    "7": "40.7608695652173913"
                                },
                                {
                                    "0": "2016-01-01",
                                    "1": "61323",
                                    "2": "\"The Gu\" red shirt XML tag t-shirt (White) XS",
                                    "3": "Clothing",
                                    "4": "1242.00",
                                    "5": "660.00",
                                    "6": "60",
                                    "7": "53.1400966183574879"
                                },
                                {
                                    "0": "2016-01-01",
                                    "1": "61323",
                                    "2": "\"The Gu\" red shirt XML tag t-shirt (White) XS",
                                    "3": "T-Shirts",
                                    "4": "1242.00",
                                    "5": "660.00",
                                    "6": "60",
                                    "7": "53.1400966183574879"
                                },
                                {
                                    "0": "2016-01-01",
                                    "1": "61323",
                                    "2": "\"The Gu\" red shirt XML tag t-shirt (White) XS",
                                    "3": "Computing Novelties",
                                    "4": "1242.00",
                                    "5": "660.00",
                                    "6": "60",
                                    "7": "53.1400966183574879"
                                },
                                {
                                    "0": "2016-01-01",
                                    "1": "61324",
                                    "2": "Black and orange glass with care despatch tape 48mmx75m",
                                    "3": "Packaging Materials",
                                    "4": "510.60",
                                    "5": "252.00",
                                    "6": "120",
                                    "7": "49.3537015276145710"
                                },
                                {
                                    "0": "2016-01-01",
                                    "1": "61325",
                                    "2": "Shipping carton (Brown) 305x305x305mm",
                                    "3": "Packaging Materials",
                                    "4": "503.13",
                                    "5": "200.00",
                                    "6": "125",
                                    "7": "39.7511577524695406"
                                },
                                {
                                    "0": "2016-01-01",
                                    "1": "61326",
                                    "2": "\"The Gu\" red shirt XML tag t-shirt (White) 5XL",
                                    "3": "Clothing",
                                    "4": "745.20",
                                    "5": "360.00",
                                    "6": "36",
                                    "7": "48.3091787439613526"
                                }
                            ]
                        },
                        "text/html": "<table><tr><th>InvoiceDate</th><th>InvoiceID</th><th>StockItemName</th><th>StockGroupName</th><th>Revenue</th><th>Profit</th><th>Quantity</th><th>Margin%</th></tr><tr><td>2016-01-01</td><td>61321</td><td>&quot;The Gu&quot; red shirt XML tag t-shirt (White) XXS</td><td>Clothing</td><td>1490.40</td><td>792.00</td><td>72</td><td>53.1400966183574879</td></tr><tr><td>2016-01-01</td><td>61321</td><td>&quot;The Gu&quot; red shirt XML tag t-shirt (White) XXS</td><td>T-Shirts</td><td>1490.40</td><td>792.00</td><td>72</td><td>53.1400966183574879</td></tr><tr><td>2016-01-01</td><td>61321</td><td>&quot;The Gu&quot; red shirt XML tag t-shirt (White) XXS</td><td>Computing Novelties</td><td>1490.40</td><td>792.00</td><td>72</td><td>53.1400966183574879</td></tr><tr><td>2016-01-01</td><td>61322</td><td>Tape dispenser (Red)</td><td>Packaging Materials</td><td>1840.00</td><td>750.00</td><td>50</td><td>40.7608695652173913</td></tr><tr><td>2016-01-01</td><td>61323</td><td>&quot;The Gu&quot; red shirt XML tag t-shirt (White) XS</td><td>Clothing</td><td>1242.00</td><td>660.00</td><td>60</td><td>53.1400966183574879</td></tr><tr><td>2016-01-01</td><td>61323</td><td>&quot;The Gu&quot; red shirt XML tag t-shirt (White) XS</td><td>T-Shirts</td><td>1242.00</td><td>660.00</td><td>60</td><td>53.1400966183574879</td></tr><tr><td>2016-01-01</td><td>61323</td><td>&quot;The Gu&quot; red shirt XML tag t-shirt (White) XS</td><td>Computing Novelties</td><td>1242.00</td><td>660.00</td><td>60</td><td>53.1400966183574879</td></tr><tr><td>2016-01-01</td><td>61324</td><td>Black and orange glass with care despatch tape 48mmx75m</td><td>Packaging Materials</td><td>510.60</td><td>252.00</td><td>120</td><td>49.3537015276145710</td></tr><tr><td>2016-01-01</td><td>61325</td><td>Shipping carton (Brown) 305x305x305mm</td><td>Packaging Materials</td><td>503.13</td><td>200.00</td><td>125</td><td>39.7511577524695406</td></tr><tr><td>2016-01-01</td><td>61326</td><td>&quot;The Gu&quot; red shirt XML tag t-shirt (White) 5XL</td><td>Clothing</td><td>745.20</td><td>360.00</td><td>36</td><td>48.3091787439613526</td></tr></table>"
                    },
                    "metadata": {}
                }
            ],
            "execution_count": 44
        },
        {
            "cell_type": "markdown",
            "source": [
                "Show the number of unique stock items and unique stock item groups sold in January"
            ],
            "metadata": {
                "azdata_cell_guid": "5b07b670-abbd-42a5-807d-eeac3578cab6"
            }
        },
        {
            "cell_type": "code",
            "source": [
                "USE WideWorldImporters;\r\n",
                "\r\n",
                "-- Must use the same start and end date for the analysis in this paper. \r\n",
                "DECLARE @StartDate DATETIME = '20160101'; \r\n",
                "DECLARE @EndDate DATETIME = DATEADD(MONTH, 1, @StartDate);\r\n",
                "\r\n",
                "SELECT \r\n",
                "     COUNT(DISTINCT si.StockItemName) UniqueStockItem\r\n",
                "    ,COUNT(DISTINCT gr.StockGroupName) UniqueStockGroup\r\n",
                "FROM Sales.InvoiceLines il\r\n",
                "    INNER JOIN Sales.Invoices i\r\n",
                "        ON i.InvoiceID = il.InvoiceID\r\n",
                "    INNER JOIN Warehouse.StockItems_Archive si\r\n",
                "        ON si.StockItemID = il.StockItemID \r\n",
                "        AND i.InvoiceDate BETWEEN si.ValidFrom AND si.ValidTo    \r\n",
                "    INNER JOIN Warehouse.StockItemStockGroups sg\r\n",
                "        ON sg.StockItemID = si.StockItemID        \r\n",
                "    INNER JOIN Warehouse.StockGroups gr\r\n",
                "        ON gr.StockGroupID = sg.StockGroupID\r\n",
                "        AND i.InvoiceDate BETWEEN gr.ValidFrom AND gr.ValidTo\r\n",
                "WHERE i.InvoiceDate >= @StartDate\r\n",
                "AND  i.InvoiceDate < @EndDate;"
            ],
            "metadata": {
                "azdata_cell_guid": "76dc5fe6-4da0-4f99-b665-652014213342"
            },
            "outputs": [
                {
                    "output_type": "display_data",
                    "data": {
                        "text/html": "(1 row affected)"
                    },
                    "metadata": {}
                },
                {
                    "output_type": "display_data",
                    "data": {
                        "text/html": "Total execution time: 00:00:00.163"
                    },
                    "metadata": {}
                },
                {
                    "output_type": "execute_result",
                    "execution_count": 45,
                    "data": {
                        "application/vnd.dataresource+json": {
                            "schema": {
                                "fields": [
                                    {
                                        "name": "UniqueStockItem"
                                    },
                                    {
                                        "name": "UniqueStockGroup"
                                    }
                                ]
                            },
                            "data": [
                                {
                                    "0": "227",
                                    "1": "9"
                                }
                            ]
                        },
                        "text/html": "<table><tr><th>UniqueStockItem</th><th>UniqueStockGroup</th></tr><tr><td>227</td><td>9</td></tr></table>"
                    },
                    "metadata": {}
                }
            ],
            "execution_count": 45
        },
        {
            "cell_type": "markdown",
            "source": [
                "## Step 2 - Identify Group A\r\n",
                "\r\n",
                "**Group A**: After iterative discussions with marketing, we think that there are some stock items with high margin but low contribution to Total Revenue and Total Profit. \r\n",
                "\r\n",
                "High margin refers to those that have higher than the Margin Percentage of all invoices in Jan 2016. "
            ],
            "metadata": {
                "azdata_cell_guid": "ad8b9843-6c65-4d7d-8275-ae3449bc3a70"
            }
        },
        {
            "cell_type": "code",
            "source": [
                "USE WideWorldImporters;\r\n",
                "\r\n",
                "-- Must use the same start and end date for the analysis in this paper. \r\n",
                "DECLARE @StartDate DATETIME = '20160101'; \r\n",
                "DECLARE @EndDate DATETIME = DATEADD(MONTH, 1, @StartDate);\r\n",
                "\r\n",
                "DECLARE @TotalRevenue AS DECIMAL(18, 2);\r\n",
                "DECLARE @TotalProfit AS DECIMAL(18, 2);\r\n",
                "DECLARE @MarginPct AS DECIMAL(18,2);\r\n",
                "DECLARE @LowProfitContribution AS DECIMAL(18,2) = 10;\r\n",
                "\r\n",
                "SELECT\r\n",
                "     @TotalRevenue  = SUM(il.ExtendedPrice)\r\n",
                "    ,@TotalProfit   = SUM(il.LineProfit)\r\n",
                "    ,@MarginPct     = SUM(il.LineProfit) * 100 / SUM(il.ExtendedPrice)\r\n",
                "FROM Sales.InvoiceLines il\r\n",
                "    INNER JOIN Sales.Invoices i\r\n",
                "        ON i.InvoiceID = il.InvoiceID\r\n",
                "WHERE i.InvoiceDate >= @StartDate\r\n",
                "AND  i.InvoiceDate < @EndDate;\r\n",
                "\r\n",
                "SELECT @TotalRevenue AS TotalRevenue, @TotalProfit AS TotalProfit, @MarginPct AS [Margin%];\r\n",
                "\r\n",
                "SELECT \r\n",
                "    --  COUNT(DISTINCT g.StockItemStockGroupID) StockGroups\r\n",
                "     gr.StockGroupName\r\n",
                "    ,SUM(il.ExtendedPrice) Revenue\r\n",
                "    ,SUM(il.LineProfit) Profit\r\n",
                "    ,SUM(il.Quantity) Quantity\r\n",
                "    ,SUM(il.LineProfit) * 100.0 / SUM(il.ExtendedPrice) AS [Margin%]\r\n",
                "    ,SUM(il.ExtendedPrice) * 100.0 / @TotalRevenue AS [%TotalRevenue]\r\n",
                "    ,SUM(il.LineProfit) * 100.0 / @TotalProfit AS [%TotalProfit]\r\n",
                "    ,COUNT(DISTINCT si.StockItemName) StockItems\r\n",
                "FROM Sales.InvoiceLines il\r\n",
                "    INNER JOIN Sales.Invoices i\r\n",
                "        ON i.InvoiceID = il.InvoiceID\r\n",
                "    INNER JOIN Warehouse.StockItems_Archive si\r\n",
                "        ON si.StockItemID = il.StockItemID \r\n",
                "        AND i.InvoiceDate BETWEEN si.ValidFrom AND si.ValidTo    \r\n",
                "    INNER JOIN Warehouse.StockItemStockGroups sg\r\n",
                "        ON sg.StockItemID = si.StockItemID        \r\n",
                "    INNER JOIN Warehouse.StockGroups gr\r\n",
                "        ON gr.StockGroupID = sg.StockGroupID\r\n",
                "        AND i.InvoiceDate BETWEEN gr.ValidFrom AND gr.ValidTo\r\n",
                "WHERE i.InvoiceDate >= @StartDate\r\n",
                "AND  i.InvoiceDate < @EndDate\r\n",
                "GROUP BY gr.StockGroupName\r\n",
                "HAVING SUM(il.LineProfit) * 100.0 / SUM(il.ExtendedPrice) > @MarginPct\r\n",
                "AND SUM(il.LineProfit) * 100.0 / @TotalProfit < @LowProfitContribution\r\n",
                "ORDER BY Revenue DESC"
            ],
            "metadata": {
                "azdata_cell_guid": "dbc42ec0-ff97-476a-906d-b2bddd8adb8c"
            },
            "outputs": [
                {
                    "output_type": "display_data",
                    "data": {
                        "text/html": "(1 row affected)"
                    },
                    "metadata": {}
                },
                {
                    "output_type": "display_data",
                    "data": {
                        "text/html": "(3 rows affected)"
                    },
                    "metadata": {}
                },
                {
                    "output_type": "display_data",
                    "data": {
                        "text/html": "Total execution time: 00:00:00.193"
                    },
                    "metadata": {}
                },
                {
                    "output_type": "execute_result",
                    "execution_count": 46,
                    "data": {
                        "application/vnd.dataresource+json": {
                            "schema": {
                                "fields": [
                                    {
                                        "name": "TotalRevenue"
                                    },
                                    {
                                        "name": "TotalProfit"
                                    },
                                    {
                                        "name": "Margin%"
                                    }
                                ]
                            },
                            "data": [
                                {
                                    "0": "5103948.25",
                                    "1": "2225355.10",
                                    "2": "43.60"
                                }
                            ]
                        },
                        "text/html": "<table><tr><th>TotalRevenue</th><th>TotalProfit</th><th>Margin%</th></tr><tr><td>5103948.25</td><td>2225355.10</td><td>43.60</td></tr></table>"
                    },
                    "metadata": {}
                },
                {
                    "output_type": "execute_result",
                    "execution_count": 46,
                    "data": {
                        "application/vnd.dataresource+json": {
                            "schema": {
                                "fields": [
                                    {
                                        "name": "StockGroupName"
                                    },
                                    {
                                        "name": "Revenue"
                                    },
                                    {
                                        "name": "Profit"
                                    },
                                    {
                                        "name": "Quantity"
                                    },
                                    {
                                        "name": "Margin%"
                                    },
                                    {
                                        "name": "%TotalRevenue"
                                    },
                                    {
                                        "name": "%TotalProfit"
                                    },
                                    {
                                        "name": "StockItems"
                                    }
                                ]
                            },
                            "data": [
                                {
                                    "0": "Furry Footwear",
                                    "1": "139200.60",
                                    "2": "88993.50",
                                    "3": "8592",
                                    "4": "63.931836",
                                    "5": "2.727312",
                                    "6": "3.999069",
                                    "7": "24"
                                },
                                {
                                    "0": "USB Novelties",
                                    "1": "106415.64",
                                    "2": "47177.30",
                                    "3": "1989",
                                    "4": "44.333051",
                                    "5": "2.084967",
                                    "6": "2.119989",
                                    "7": "14"
                                },
                                {
                                    "0": "Mugs",
                                    "1": "90896.00",
                                    "2": "51680.00",
                                    "3": "6080",
                                    "4": "56.856187",
                                    "5": "1.780895",
                                    "6": "2.322325",
                                    "7": "42"
                                }
                            ]
                        },
                        "text/html": "<table><tr><th>StockGroupName</th><th>Revenue</th><th>Profit</th><th>Quantity</th><th>Margin%</th><th>%TotalRevenue</th><th>%TotalProfit</th><th>StockItems</th></tr><tr><td>Furry Footwear</td><td>139200.60</td><td>88993.50</td><td>8592</td><td>63.931836</td><td>2.727312</td><td>3.999069</td><td>24</td></tr><tr><td>USB Novelties</td><td>106415.64</td><td>47177.30</td><td>1989</td><td>44.333051</td><td>2.084967</td><td>2.119989</td><td>14</td></tr><tr><td>Mugs</td><td>90896.00</td><td>51680.00</td><td>6080</td><td>56.856187</td><td>1.780895</td><td>2.322325</td><td>42</td></tr></table>"
                    },
                    "metadata": {}
                }
            ],
            "execution_count": 46
        },
        {
            "cell_type": "markdown",
            "source": [
                "## Step 3 - Identify Group B\r\n",
                "\r\n",
                "**Group B**: As part of the experimentation, we want to also understand how these stock items would perform against those with low margin and lower contribution to Total Revenue and Total Profit. \r\n",
                "\r\n",
                "High margin refers to those that have higher than the Margin Percentage of all invoices in Jan 2016. "
            ],
            "metadata": {
                "azdata_cell_guid": "73ee5a2d-eef1-47d2-8a52-a7a5c20ebcf1"
            }
        },
        {
            "cell_type": "code",
            "source": [
                "USE WideWorldImporters;\r\n",
                "\r\n",
                "-- Must use the same start and end date for the analysis in this paper. \r\n",
                "DECLARE @StartDate DATETIME = '20160101'; \r\n",
                "DECLARE @EndDate DATETIME = DATEADD(MONTH, 1, @StartDate);\r\n",
                "\r\n",
                "DECLARE @TotalRevenue AS DECIMAL(18, 2);\r\n",
                "DECLARE @TotalProfit AS DECIMAL(18, 2);\r\n",
                "DECLARE @MarginPct AS DECIMAL(18,2);\r\n",
                "DECLARE @LowRevenueContribution AS DECIMAL(18,2) = 5;\r\n",
                "\r\n",
                "SELECT\r\n",
                "     @TotalRevenue  = SUM(il.ExtendedPrice)\r\n",
                "    ,@TotalProfit   = SUM(il.LineProfit)\r\n",
                "    ,@MarginPct     = SUM(il.LineProfit) * 100 / SUM(il.ExtendedPrice)\r\n",
                "FROM Sales.InvoiceLines il\r\n",
                "    INNER JOIN Sales.Invoices i\r\n",
                "        ON i.InvoiceID = il.InvoiceID\r\n",
                "WHERE i.InvoiceDate >= @StartDate\r\n",
                "AND  i.InvoiceDate < @EndDate;\r\n",
                "\r\n",
                "SELECT @TotalRevenue AS TotalRevenue, @TotalProfit AS TotalProfit, @MarginPct AS [Margin%];\r\n",
                "\r\n",
                "SELECT \r\n",
                "     gr.StockGroupName\r\n",
                "    ,SUM(il.ExtendedPrice) Revenue\r\n",
                "    ,SUM(il.LineProfit) Profit\r\n",
                "    ,SUM(il.Quantity) Quantity\r\n",
                "    ,SUM(il.LineProfit) * 100.0 / SUM(il.ExtendedPrice) AS [Margin%]\r\n",
                "    ,SUM(il.ExtendedPrice) * 100.0 / @TotalRevenue AS [%TotalRevenue]\r\n",
                "    ,SUM(il.LineProfit) * 100.0 / @TotalProfit AS [%TotalProfit]\r\n",
                "    ,COUNT(DISTINCT si.StockItemName) StockItems\r\n",
                "FROM Sales.InvoiceLines il\r\n",
                "    INNER JOIN Sales.Invoices i\r\n",
                "        ON i.InvoiceID = il.InvoiceID\r\n",
                "    INNER JOIN Warehouse.StockItems_Archive si\r\n",
                "        ON si.StockItemID = il.StockItemID \r\n",
                "        AND i.InvoiceDate BETWEEN si.ValidFrom AND si.ValidTo    \r\n",
                "    INNER JOIN Warehouse.StockItemStockGroups sg\r\n",
                "        ON sg.StockItemID = si.StockItemID        \r\n",
                "    INNER JOIN Warehouse.StockGroups gr\r\n",
                "        ON gr.StockGroupID = sg.StockGroupID\r\n",
                "        AND i.InvoiceDate BETWEEN gr.ValidFrom AND gr.ValidTo\r\n",
                "WHERE i.InvoiceDate >= @StartDate\r\n",
                "AND  i.InvoiceDate < @EndDate\r\n",
                "GROUP BY gr.StockGroupName\r\n",
                "HAVING SUM(il.LineProfit) * 100.0 / SUM(il.ExtendedPrice) < @MarginPct\r\n",
                "AND SUM(il.ExtendedPrice) * 100.0 / @TotalRevenue > @LowRevenueContribution\r\n",
                "ORDER BY Revenue DESC"
            ],
            "metadata": {
                "azdata_cell_guid": "9bdc0959-abe0-4aec-abd8-a2e454d5f607"
            },
            "outputs": [
                {
                    "output_type": "display_data",
                    "data": {
                        "text/html": "(1 row affected)"
                    },
                    "metadata": {}
                },
                {
                    "output_type": "display_data",
                    "data": {
                        "text/html": "(3 rows affected)"
                    },
                    "metadata": {}
                },
                {
                    "output_type": "display_data",
                    "data": {
                        "text/html": "Total execution time: 00:00:00.174"
                    },
                    "metadata": {}
                },
                {
                    "output_type": "execute_result",
                    "execution_count": 47,
                    "data": {
                        "application/vnd.dataresource+json": {
                            "schema": {
                                "fields": [
                                    {
                                        "name": "TotalRevenue"
                                    },
                                    {
                                        "name": "TotalProfit"
                                    },
                                    {
                                        "name": "Margin%"
                                    }
                                ]
                            },
                            "data": [
                                {
                                    "0": "5103948.25",
                                    "1": "2225355.10",
                                    "2": "43.60"
                                }
                            ]
                        },
                        "text/html": "<table><tr><th>TotalRevenue</th><th>TotalProfit</th><th>Margin%</th></tr><tr><td>5103948.25</td><td>2225355.10</td><td>43.60</td></tr></table>"
                    },
                    "metadata": {}
                },
                {
                    "output_type": "execute_result",
                    "execution_count": 47,
                    "data": {
                        "application/vnd.dataresource+json": {
                            "schema": {
                                "fields": [
                                    {
                                        "name": "StockGroupName"
                                    },
                                    {
                                        "name": "Revenue"
                                    },
                                    {
                                        "name": "Profit"
                                    },
                                    {
                                        "name": "Quantity"
                                    },
                                    {
                                        "name": "Margin%"
                                    },
                                    {
                                        "name": "%TotalRevenue"
                                    },
                                    {
                                        "name": "%TotalProfit"
                                    },
                                    {
                                        "name": "StockItems"
                                    }
                                ]
                            },
                            "data": [
                                {
                                    "0": "Clothing",
                                    "1": "1346322.25",
                                    "2": "544115.50",
                                    "3": "65378",
                                    "4": "40.414952",
                                    "5": "26.378054",
                                    "6": "24.450726",
                                    "7": "74"
                                },
                                {
                                    "0": "Novelty Items",
                                    "1": "1172796.68",
                                    "2": "362423.70",
                                    "3": "52011",
                                    "4": "30.902517",
                                    "5": "22.978224",
                                    "6": "16.286106",
                                    "7": "91"
                                },
                                {
                                    "0": "Toys",
                                    "1": "393952.05",
                                    "2": "143940.00",
                                    "3": "3029",
                                    "4": "36.537441",
                                    "5": "7.718574",
                                    "6": "6.468181",
                                    "7": "21"
                                }
                            ]
                        },
                        "text/html": "<table><tr><th>StockGroupName</th><th>Revenue</th><th>Profit</th><th>Quantity</th><th>Margin%</th><th>%TotalRevenue</th><th>%TotalProfit</th><th>StockItems</th></tr><tr><td>Clothing</td><td>1346322.25</td><td>544115.50</td><td>65378</td><td>40.414952</td><td>26.378054</td><td>24.450726</td><td>74</td></tr><tr><td>Novelty Items</td><td>1172796.68</td><td>362423.70</td><td>52011</td><td>30.902517</td><td>22.978224</td><td>16.286106</td><td>91</td></tr><tr><td>Toys</td><td>393952.05</td><td>143940.00</td><td>3029</td><td>36.537441</td><td>7.718574</td><td>6.468181</td><td>21</td></tr></table>"
                    },
                    "metadata": {}
                }
            ],
            "execution_count": 47
        },
        {
            "cell_type": "markdown",
            "source": [
                "## Conclusion\r\n",
                "\r\n",
                "Out of the 9 stock groups sold in January 2016, these are the proposed two groups that we can do marketing experimentation with:\r\n",
                "1. **Group A** - Furry Footwear, USB Novelties and Mugs with percentage of total profit between 1.8% and 2.8%. \r\n",
                "2. **Group B** - Clothing, Novelty Items and Toys with percentagage of total profit between 6.5% and 24.4%\r\n",
                "\r\n",
                "This paper includes their January baseline of the Quntity Sold, the Profit and the Revenue. The next analysis should include these metrics including the % month over month growth. \r\n",
                "\r\n",
                ""
            ],
            "metadata": {
                "azdata_cell_guid": "a4fee37e-e28d-49c8-af1e-ff7ddd498594"
            }
        }
    ]
}