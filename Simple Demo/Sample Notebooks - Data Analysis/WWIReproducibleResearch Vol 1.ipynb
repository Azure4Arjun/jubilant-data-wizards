{
    "metadata": {
        "kernelspec": {
            "name": "SQL",
            "display_name": "SQL",
            "language": "sql"
        },
        "language_info": {
            "name": "sql",
            "version": ""
        }
    },
    "nbformat_minor": 2,
    "nbformat": 4,
    "cells": [
        {
            "cell_type": "markdown",
            "source": [
                "# Wide World Importers - Marketing Experimentation Analysis Preparation - Jan 2016\n",
                "\n",
                "_Last updated: Feb 2, 2016_ \\\n",
                "_Author(s): Julie Koesmarno_ \n",
                "\n",
                "## Abstract\n",
                "\n",
                "Wide World Importers CEO is keen to understand the revenue, profit and margin spread of their products. This paper is to prepare for the next Marketing Planning Meeting with marketing campaign as one of the topics. They would like to experiment and strategize on marketing campaign. The goal of this document is to identify the **two distinct product groups** based on predefined agreed rules for the experiments. Stock items belonging to the identified Product Groups will be subject to independent A/B marketing campaign experiements. \n",
                "\n",
                "## Introduction \n",
                "This document will use the Wide World Importers database to do analysis on product portfolio in the past month. We would like to identify the two product groups for planned experimentation in the next Marketing Planning Meeting. These are the predefined rules:\n",
                "* **Product Group 1**: After iterative discussions with marketing, we think that there are some stock items with **high Margin** but exclude those that already have high contribution to Total Revenue. \n",
                "* **Product Group 2**: As part of the experimentation, we want to also understand how these stock items would perform against those with **low Margin** but exclude those that already have high contribution to Total Revenue. \n",
                "\n",
                "Once we identify these groups, we will conclude with recommendation and potential next steps for experimentation especially what to track."
            ],
            "metadata": {
                "azdata_cell_guid": "efe8f844-c25f-4db6-8ea2-ef649adf12e3"
            }
        },
        {
            "cell_type": "markdown",
            "source": [
                "## Step 1 - Get and inspect the data\r\n",
                "\r\n",
                "To access the Wide World Importers database:\r\n",
                "\r\n",
                "| Server | Database | Credential |\r\n",
                "| --- | --- | --- |\r\n",
                "| 10.91.134.93,11433 | WideWorldImporters | Windows Auth\r\n",
                "\r\n",
                "To get a copy of your own WideWorldImporters database, go to: https://github.com/Microsoft/sql-server-samples/releases/tag/wide-world-importers-v1.0 \r\n",
                "\r\n",
                "Here's the assumption / description about the data that will be used in the analysis today.\r\n",
                "* For the purpose of analysis prepared for Feb 2016 meeting, we will use the latest month data, i.e. Jan 2016. It is possible to extend this to show month over month trend.\r\n",
                "* We will use Sales.Invoices and Sales.InvoiceLines which has information about Revenue for each invoice line item (i.e. ExtendedPrice) and Profit (i.e. LineProfit).\r\n",
                "* Warehouse.Stock* tables have more information about the stock items. \r\n",
                "* No cumulative analysis needed for this document. \r\n",
                "\r\n",
                "> Note: A stock item can belong to many different stock groups. So it is important that throughout the analysis, when / if we want to do cumulative total or percentage of cumulative total, that we choose only one group that it belongs to \"consistently\".\r\n",
                "\r\n",
                "\r\n",
                "\r\n",
                ""
            ],
            "metadata": {
                "azdata_cell_guid": "b2a2ba96-77ba-4a8d-aa66-3c99556ec97e"
            }
        },
        {
            "cell_type": "markdown",
            "source": [
                "### Show Top 10 rows from the tables that we will be using today. "
            ],
            "metadata": {
                "azdata_cell_guid": "e759ea70-ee33-4e46-90c9-1cd6d41bf51c"
            }
        },
        {
            "cell_type": "code",
            "source": [
                "USE WideWorldImporters;\r\n",
                "\r\n",
                "-- Must use the same start and end date for the analysis in this paper. \r\n",
                "DECLARE @StartDate DATETIME = '20160201';\r\n",
                "DECLARE @EndDate DATETIME = DATEADD(MONTH, 1, @StartDate);\r\n",
                "\r\n",
                "SELECT TOP 10\r\n",
                "    --  COUNT(DISTINCT g.StockItemStockGroupID) StockGroups\r\n",
                "     i.InvoiceDate\r\n",
                "    ,i.InvoiceID\r\n",
                "    ,si.StockItemName\r\n",
                "    ,gr.StockGroupName\r\n",
                "    ,il.ExtendedPrice AS Revenue\r\n",
                "    ,il.LineProfit AS Profit\r\n",
                "    ,il.Quantity\r\n",
                "    ,il.LineProfit * 100.0 / il.ExtendedPrice AS [Margin%]    \r\n",
                "FROM Sales.InvoiceLines il\r\n",
                "    INNER JOIN Sales.Invoices i\r\n",
                "        ON i.InvoiceID = il.InvoiceID\r\n",
                "    INNER JOIN Warehouse.StockItems_Archive si\r\n",
                "        ON si.StockItemID = il.StockItemID \r\n",
                "        AND i.InvoiceDate BETWEEN si.ValidFrom AND si.ValidTo    \r\n",
                "    INNER JOIN Warehouse.StockItemStockGroups sg\r\n",
                "        ON sg.StockItemID = si.StockItemID        \r\n",
                "    INNER JOIN Warehouse.StockGroups gr\r\n",
                "        ON gr.StockGroupID = sg.StockGroupID\r\n",
                "        AND i.InvoiceDate BETWEEN gr.ValidFrom AND gr.ValidTo\r\n",
                "WHERE i.InvoiceDate >= '20160101'\r\n",
                "AND  i.InvoiceDate < '20160201'\r\n",
                "ORDER BY i.InvoiceID, i.InvoiceDate, si.StockItemName"
            ],
            "metadata": {
                "azdata_cell_guid": "375ce5e3-5ca0-4276-b6ec-d060e1bcc326",
                "tags": [
                    "hide_input"
                ]
            },
            "outputs": [
                {
                    "output_type": "display_data",
                    "data": {
                        "text/html": "Commands completed successfully."
                    },
                    "metadata": {}
                },
                {
                    "output_type": "display_data",
                    "data": {
                        "text/html": "Total execution time: 00:00:00.103"
                    },
                    "metadata": {}
                },
                {
                    "output_type": "execute_result",
                    "execution_count": 22,
                    "data": {
                        "application/vnd.dataresource+json": {
                            "schema": {
                                "fields": [
                                    {
                                        "name": "InvoiceDate"
                                    },
                                    {
                                        "name": "InvoiceID"
                                    },
                                    {
                                        "name": "StockItemName"
                                    },
                                    {
                                        "name": "StockGroupName"
                                    },
                                    {
                                        "name": "Revenue"
                                    },
                                    {
                                        "name": "Profit"
                                    },
                                    {
                                        "name": "Quantity"
                                    },
                                    {
                                        "name": "Margin%"
                                    }
                                ]
                            },
                            "data": [
                                {
                                    "0": "2016-01-01",
                                    "1": "61321",
                                    "2": "\"The Gu\" red shirt XML tag t-shirt (White) XXS",
                                    "3": "Clothing",
                                    "4": "1490.40",
                                    "5": "792.00",
                                    "6": "72",
                                    "7": "53.1400966183574879"
                                },
                                {
                                    "0": "2016-01-01",
                                    "1": "61321",
                                    "2": "\"The Gu\" red shirt XML tag t-shirt (White) XXS",
                                    "3": "T-Shirts",
                                    "4": "1490.40",
                                    "5": "792.00",
                                    "6": "72",
                                    "7": "53.1400966183574879"
                                },
                                {
                                    "0": "2016-01-01",
                                    "1": "61321",
                                    "2": "\"The Gu\" red shirt XML tag t-shirt (White) XXS",
                                    "3": "Computing Novelties",
                                    "4": "1490.40",
                                    "5": "792.00",
                                    "6": "72",
                                    "7": "53.1400966183574879"
                                },
                                {
                                    "0": "2016-01-01",
                                    "1": "61322",
                                    "2": "Tape dispenser (Red)",
                                    "3": "Packaging Materials",
                                    "4": "1840.00",
                                    "5": "750.00",
                                    "6": "50",
                                    "7": "40.7608695652173913"
                                },
                                {
                                    "0": "2016-01-01",
                                    "1": "61323",
                                    "2": "\"The Gu\" red shirt XML tag t-shirt (White) XS",
                                    "3": "Clothing",
                                    "4": "1242.00",
                                    "5": "660.00",
                                    "6": "60",
                                    "7": "53.1400966183574879"
                                },
                                {
                                    "0": "2016-01-01",
                                    "1": "61323",
                                    "2": "\"The Gu\" red shirt XML tag t-shirt (White) XS",
                                    "3": "T-Shirts",
                                    "4": "1242.00",
                                    "5": "660.00",
                                    "6": "60",
                                    "7": "53.1400966183574879"
                                },
                                {
                                    "0": "2016-01-01",
                                    "1": "61323",
                                    "2": "\"The Gu\" red shirt XML tag t-shirt (White) XS",
                                    "3": "Computing Novelties",
                                    "4": "1242.00",
                                    "5": "660.00",
                                    "6": "60",
                                    "7": "53.1400966183574879"
                                },
                                {
                                    "0": "2016-01-01",
                                    "1": "61324",
                                    "2": "Black and orange glass with care despatch tape 48mmx75m",
                                    "3": "Packaging Materials",
                                    "4": "510.60",
                                    "5": "252.00",
                                    "6": "120",
                                    "7": "49.3537015276145710"
                                },
                                {
                                    "0": "2016-01-01",
                                    "1": "61325",
                                    "2": "Shipping carton (Brown) 305x305x305mm",
                                    "3": "Packaging Materials",
                                    "4": "503.13",
                                    "5": "200.00",
                                    "6": "125",
                                    "7": "39.7511577524695406"
                                },
                                {
                                    "0": "2016-01-01",
                                    "1": "61326",
                                    "2": "\"The Gu\" red shirt XML tag t-shirt (White) 5XL",
                                    "3": "Clothing",
                                    "4": "745.20",
                                    "5": "360.00",
                                    "6": "36",
                                    "7": "48.3091787439613526"
                                }
                            ]
                        },
                        "text/html": "<table><tr><th>InvoiceDate</th><th>InvoiceID</th><th>StockItemName</th><th>StockGroupName</th><th>Revenue</th><th>Profit</th><th>Quantity</th><th>Margin%</th></tr><tr><td>2016-01-01</td><td>61321</td><td>&quot;The Gu&quot; red shirt XML tag t-shirt (White) XXS</td><td>Clothing</td><td>1490.40</td><td>792.00</td><td>72</td><td>53.1400966183574879</td></tr><tr><td>2016-01-01</td><td>61321</td><td>&quot;The Gu&quot; red shirt XML tag t-shirt (White) XXS</td><td>T-Shirts</td><td>1490.40</td><td>792.00</td><td>72</td><td>53.1400966183574879</td></tr><tr><td>2016-01-01</td><td>61321</td><td>&quot;The Gu&quot; red shirt XML tag t-shirt (White) XXS</td><td>Computing Novelties</td><td>1490.40</td><td>792.00</td><td>72</td><td>53.1400966183574879</td></tr><tr><td>2016-01-01</td><td>61322</td><td>Tape dispenser (Red)</td><td>Packaging Materials</td><td>1840.00</td><td>750.00</td><td>50</td><td>40.7608695652173913</td></tr><tr><td>2016-01-01</td><td>61323</td><td>&quot;The Gu&quot; red shirt XML tag t-shirt (White) XS</td><td>Clothing</td><td>1242.00</td><td>660.00</td><td>60</td><td>53.1400966183574879</td></tr><tr><td>2016-01-01</td><td>61323</td><td>&quot;The Gu&quot; red shirt XML tag t-shirt (White) XS</td><td>T-Shirts</td><td>1242.00</td><td>660.00</td><td>60</td><td>53.1400966183574879</td></tr><tr><td>2016-01-01</td><td>61323</td><td>&quot;The Gu&quot; red shirt XML tag t-shirt (White) XS</td><td>Computing Novelties</td><td>1242.00</td><td>660.00</td><td>60</td><td>53.1400966183574879</td></tr><tr><td>2016-01-01</td><td>61324</td><td>Black and orange glass with care despatch tape 48mmx75m</td><td>Packaging Materials</td><td>510.60</td><td>252.00</td><td>120</td><td>49.3537015276145710</td></tr><tr><td>2016-01-01</td><td>61325</td><td>Shipping carton (Brown) 305x305x305mm</td><td>Packaging Materials</td><td>503.13</td><td>200.00</td><td>125</td><td>39.7511577524695406</td></tr><tr><td>2016-01-01</td><td>61326</td><td>&quot;The Gu&quot; red shirt XML tag t-shirt (White) 5XL</td><td>Clothing</td><td>745.20</td><td>360.00</td><td>36</td><td>48.3091787439613526</td></tr></table>"
                    },
                    "metadata": {}
                }
            ],
            "execution_count": 22
        },
        {
            "cell_type": "markdown",
            "source": [
                "Show the number of unique stock items and unique stock item groups sold in January"
            ],
            "metadata": {
                "azdata_cell_guid": "5b07b670-abbd-42a5-807d-eeac3578cab6"
            }
        },
        {
            "cell_type": "code",
            "source": [
                "USE WideWorldImporters;\r\n",
                "\r\n",
                "-- Must use the same start and end date for the analysis in this paper. \r\n",
                "DECLARE @StartDate DATETIME = '20160201'; \r\n",
                "DECLARE @EndDate DATETIME = DATEADD(MONTH, 1, @StartDate);\r\n",
                "\r\n",
                "SELECT \r\n",
                "     COUNT(DISTINCT si.StockItemName) UniqueStockItem\r\n",
                "    ,COUNT(DISTINCT gr.StockGroupName) UniqueStockGroup\r\n",
                "FROM Sales.InvoiceLines il\r\n",
                "    INNER JOIN Sales.Invoices i\r\n",
                "        ON i.InvoiceID = il.InvoiceID\r\n",
                "    INNER JOIN Warehouse.StockItems_Archive si\r\n",
                "        ON si.StockItemID = il.StockItemID \r\n",
                "        AND i.InvoiceDate BETWEEN si.ValidFrom AND si.ValidTo    \r\n",
                "    INNER JOIN Warehouse.StockItemStockGroups sg\r\n",
                "        ON sg.StockItemID = si.StockItemID        \r\n",
                "    INNER JOIN Warehouse.StockGroups gr\r\n",
                "        ON gr.StockGroupID = sg.StockGroupID\r\n",
                "        AND i.InvoiceDate BETWEEN gr.ValidFrom AND gr.ValidTo\r\n",
                "WHERE i.InvoiceDate >= @StartDate\r\n",
                "AND  i.InvoiceDate < @EndDate;"
            ],
            "metadata": {
                "azdata_cell_guid": "76dc5fe6-4da0-4f99-b665-652014213342",
                "tags": [
                    "hide_input"
                ]
            },
            "outputs": [
                {
                    "output_type": "display_data",
                    "data": {
                        "text/html": "Commands completed successfully."
                    },
                    "metadata": {}
                },
                {
                    "output_type": "display_data",
                    "data": {
                        "text/html": "Total execution time: 00:00:00.146"
                    },
                    "metadata": {}
                },
                {
                    "output_type": "execute_result",
                    "execution_count": 23,
                    "data": {
                        "application/vnd.dataresource+json": {
                            "schema": {
                                "fields": [
                                    {
                                        "name": "UniqueStockItem"
                                    },
                                    {
                                        "name": "UniqueStockGroup"
                                    }
                                ]
                            },
                            "data": [
                                {
                                    "0": "227",
                                    "1": "9"
                                }
                            ]
                        },
                        "text/html": "<table><tr><th>UniqueStockItem</th><th>UniqueStockGroup</th></tr><tr><td>227</td><td>9</td></tr></table>"
                    },
                    "metadata": {}
                }
            ],
            "execution_count": 23
        },
        {
            "cell_type": "markdown",
            "source": [
                "## Step 2 - Identify Product Group 1\r\n",
                "\r\n",
                "**Product Group 1**: After iterative discussions with marketing, we think that there are some stock items with **high Margin** but low contribution to Total Revenue. \r\n",
                "\r\n",
                "High margin refers to those that have higher than the Margin Percentage of all invoices in Jan 2016. "
            ],
            "metadata": {
                "azdata_cell_guid": "ad8b9843-6c65-4d7d-8275-ae3449bc3a70"
            }
        },
        {
            "cell_type": "code",
            "source": [
                "USE WideWorldImporters;\r\n",
                "\r\n",
                "SET NOCOUNT ON;\r\n",
                "\r\n",
                "DROP TABLE IF EXISTS #ProductGroup1;\r\n",
                "\r\n",
                "-- Must use the same start and end date for the analysis in this paper. \r\n",
                "DECLARE @StartDate DATETIME = '20160201'; \r\n",
                "DECLARE @EndDate DATETIME = DATEADD(MONTH, 1, @StartDate);\r\n",
                "\r\n",
                "DECLARE @TotalRevenue AS DECIMAL(18, 2);\r\n",
                "DECLARE @TotalProfit AS DECIMAL(18, 2);\r\n",
                "DECLARE @MarginPct AS DECIMAL(18,2);\r\n",
                "DECLARE @LowRevenueContribution AS DECIMAL(18,2) = 10;\r\n",
                "\r\n",
                "SELECT\r\n",
                "     @TotalRevenue  = SUM(il.ExtendedPrice)\r\n",
                "    ,@TotalProfit   = SUM(il.LineProfit)\r\n",
                "    ,@MarginPct     = SUM(il.LineProfit) * 100 / SUM(il.ExtendedPrice)\r\n",
                "FROM Sales.InvoiceLines il\r\n",
                "    INNER JOIN Sales.Invoices i\r\n",
                "        ON i.InvoiceID = il.InvoiceID\r\n",
                "WHERE i.InvoiceDate >= @StartDate\r\n",
                "AND  i.InvoiceDate < @EndDate;\r\n",
                "\r\n",
                "SELECT \r\n",
                "     @MarginPct AS [% Margin Threshold]\r\n",
                "    ,@LowRevenueContribution AS [% Low Revenue Threshold];\r\n",
                "\r\n",
                "\r\n",
                "SELECT \r\n",
                "    --  COUNT(DISTINCT g.StockItemStockGroupID) StockGroups\r\n",
                "     gr.StockGroupName\r\n",
                "    ,SUM(il.ExtendedPrice) Revenue\r\n",
                "    ,SUM(il.LineProfit) Profit\r\n",
                "    ,SUM(il.Quantity) QuantitySold\r\n",
                "    ,SUM(il.LineProfit) * 100.0 / SUM(il.ExtendedPrice) AS [Margin%]\r\n",
                "    ,SUM(il.ExtendedPrice) * 100.0 / @TotalRevenue AS [%TotalRevenue]\r\n",
                "    -- ,SUM(il.LineProfit) * 100.0 / @TotalProfit AS [%TotalProfit]\r\n",
                "    ,COUNT(DISTINCT si.StockItemName) StockItems\r\n",
                "INTO #ProductGroup1\r\n",
                "FROM Sales.InvoiceLines il\r\n",
                "    INNER JOIN Sales.Invoices i\r\n",
                "        ON i.InvoiceID = il.InvoiceID\r\n",
                "    INNER JOIN Warehouse.StockItems_Archive si\r\n",
                "        ON si.StockItemID = il.StockItemID \r\n",
                "        AND i.InvoiceDate BETWEEN si.ValidFrom AND si.ValidTo    \r\n",
                "    INNER JOIN Warehouse.StockItemStockGroups sg\r\n",
                "        ON sg.StockItemID = si.StockItemID        \r\n",
                "    INNER JOIN Warehouse.StockGroups gr\r\n",
                "        ON gr.StockGroupID = sg.StockGroupID\r\n",
                "        AND i.InvoiceDate BETWEEN gr.ValidFrom AND gr.ValidTo\r\n",
                "WHERE i.InvoiceDate >= @StartDate\r\n",
                "AND  i.InvoiceDate < @EndDate\r\n",
                "GROUP BY gr.StockGroupName\r\n",
                "HAVING SUM(il.LineProfit) * 100.0 / SUM(il.ExtendedPrice) > @MarginPct\r\n",
                "AND SUM(il.ExtendedPrice) * 100.0 / @TotalRevenue < @LowRevenueContribution;\r\n",
                "\r\n",
                "SELECT * FROM #ProductGroup1\r\n",
                "ORDER BY Revenue DESC;\r\n",
                "\r\n",
                "SELECT DISTINCT\r\n",
                "    pg.StockGroupName\r\n",
                "    ,si.StockItemName\r\n",
                "FROM Warehouse.StockItems si\r\n",
                "INNER JOIN Warehouse.StockItemStockGroups sg\r\n",
                "      ON sg.StockItemID = si.StockItemID        \r\n",
                "    INNER JOIN Warehouse.StockGroups gr\r\n",
                "        ON gr.StockGroupID = sg.StockGroupID\r\n",
                "    INNER JOIN #ProductGroup1 pg\r\n",
                "        ON pg.StockGroupName = gr.StockGroupName\r\n",
                "ORDER BY  \r\n",
                "     pg.StockGroupName\r\n",
                "    ,si.StockItemName;\r\n",
                ""
            ],
            "metadata": {
                "azdata_cell_guid": "dbc42ec0-ff97-476a-906d-b2bddd8adb8c",
                "tags": [
                    "hide_input"
                ]
            },
            "outputs": [
                {
                    "output_type": "display_data",
                    "data": {
                        "text/html": "Commands completed successfully."
                    },
                    "metadata": {}
                },
                {
                    "output_type": "display_data",
                    "data": {
                        "text/html": "Total execution time: 00:00:00.155"
                    },
                    "metadata": {}
                },
                {
                    "output_type": "execute_result",
                    "execution_count": 24,
                    "data": {
                        "application/vnd.dataresource+json": {
                            "schema": {
                                "fields": [
                                    {
                                        "name": "% Margin Threshold"
                                    },
                                    {
                                        "name": "% Low Revenue Threshold"
                                    }
                                ]
                            },
                            "data": [
                                {
                                    "0": "42.98",
                                    "1": "10.00"
                                }
                            ]
                        },
                        "text/html": "<table><tr><th>% Margin Threshold</th><th>% Low Revenue Threshold</th></tr><tr><td>42.98</td><td>10.00</td></tr></table>"
                    },
                    "metadata": {}
                },
                {
                    "output_type": "execute_result",
                    "execution_count": 24,
                    "data": {
                        "application/vnd.dataresource+json": {
                            "schema": {
                                "fields": [
                                    {
                                        "name": "StockGroupName"
                                    },
                                    {
                                        "name": "Revenue"
                                    },
                                    {
                                        "name": "Profit"
                                    },
                                    {
                                        "name": "QuantitySold"
                                    },
                                    {
                                        "name": "Margin%"
                                    },
                                    {
                                        "name": "%TotalRevenue"
                                    },
                                    {
                                        "name": "StockItems"
                                    }
                                ]
                            },
                            "data": [
                                {
                                    "0": "Furry Footwear",
                                    "1": "116462.80",
                                    "2": "74418.50",
                                    "3": "7316",
                                    "4": "63.898944",
                                    "5": "2.533708",
                                    "6": "24"
                                },
                                {
                                    "0": "Mugs",
                                    "1": "81567.20",
                                    "2": "46376.00",
                                    "3": "5456",
                                    "4": "56.856187",
                                    "5": "1.774536",
                                    "6": "42"
                                }
                            ]
                        },
                        "text/html": "<table><tr><th>StockGroupName</th><th>Revenue</th><th>Profit</th><th>QuantitySold</th><th>Margin%</th><th>%TotalRevenue</th><th>StockItems</th></tr><tr><td>Furry Footwear</td><td>116462.80</td><td>74418.50</td><td>7316</td><td>63.898944</td><td>2.533708</td><td>24</td></tr><tr><td>Mugs</td><td>81567.20</td><td>46376.00</td><td>5456</td><td>56.856187</td><td>1.774536</td><td>42</td></tr></table>"
                    },
                    "metadata": {}
                },
                {
                    "output_type": "execute_result",
                    "execution_count": 24,
                    "data": {
                        "application/vnd.dataresource+json": {
                            "schema": {
                                "fields": [
                                    {
                                        "name": "StockGroupName"
                                    },
                                    {
                                        "name": "StockItemName"
                                    }
                                ]
                            },
                            "data": [
                                {
                                    "0": "Furry Footwear",
                                    "1": "Animal with big feet slippers (Brown) L"
                                },
                                {
                                    "0": "Furry Footwear",
                                    "1": "Animal with big feet slippers (Brown) M"
                                },
                                {
                                    "0": "Furry Footwear",
                                    "1": "Animal with big feet slippers (Brown) S"
                                },
                                {
                                    "0": "Furry Footwear",
                                    "1": "Animal with big feet slippers (Brown) XL"
                                },
                                {
                                    "0": "Furry Footwear",
                                    "1": "Dinosaur battery-powered slippers (Green) L"
                                },
                                {
                                    "0": "Furry Footwear",
                                    "1": "Dinosaur battery-powered slippers (Green) M"
                                },
                                {
                                    "0": "Furry Footwear",
                                    "1": "Dinosaur battery-powered slippers (Green) S"
                                },
                                {
                                    "0": "Furry Footwear",
                                    "1": "Dinosaur battery-powered slippers (Green) XL"
                                },
                                {
                                    "0": "Furry Footwear",
                                    "1": "Furry animal socks (Pink) L"
                                },
                                {
                                    "0": "Furry Footwear",
                                    "1": "Furry animal socks (Pink) M"
                                },
                                {
                                    "0": "Furry Footwear",
                                    "1": "Furry animal socks (Pink) S"
                                },
                                {
                                    "0": "Furry Footwear",
                                    "1": "Furry animal socks (Pink) XL"
                                },
                                {
                                    "0": "Furry Footwear",
                                    "1": "Furry gorilla with big eyes slippers (Black) L"
                                },
                                {
                                    "0": "Furry Footwear",
                                    "1": "Furry gorilla with big eyes slippers (Black) M"
                                },
                                {
                                    "0": "Furry Footwear",
                                    "1": "Furry gorilla with big eyes slippers (Black) S"
                                },
                                {
                                    "0": "Furry Footwear",
                                    "1": "Furry gorilla with big eyes slippers (Black) XL"
                                },
                                {
                                    "0": "Furry Footwear",
                                    "1": "Ogre battery-powered slippers (Green) L"
                                },
                                {
                                    "0": "Furry Footwear",
                                    "1": "Ogre battery-powered slippers (Green) M"
                                },
                                {
                                    "0": "Furry Footwear",
                                    "1": "Ogre battery-powered slippers (Green) S"
                                },
                                {
                                    "0": "Furry Footwear",
                                    "1": "Ogre battery-powered slippers (Green) XL"
                                },
                                {
                                    "0": "Furry Footwear",
                                    "1": "Plush shark slippers (Gray) L"
                                },
                                {
                                    "0": "Furry Footwear",
                                    "1": "Plush shark slippers (Gray) M"
                                },
                                {
                                    "0": "Furry Footwear",
                                    "1": "Plush shark slippers (Gray) S"
                                },
                                {
                                    "0": "Furry Footwear",
                                    "1": "Plush shark slippers (Gray) XL"
                                },
                                {
                                    "0": "Mugs",
                                    "1": "DBA joke mug - daaaaaa-ta (Black)"
                                },
                                {
                                    "0": "Mugs",
                                    "1": "DBA joke mug - daaaaaa-ta (White)"
                                },
                                {
                                    "0": "Mugs",
                                    "1": "DBA joke mug - I will get you in order (Black)"
                                },
                                {
                                    "0": "Mugs",
                                    "1": "DBA joke mug - I will get you in order (White)"
                                },
                                {
                                    "0": "Mugs",
                                    "1": "DBA joke mug - it depends (Black)"
                                },
                                {
                                    "0": "Mugs",
                                    "1": "DBA joke mug - it depends (White)"
                                },
                                {
                                    "0": "Mugs",
                                    "1": "DBA joke mug - mind if I join you? (Black)"
                                },
                                {
                                    "0": "Mugs",
                                    "1": "DBA joke mug - mind if I join you? (White)"
                                },
                                {
                                    "0": "Mugs",
                                    "1": "DBA joke mug - SELECT caffeine FROM mug (Black)"
                                },
                                {
                                    "0": "Mugs",
                                    "1": "DBA joke mug - SELECT caffeine FROM mug (White)"
                                },
                                {
                                    "0": "Mugs",
                                    "1": "DBA joke mug - two types of DBAs (Black)"
                                },
                                {
                                    "0": "Mugs",
                                    "1": "DBA joke mug - two types of DBAs (White)"
                                },
                                {
                                    "0": "Mugs",
                                    "1": "DBA joke mug - you might be a DBA if (Black)"
                                },
                                {
                                    "0": "Mugs",
                                    "1": "DBA joke mug - you might be a DBA if (White)"
                                },
                                {
                                    "0": "Mugs",
                                    "1": "Developer joke mug - (hip, hip, array) (Black)"
                                },
                                {
                                    "0": "Mugs",
                                    "1": "Developer joke mug - (hip, hip, array) (White)"
                                },
                                {
                                    "0": "Mugs",
                                    "1": "Developer joke mug - a foo walks into a bar (Black)"
                                },
                                {
                                    "0": "Mugs",
                                    "1": "Developer joke mug - a foo walks into a bar (White)"
                                },
                                {
                                    "0": "Mugs",
                                    "1": "Developer joke mug - fun was unexpected at this time (Black)"
                                },
                                {
                                    "0": "Mugs",
                                    "1": "Developer joke mug - fun was unexpected at this time (White)"
                                },
                                {
                                    "0": "Mugs",
                                    "1": "Developer joke mug - inheritance is the OO way to become wealthy (Black)"
                                },
                                {
                                    "0": "Mugs",
                                    "1": "Developer joke mug - inheritance is the OO way to become wealthy (White)"
                                },
                                {
                                    "0": "Mugs",
                                    "1": "Developer joke mug - Oct 31 = Dec 25 (Black)"
                                },
                                {
                                    "0": "Mugs",
                                    "1": "Developer joke mug - Oct 31 = Dec 25 (White)"
                                },
                                {
                                    "0": "Mugs",
                                    "1": "Developer joke mug - old C developers never die (Black)"
                                },
                                {
                                    "0": "Mugs",
                                    "1": "Developer joke mug - old C developers never die (White)"
                                },
                                {
                                    "0": "Mugs",
                                    "1": "Developer joke mug - that's a hardware problem (Black)"
                                },
                                {
                                    "0": "Mugs",
                                    "1": "Developer joke mug - that's a hardware problem (White)"
                                },
                                {
                                    "0": "Mugs",
                                    "1": "Developer joke mug - there are 10 types of people in the world (Black)"
                                },
                                {
                                    "0": "Mugs",
                                    "1": "Developer joke mug - there are 10 types of people in the world (White)"
                                },
                                {
                                    "0": "Mugs",
                                    "1": "Developer joke mug - this code was generated by a tool (Black)"
                                },
                                {
                                    "0": "Mugs",
                                    "1": "Developer joke mug - this code was generated by a tool (White)"
                                },
                                {
                                    "0": "Mugs",
                                    "1": "Developer joke mug - understanding recursion requires understanding recursion (Black)"
                                },
                                {
                                    "0": "Mugs",
                                    "1": "Developer joke mug - understanding recursion requires understanding recursion (White)"
                                },
                                {
                                    "0": "Mugs",
                                    "1": "Developer joke mug - when your hammer is C++ (Black)"
                                },
                                {
                                    "0": "Mugs",
                                    "1": "Developer joke mug - when your hammer is C++ (White)"
                                },
                                {
                                    "0": "Mugs",
                                    "1": "IT joke mug - hardware: part of the computer that can be kicked (Black)"
                                },
                                {
                                    "0": "Mugs",
                                    "1": "IT joke mug - hardware: part of the computer that can be kicked (White)"
                                },
                                {
                                    "0": "Mugs",
                                    "1": "IT joke mug - keyboard not found … press F1 to continue (Black)"
                                },
                                {
                                    "0": "Mugs",
                                    "1": "IT joke mug - keyboard not found … press F1 to continue (White)"
                                },
                                {
                                    "0": "Mugs",
                                    "1": "IT joke mug - that behavior is by design (Black)"
                                },
                                {
                                    "0": "Mugs",
                                    "1": "IT joke mug - that behavior is by design (White)"
                                }
                            ]
                        },
                        "text/html": "<table><tr><th>StockGroupName</th><th>StockItemName</th></tr><tr><td>Furry Footwear</td><td>Animal with big feet slippers (Brown) L</td></tr><tr><td>Furry Footwear</td><td>Animal with big feet slippers (Brown) M</td></tr><tr><td>Furry Footwear</td><td>Animal with big feet slippers (Brown) S</td></tr><tr><td>Furry Footwear</td><td>Animal with big feet slippers (Brown) XL</td></tr><tr><td>Furry Footwear</td><td>Dinosaur battery-powered slippers (Green) L</td></tr><tr><td>Furry Footwear</td><td>Dinosaur battery-powered slippers (Green) M</td></tr><tr><td>Furry Footwear</td><td>Dinosaur battery-powered slippers (Green) S</td></tr><tr><td>Furry Footwear</td><td>Dinosaur battery-powered slippers (Green) XL</td></tr><tr><td>Furry Footwear</td><td>Furry animal socks (Pink) L</td></tr><tr><td>Furry Footwear</td><td>Furry animal socks (Pink) M</td></tr><tr><td>Furry Footwear</td><td>Furry animal socks (Pink) S</td></tr><tr><td>Furry Footwear</td><td>Furry animal socks (Pink) XL</td></tr><tr><td>Furry Footwear</td><td>Furry gorilla with big eyes slippers (Black) L</td></tr><tr><td>Furry Footwear</td><td>Furry gorilla with big eyes slippers (Black) M</td></tr><tr><td>Furry Footwear</td><td>Furry gorilla with big eyes slippers (Black) S</td></tr><tr><td>Furry Footwear</td><td>Furry gorilla with big eyes slippers (Black) XL</td></tr><tr><td>Furry Footwear</td><td>Ogre battery-powered slippers (Green) L</td></tr><tr><td>Furry Footwear</td><td>Ogre battery-powered slippers (Green) M</td></tr><tr><td>Furry Footwear</td><td>Ogre battery-powered slippers (Green) S</td></tr><tr><td>Furry Footwear</td><td>Ogre battery-powered slippers (Green) XL</td></tr><tr><td>Furry Footwear</td><td>Plush shark slippers (Gray) L</td></tr><tr><td>Furry Footwear</td><td>Plush shark slippers (Gray) M</td></tr><tr><td>Furry Footwear</td><td>Plush shark slippers (Gray) S</td></tr><tr><td>Furry Footwear</td><td>Plush shark slippers (Gray) XL</td></tr><tr><td>Mugs</td><td>DBA joke mug - daaaaaa-ta (Black)</td></tr><tr><td>Mugs</td><td>DBA joke mug - daaaaaa-ta (White)</td></tr><tr><td>Mugs</td><td>DBA joke mug - I will get you in order (Black)</td></tr><tr><td>Mugs</td><td>DBA joke mug - I will get you in order (White)</td></tr><tr><td>Mugs</td><td>DBA joke mug - it depends (Black)</td></tr><tr><td>Mugs</td><td>DBA joke mug - it depends (White)</td></tr><tr><td>Mugs</td><td>DBA joke mug - mind if I join you? (Black)</td></tr><tr><td>Mugs</td><td>DBA joke mug - mind if I join you? (White)</td></tr><tr><td>Mugs</td><td>DBA joke mug - SELECT caffeine FROM mug (Black)</td></tr><tr><td>Mugs</td><td>DBA joke mug - SELECT caffeine FROM mug (White)</td></tr><tr><td>Mugs</td><td>DBA joke mug - two types of DBAs (Black)</td></tr><tr><td>Mugs</td><td>DBA joke mug - two types of DBAs (White)</td></tr><tr><td>Mugs</td><td>DBA joke mug - you might be a DBA if (Black)</td></tr><tr><td>Mugs</td><td>DBA joke mug - you might be a DBA if (White)</td></tr><tr><td>Mugs</td><td>Developer joke mug - (hip, hip, array) (Black)</td></tr><tr><td>Mugs</td><td>Developer joke mug - (hip, hip, array) (White)</td></tr><tr><td>Mugs</td><td>Developer joke mug - a foo walks into a bar (Black)</td></tr><tr><td>Mugs</td><td>Developer joke mug - a foo walks into a bar (White)</td></tr><tr><td>Mugs</td><td>Developer joke mug - fun was unexpected at this time (Black)</td></tr><tr><td>Mugs</td><td>Developer joke mug - fun was unexpected at this time (White)</td></tr><tr><td>Mugs</td><td>Developer joke mug - inheritance is the OO way to become wealthy (Black)</td></tr><tr><td>Mugs</td><td>Developer joke mug - inheritance is the OO way to become wealthy (White)</td></tr><tr><td>Mugs</td><td>Developer joke mug - Oct 31 = Dec 25 (Black)</td></tr><tr><td>Mugs</td><td>Developer joke mug - Oct 31 = Dec 25 (White)</td></tr><tr><td>Mugs</td><td>Developer joke mug - old C developers never die (Black)</td></tr><tr><td>Mugs</td><td>Developer joke mug - old C developers never die (White)</td></tr><tr><td>Mugs</td><td>Developer joke mug - that's a hardware problem (Black)</td></tr><tr><td>Mugs</td><td>Developer joke mug - that's a hardware problem (White)</td></tr><tr><td>Mugs</td><td>Developer joke mug - there are 10 types of people in the world (Black)</td></tr><tr><td>Mugs</td><td>Developer joke mug - there are 10 types of people in the world (White)</td></tr><tr><td>Mugs</td><td>Developer joke mug - this code was generated by a tool (Black)</td></tr><tr><td>Mugs</td><td>Developer joke mug - this code was generated by a tool (White)</td></tr><tr><td>Mugs</td><td>Developer joke mug - understanding recursion requires understanding recursion (Black)</td></tr><tr><td>Mugs</td><td>Developer joke mug - understanding recursion requires understanding recursion (White)</td></tr><tr><td>Mugs</td><td>Developer joke mug - when your hammer is C++ (Black)</td></tr><tr><td>Mugs</td><td>Developer joke mug - when your hammer is C++ (White)</td></tr><tr><td>Mugs</td><td>IT joke mug - hardware: part of the computer that can be kicked (Black)</td></tr><tr><td>Mugs</td><td>IT joke mug - hardware: part of the computer that can be kicked (White)</td></tr><tr><td>Mugs</td><td>IT joke mug - keyboard not found … press F1 to continue (Black)</td></tr><tr><td>Mugs</td><td>IT joke mug - keyboard not found … press F1 to continue (White)</td></tr><tr><td>Mugs</td><td>IT joke mug - that behavior is by design (Black)</td></tr><tr><td>Mugs</td><td>IT joke mug - that behavior is by design (White)</td></tr></table>"
                    },
                    "metadata": {}
                }
            ],
            "execution_count": 24
        },
        {
            "cell_type": "markdown",
            "source": [
                "## Step 3 - Identify Product Group 2\r\n",
                "\r\n",
                "**Product Group 2**: As part of the experimentation, we want to also understand how these stock items would perform against those with **low margin** and low contribution to Total Revenue. \r\n",
                "\r\n",
                "High margin refers to those that have higher than the Margin Percentage of all invoices in Jan 2016. "
            ],
            "metadata": {
                "azdata_cell_guid": "73ee5a2d-eef1-47d2-8a52-a7a5c20ebcf1"
            }
        },
        {
            "cell_type": "code",
            "source": [
                "USE WideWorldImporters;\r\n",
                "SET NOCOUNT ON;\r\n",
                "\r\n",
                "DROP TABLE IF EXISTS #ProductGroup2;\r\n",
                "\r\n",
                "-- Must use the same start and end date for the analysis in this paper. \r\n",
                "DECLARE @StartDate DATETIME = '20160201'; \r\n",
                "DECLARE @EndDate DATETIME = DATEADD(MONTH, 1, @StartDate);\r\n",
                "\r\n",
                "DECLARE @TotalRevenue AS DECIMAL(18, 2);\r\n",
                "DECLARE @TotalProfit AS DECIMAL(18, 2);\r\n",
                "DECLARE @MarginPct AS DECIMAL(18,2);\r\n",
                "DECLARE @LowRevenueContribution AS DECIMAL(18,2) = 10;\r\n",
                "\r\n",
                "SELECT\r\n",
                "     @TotalRevenue  = SUM(il.ExtendedPrice)\r\n",
                "    ,@TotalProfit   = SUM(il.LineProfit)\r\n",
                "    ,@MarginPct     = SUM(il.LineProfit) * 100 / SUM(il.ExtendedPrice)\r\n",
                "FROM Sales.InvoiceLines il\r\n",
                "    INNER JOIN Sales.Invoices i\r\n",
                "        ON i.InvoiceID = il.InvoiceID\r\n",
                "WHERE i.InvoiceDate >= @StartDate\r\n",
                "AND  i.InvoiceDate < @EndDate;\r\n",
                "\r\n",
                "SELECT \r\n",
                "     @MarginPct AS [% Margin Threshold]\r\n",
                "    ,@LowRevenueContribution AS [% Low Revenue Threshold];\r\n",
                "\r\n",
                "\r\n",
                "SELECT \r\n",
                "    --  COUNT(DISTINCT g.StockItemStockGroupID) StockGroups\r\n",
                "     gr.StockGroupName\r\n",
                "    ,SUM(il.ExtendedPrice) Revenue\r\n",
                "    ,SUM(il.LineProfit) Profit\r\n",
                "    ,SUM(il.Quantity) QuantitySold\r\n",
                "    ,SUM(il.LineProfit) * 100.0 / SUM(il.ExtendedPrice) AS [Margin%]\r\n",
                "    ,SUM(il.ExtendedPrice) * 100.0 / @TotalRevenue AS [%TotalRevenue]\r\n",
                "    -- ,SUM(il.LineProfit) * 100.0 / @TotalProfit AS [%TotalProfit]\r\n",
                "    ,COUNT(DISTINCT si.StockItemName) StockItems\r\n",
                "INTO #ProductGroup2\r\n",
                "FROM Sales.InvoiceLines il\r\n",
                "    INNER JOIN Sales.Invoices i\r\n",
                "        ON i.InvoiceID = il.InvoiceID\r\n",
                "    INNER JOIN Warehouse.StockItems_Archive si\r\n",
                "        ON si.StockItemID = il.StockItemID \r\n",
                "        AND i.InvoiceDate BETWEEN si.ValidFrom AND si.ValidTo    \r\n",
                "    INNER JOIN Warehouse.StockItemStockGroups sg\r\n",
                "        ON sg.StockItemID = si.StockItemID        \r\n",
                "    INNER JOIN Warehouse.StockGroups gr\r\n",
                "        ON gr.StockGroupID = sg.StockGroupID\r\n",
                "        AND i.InvoiceDate BETWEEN gr.ValidFrom AND gr.ValidTo\r\n",
                "WHERE i.InvoiceDate >= @StartDate\r\n",
                "AND  i.InvoiceDate < @EndDate\r\n",
                "GROUP BY gr.StockGroupName\r\n",
                "HAVING SUM(il.LineProfit) * 100.0 / SUM(il.ExtendedPrice) < @MarginPct\r\n",
                "AND SUM(il.ExtendedPrice) * 100.0 / @TotalRevenue < @LowRevenueContribution;\r\n",
                "\r\n",
                "SELECT * FROM #ProductGroup2\r\n",
                "ORDER BY Revenue DESC;\r\n",
                "\r\n",
                "SELECT \r\n",
                "    b.StockGroupName\r\n",
                "    ,si.StockItemName\r\n",
                "FROM Warehouse.StockItems_Archive si\r\n",
                "INNER JOIN Warehouse.StockItemStockGroups sg\r\n",
                "      ON sg.StockItemID = si.StockItemID        \r\n",
                "    INNER JOIN Warehouse.StockGroups gr\r\n",
                "        ON gr.StockGroupID = sg.StockGroupID\r\n",
                "    INNER JOIN #ProductGroup2 b\r\n",
                "        ON b.StockGroupName = gr.StockGroupName;\r\n",
                ""
            ],
            "metadata": {
                "azdata_cell_guid": "9bdc0959-abe0-4aec-abd8-a2e454d5f607",
                "tags": [
                    "hide_input"
                ]
            },
            "outputs": [
                {
                    "output_type": "display_data",
                    "data": {
                        "text/html": "Commands completed successfully."
                    },
                    "metadata": {}
                },
                {
                    "output_type": "display_data",
                    "data": {
                        "text/html": "Total execution time: 00:00:00.161"
                    },
                    "metadata": {}
                },
                {
                    "output_type": "execute_result",
                    "execution_count": 25,
                    "data": {
                        "application/vnd.dataresource+json": {
                            "schema": {
                                "fields": [
                                    {
                                        "name": "% Margin Threshold"
                                    },
                                    {
                                        "name": "% Low Revenue Threshold"
                                    }
                                ]
                            },
                            "data": [
                                {
                                    "0": "42.98",
                                    "1": "10.00"
                                }
                            ]
                        },
                        "text/html": "<table><tr><th>% Margin Threshold</th><th>% Low Revenue Threshold</th></tr><tr><td>42.98</td><td>10.00</td></tr></table>"
                    },
                    "metadata": {}
                },
                {
                    "output_type": "execute_result",
                    "execution_count": 25,
                    "data": {
                        "application/vnd.dataresource+json": {
                            "schema": {
                                "fields": [
                                    {
                                        "name": "StockGroupName"
                                    },
                                    {
                                        "name": "Revenue"
                                    },
                                    {
                                        "name": "Profit"
                                    },
                                    {
                                        "name": "QuantitySold"
                                    },
                                    {
                                        "name": "Margin%"
                                    },
                                    {
                                        "name": "%TotalRevenue"
                                    },
                                    {
                                        "name": "StockItems"
                                    }
                                ]
                            },
                            "data": [
                                {
                                    "0": "Toys",
                                    "1": "405000.10",
                                    "2": "145838.50",
                                    "3": "2865",
                                    "4": "36.009497",
                                    "5": "8.810987",
                                    "6": "21"
                                },
                                {
                                    "0": "USB Novelties",
                                    "1": "84704.77",
                                    "2": "31791.80",
                                    "3": "1877",
                                    "4": "37.532478",
                                    "5": "1.842796",
                                    "6": "14"
                                }
                            ]
                        },
                        "text/html": "<table><tr><th>StockGroupName</th><th>Revenue</th><th>Profit</th><th>QuantitySold</th><th>Margin%</th><th>%TotalRevenue</th><th>StockItems</th></tr><tr><td>Toys</td><td>405000.10</td><td>145838.50</td><td>2865</td><td>36.009497</td><td>8.810987</td><td>21</td></tr><tr><td>USB Novelties</td><td>84704.77</td><td>31791.80</td><td>1877</td><td>37.532478</td><td>1.842796</td><td>14</td></tr></table>"
                    },
                    "metadata": {}
                },
                {
                    "output_type": "execute_result",
                    "execution_count": 25,
                    "data": {
                        "application/vnd.dataresource+json": {
                            "schema": {
                                "fields": [
                                    {
                                        "name": "StockGroupName"
                                    },
                                    {
                                        "name": "StockItemName"
                                    }
                                ]
                            },
                            "data": [
                                {
                                    "0": "Toys",
                                    "1": "Pack of 12 action figures (female)"
                                },
                                {
                                    "0": "Toys",
                                    "1": "Pack of 12 action figures (male)"
                                },
                                {
                                    "0": "Toys",
                                    "1": "Pack of 12 action figures (variety)"
                                },
                                {
                                    "0": "Toys",
                                    "1": "Ride on big wheel monster truck (Black) 1/12 scale"
                                },
                                {
                                    "0": "Toys",
                                    "1": "Ride on vintage American toy coupe (Black) 1/12 scale"
                                },
                                {
                                    "0": "Toys",
                                    "1": "Ride on vintage American toy coupe (Red) 1/12 scale"
                                },
                                {
                                    "0": "Toys",
                                    "1": "Ride on toy sedan car (Pink) 1/12 scale"
                                },
                                {
                                    "0": "Toys",
                                    "1": "Ride on toy sedan car (Yellow) 1/12 scale"
                                },
                                {
                                    "0": "Toys",
                                    "1": "Ride on toy sedan car (Green) 1/12 scale"
                                },
                                {
                                    "0": "Toys",
                                    "1": "Ride on toy sedan car (Blue) 1/12 scale"
                                },
                                {
                                    "0": "Toys",
                                    "1": "Ride on toy sedan car (Red) 1/12 scale"
                                },
                                {
                                    "0": "Toys",
                                    "1": "Ride on toy sedan car (Black) 1/12 scale"
                                },
                                {
                                    "0": "Toys",
                                    "1": "RC big wheel monster truck with remote control (Black) 1/50 scale"
                                },
                                {
                                    "0": "Toys",
                                    "1": "RC vintage American toy coupe with remote control (Black) 1/50 scale"
                                },
                                {
                                    "0": "Toys",
                                    "1": "RC vintage American toy coupe with remote control (Red) 1/50 scale"
                                },
                                {
                                    "0": "Toys",
                                    "1": "RC toy sedan car with remote control (Pink) 1/50 scale"
                                },
                                {
                                    "0": "Toys",
                                    "1": "RC toy sedan car with remote control (Yellow) 1/50 scale"
                                },
                                {
                                    "0": "Toys",
                                    "1": "RC toy sedan car with remote control (Green) 1/50 scale"
                                },
                                {
                                    "0": "Toys",
                                    "1": "RC toy sedan car with remote control (Blue) 1/50 scale"
                                },
                                {
                                    "0": "Toys",
                                    "1": "RC toy sedan car with remote control (Red) 1/50 scale"
                                },
                                {
                                    "0": "Toys",
                                    "1": "RC toy sedan car with remote control (Black) 1/50 scale"
                                },
                                {
                                    "0": "USB Novelties",
                                    "1": "USB food flash drive - dessert 10 drive variety pack"
                                },
                                {
                                    "0": "USB Novelties",
                                    "1": "USB food flash drive - fortune cookie"
                                },
                                {
                                    "0": "USB Novelties",
                                    "1": "USB food flash drive - shrimp cocktail"
                                },
                                {
                                    "0": "USB Novelties",
                                    "1": "USB food flash drive - donut"
                                },
                                {
                                    "0": "USB Novelties",
                                    "1": "USB food flash drive - cookie"
                                },
                                {
                                    "0": "USB Novelties",
                                    "1": "USB food flash drive - chocolate bar"
                                },
                                {
                                    "0": "USB Novelties",
                                    "1": "USB food flash drive - banana"
                                },
                                {
                                    "0": "USB Novelties",
                                    "1": "USB food flash drive - dim sum 10 drive variety pack"
                                },
                                {
                                    "0": "USB Novelties",
                                    "1": "USB food flash drive - pizza slice"
                                },
                                {
                                    "0": "USB Novelties",
                                    "1": "USB food flash drive - hot dog"
                                },
                                {
                                    "0": "USB Novelties",
                                    "1": "USB food flash drive - hamburger"
                                },
                                {
                                    "0": "USB Novelties",
                                    "1": "USB food flash drive - sushi roll"
                                },
                                {
                                    "0": "USB Novelties",
                                    "1": "USB rocket launcher (Gray)"
                                },
                                {
                                    "0": "USB Novelties",
                                    "1": "USB missile launcher (Green)"
                                },
                                {
                                    "0": "Toys",
                                    "1": "RC big wheel monster truck with remote control (Black) 1/50 scale"
                                },
                                {
                                    "0": "Toys",
                                    "1": "RC vintage American toy coupe with remote control (Black) 1/50 scale"
                                },
                                {
                                    "0": "Toys",
                                    "1": "RC vintage American toy coupe with remote control (Red) 1/50 scale"
                                },
                                {
                                    "0": "Toys",
                                    "1": "RC toy sedan car with remote control (Pink) 1/50 scale"
                                },
                                {
                                    "0": "Toys",
                                    "1": "RC toy sedan car with remote control (Yellow) 1/50 scale"
                                },
                                {
                                    "0": "Toys",
                                    "1": "RC toy sedan car with remote control (Green) 1/50 scale"
                                },
                                {
                                    "0": "Toys",
                                    "1": "RC toy sedan car with remote control (Blue) 1/50 scale"
                                },
                                {
                                    "0": "Toys",
                                    "1": "RC toy sedan car with remote control (Red) 1/50 scale"
                                },
                                {
                                    "0": "Toys",
                                    "1": "RC toy sedan car with remote control (Black) 1/50 scale"
                                },
                                {
                                    "0": "Toys",
                                    "1": "RC big wheel monster truck with remote control (Black) 1/50 scale"
                                },
                                {
                                    "0": "Toys",
                                    "1": "RC vintage American toy coupe with remote control (Black) 1/50 scale"
                                },
                                {
                                    "0": "Toys",
                                    "1": "RC vintage American toy coupe with remote control (Red) 1/50 scale"
                                },
                                {
                                    "0": "Toys",
                                    "1": "RC toy sedan car with remote control (Pink) 1/50 scale"
                                },
                                {
                                    "0": "Toys",
                                    "1": "RC toy sedan car with remote control (Yellow) 1/50 scale"
                                },
                                {
                                    "0": "Toys",
                                    "1": "RC toy sedan car with remote control (Green) 1/50 scale"
                                },
                                {
                                    "0": "Toys",
                                    "1": "RC toy sedan car with remote control (Blue) 1/50 scale"
                                },
                                {
                                    "0": "Toys",
                                    "1": "RC toy sedan car with remote control (Red) 1/50 scale"
                                },
                                {
                                    "0": "Toys",
                                    "1": "RC toy sedan car with remote control (Black) 1/50 scale"
                                },
                                {
                                    "0": "Toys",
                                    "1": "Ride on vintage American toy coupe (Black) 1/12 scale"
                                },
                                {
                                    "0": "Toys",
                                    "1": "Ride on vintage American toy coupe (Red) 1/12 scale"
                                },
                                {
                                    "0": "Toys",
                                    "1": "RC vintage American toy coupe with remote control (Black) 1/50 scale"
                                },
                                {
                                    "0": "Toys",
                                    "1": "RC vintage American toy coupe with remote control (Red) 1/50 scale"
                                },
                                {
                                    "0": "Toys",
                                    "1": "Pack of 12 action figures (female)"
                                },
                                {
                                    "0": "Toys",
                                    "1": "Pack of 12 action figures (male)"
                                },
                                {
                                    "0": "Toys",
                                    "1": "Pack of 12 action figures (variety)"
                                },
                                {
                                    "0": "Toys",
                                    "1": "Ride on big wheel monster truck (Black) 1/12 scale"
                                },
                                {
                                    "0": "Toys",
                                    "1": "Ride on toy sedan car (Pink) 1/12 scale"
                                },
                                {
                                    "0": "Toys",
                                    "1": "Ride on toy sedan car (Yellow) 1/12 scale"
                                },
                                {
                                    "0": "Toys",
                                    "1": "Ride on toy sedan car (Green) 1/12 scale"
                                },
                                {
                                    "0": "Toys",
                                    "1": "Ride on toy sedan car (Blue) 1/12 scale"
                                },
                                {
                                    "0": "Toys",
                                    "1": "Ride on toy sedan car (Red) 1/12 scale"
                                },
                                {
                                    "0": "Toys",
                                    "1": "Ride on toy sedan car (Black) 1/12 scale"
                                },
                                {
                                    "0": "Toys",
                                    "1": "Ride on vintage American toy coupe (Black) 1/12 scale"
                                },
                                {
                                    "0": "Toys",
                                    "1": "Ride on vintage American toy coupe (Red) 1/12 scale"
                                },
                                {
                                    "0": "USB Novelties",
                                    "1": "USB food flash drive - dessert 10 drive variety pack"
                                },
                                {
                                    "0": "USB Novelties",
                                    "1": "USB food flash drive - fortune cookie"
                                },
                                {
                                    "0": "USB Novelties",
                                    "1": "USB food flash drive - shrimp cocktail"
                                },
                                {
                                    "0": "USB Novelties",
                                    "1": "USB food flash drive - donut"
                                },
                                {
                                    "0": "USB Novelties",
                                    "1": "USB food flash drive - cookie"
                                },
                                {
                                    "0": "USB Novelties",
                                    "1": "USB food flash drive - chocolate bar"
                                },
                                {
                                    "0": "USB Novelties",
                                    "1": "USB food flash drive - banana"
                                },
                                {
                                    "0": "USB Novelties",
                                    "1": "USB food flash drive - dim sum 10 drive variety pack"
                                },
                                {
                                    "0": "USB Novelties",
                                    "1": "USB food flash drive - pizza slice"
                                },
                                {
                                    "0": "USB Novelties",
                                    "1": "USB food flash drive - hot dog"
                                },
                                {
                                    "0": "USB Novelties",
                                    "1": "USB food flash drive - hamburger"
                                },
                                {
                                    "0": "USB Novelties",
                                    "1": "USB food flash drive - sushi roll"
                                },
                                {
                                    "0": "USB Novelties",
                                    "1": "USB rocket launcher (Gray)"
                                },
                                {
                                    "0": "USB Novelties",
                                    "1": "USB missile launcher (Green)"
                                },
                                {
                                    "0": "USB Novelties",
                                    "1": "USB food flash drive - dessert 10 drive variety pack"
                                },
                                {
                                    "0": "USB Novelties",
                                    "1": "USB food flash drive - fortune cookie"
                                },
                                {
                                    "0": "USB Novelties",
                                    "1": "USB food flash drive - shrimp cocktail"
                                },
                                {
                                    "0": "USB Novelties",
                                    "1": "USB food flash drive - donut"
                                },
                                {
                                    "0": "USB Novelties",
                                    "1": "USB food flash drive - cookie"
                                },
                                {
                                    "0": "USB Novelties",
                                    "1": "USB food flash drive - chocolate bar"
                                },
                                {
                                    "0": "USB Novelties",
                                    "1": "USB food flash drive - banana"
                                },
                                {
                                    "0": "USB Novelties",
                                    "1": "USB food flash drive - dim sum 10 drive variety pack"
                                },
                                {
                                    "0": "USB Novelties",
                                    "1": "USB food flash drive - pizza slice"
                                },
                                {
                                    "0": "USB Novelties",
                                    "1": "USB food flash drive - hot dog"
                                },
                                {
                                    "0": "USB Novelties",
                                    "1": "USB food flash drive - hamburger"
                                },
                                {
                                    "0": "USB Novelties",
                                    "1": "USB food flash drive - sushi roll"
                                }
                            ]
                        },
                        "text/html": "<table><tr><th>StockGroupName</th><th>StockItemName</th></tr><tr><td>Toys</td><td>Pack of 12 action figures (female)</td></tr><tr><td>Toys</td><td>Pack of 12 action figures (male)</td></tr><tr><td>Toys</td><td>Pack of 12 action figures (variety)</td></tr><tr><td>Toys</td><td>Ride on big wheel monster truck (Black) 1/12 scale</td></tr><tr><td>Toys</td><td>Ride on vintage American toy coupe (Black) 1/12 scale</td></tr><tr><td>Toys</td><td>Ride on vintage American toy coupe (Red) 1/12 scale</td></tr><tr><td>Toys</td><td>Ride on toy sedan car (Pink) 1/12 scale</td></tr><tr><td>Toys</td><td>Ride on toy sedan car (Yellow) 1/12 scale</td></tr><tr><td>Toys</td><td>Ride on toy sedan car (Green) 1/12 scale</td></tr><tr><td>Toys</td><td>Ride on toy sedan car (Blue) 1/12 scale</td></tr><tr><td>Toys</td><td>Ride on toy sedan car (Red) 1/12 scale</td></tr><tr><td>Toys</td><td>Ride on toy sedan car (Black) 1/12 scale</td></tr><tr><td>Toys</td><td>RC big wheel monster truck with remote control (Black) 1/50 scale</td></tr><tr><td>Toys</td><td>RC vintage American toy coupe with remote control (Black) 1/50 scale</td></tr><tr><td>Toys</td><td>RC vintage American toy coupe with remote control (Red) 1/50 scale</td></tr><tr><td>Toys</td><td>RC toy sedan car with remote control (Pink) 1/50 scale</td></tr><tr><td>Toys</td><td>RC toy sedan car with remote control (Yellow) 1/50 scale</td></tr><tr><td>Toys</td><td>RC toy sedan car with remote control (Green) 1/50 scale</td></tr><tr><td>Toys</td><td>RC toy sedan car with remote control (Blue) 1/50 scale</td></tr><tr><td>Toys</td><td>RC toy sedan car with remote control (Red) 1/50 scale</td></tr><tr><td>Toys</td><td>RC toy sedan car with remote control (Black) 1/50 scale</td></tr><tr><td>USB Novelties</td><td>USB food flash drive - dessert 10 drive variety pack</td></tr><tr><td>USB Novelties</td><td>USB food flash drive - fortune cookie</td></tr><tr><td>USB Novelties</td><td>USB food flash drive - shrimp cocktail</td></tr><tr><td>USB Novelties</td><td>USB food flash drive - donut</td></tr><tr><td>USB Novelties</td><td>USB food flash drive - cookie</td></tr><tr><td>USB Novelties</td><td>USB food flash drive - chocolate bar</td></tr><tr><td>USB Novelties</td><td>USB food flash drive - banana</td></tr><tr><td>USB Novelties</td><td>USB food flash drive - dim sum 10 drive variety pack</td></tr><tr><td>USB Novelties</td><td>USB food flash drive - pizza slice</td></tr><tr><td>USB Novelties</td><td>USB food flash drive - hot dog</td></tr><tr><td>USB Novelties</td><td>USB food flash drive - hamburger</td></tr><tr><td>USB Novelties</td><td>USB food flash drive - sushi roll</td></tr><tr><td>USB Novelties</td><td>USB rocket launcher (Gray)</td></tr><tr><td>USB Novelties</td><td>USB missile launcher (Green)</td></tr><tr><td>Toys</td><td>RC big wheel monster truck with remote control (Black) 1/50 scale</td></tr><tr><td>Toys</td><td>RC vintage American toy coupe with remote control (Black) 1/50 scale</td></tr><tr><td>Toys</td><td>RC vintage American toy coupe with remote control (Red) 1/50 scale</td></tr><tr><td>Toys</td><td>RC toy sedan car with remote control (Pink) 1/50 scale</td></tr><tr><td>Toys</td><td>RC toy sedan car with remote control (Yellow) 1/50 scale</td></tr><tr><td>Toys</td><td>RC toy sedan car with remote control (Green) 1/50 scale</td></tr><tr><td>Toys</td><td>RC toy sedan car with remote control (Blue) 1/50 scale</td></tr><tr><td>Toys</td><td>RC toy sedan car with remote control (Red) 1/50 scale</td></tr><tr><td>Toys</td><td>RC toy sedan car with remote control (Black) 1/50 scale</td></tr><tr><td>Toys</td><td>RC big wheel monster truck with remote control (Black) 1/50 scale</td></tr><tr><td>Toys</td><td>RC vintage American toy coupe with remote control (Black) 1/50 scale</td></tr><tr><td>Toys</td><td>RC vintage American toy coupe with remote control (Red) 1/50 scale</td></tr><tr><td>Toys</td><td>RC toy sedan car with remote control (Pink) 1/50 scale</td></tr><tr><td>Toys</td><td>RC toy sedan car with remote control (Yellow) 1/50 scale</td></tr><tr><td>Toys</td><td>RC toy sedan car with remote control (Green) 1/50 scale</td></tr><tr><td>Toys</td><td>RC toy sedan car with remote control (Blue) 1/50 scale</td></tr><tr><td>Toys</td><td>RC toy sedan car with remote control (Red) 1/50 scale</td></tr><tr><td>Toys</td><td>RC toy sedan car with remote control (Black) 1/50 scale</td></tr><tr><td>Toys</td><td>Ride on vintage American toy coupe (Black) 1/12 scale</td></tr><tr><td>Toys</td><td>Ride on vintage American toy coupe (Red) 1/12 scale</td></tr><tr><td>Toys</td><td>RC vintage American toy coupe with remote control (Black) 1/50 scale</td></tr><tr><td>Toys</td><td>RC vintage American toy coupe with remote control (Red) 1/50 scale</td></tr><tr><td>Toys</td><td>Pack of 12 action figures (female)</td></tr><tr><td>Toys</td><td>Pack of 12 action figures (male)</td></tr><tr><td>Toys</td><td>Pack of 12 action figures (variety)</td></tr><tr><td>Toys</td><td>Ride on big wheel monster truck (Black) 1/12 scale</td></tr><tr><td>Toys</td><td>Ride on toy sedan car (Pink) 1/12 scale</td></tr><tr><td>Toys</td><td>Ride on toy sedan car (Yellow) 1/12 scale</td></tr><tr><td>Toys</td><td>Ride on toy sedan car (Green) 1/12 scale</td></tr><tr><td>Toys</td><td>Ride on toy sedan car (Blue) 1/12 scale</td></tr><tr><td>Toys</td><td>Ride on toy sedan car (Red) 1/12 scale</td></tr><tr><td>Toys</td><td>Ride on toy sedan car (Black) 1/12 scale</td></tr><tr><td>Toys</td><td>Ride on vintage American toy coupe (Black) 1/12 scale</td></tr><tr><td>Toys</td><td>Ride on vintage American toy coupe (Red) 1/12 scale</td></tr><tr><td>USB Novelties</td><td>USB food flash drive - dessert 10 drive variety pack</td></tr><tr><td>USB Novelties</td><td>USB food flash drive - fortune cookie</td></tr><tr><td>USB Novelties</td><td>USB food flash drive - shrimp cocktail</td></tr><tr><td>USB Novelties</td><td>USB food flash drive - donut</td></tr><tr><td>USB Novelties</td><td>USB food flash drive - cookie</td></tr><tr><td>USB Novelties</td><td>USB food flash drive - chocolate bar</td></tr><tr><td>USB Novelties</td><td>USB food flash drive - banana</td></tr><tr><td>USB Novelties</td><td>USB food flash drive - dim sum 10 drive variety pack</td></tr><tr><td>USB Novelties</td><td>USB food flash drive - pizza slice</td></tr><tr><td>USB Novelties</td><td>USB food flash drive - hot dog</td></tr><tr><td>USB Novelties</td><td>USB food flash drive - hamburger</td></tr><tr><td>USB Novelties</td><td>USB food flash drive - sushi roll</td></tr><tr><td>USB Novelties</td><td>USB rocket launcher (Gray)</td></tr><tr><td>USB Novelties</td><td>USB missile launcher (Green)</td></tr><tr><td>USB Novelties</td><td>USB food flash drive - dessert 10 drive variety pack</td></tr><tr><td>USB Novelties</td><td>USB food flash drive - fortune cookie</td></tr><tr><td>USB Novelties</td><td>USB food flash drive - shrimp cocktail</td></tr><tr><td>USB Novelties</td><td>USB food flash drive - donut</td></tr><tr><td>USB Novelties</td><td>USB food flash drive - cookie</td></tr><tr><td>USB Novelties</td><td>USB food flash drive - chocolate bar</td></tr><tr><td>USB Novelties</td><td>USB food flash drive - banana</td></tr><tr><td>USB Novelties</td><td>USB food flash drive - dim sum 10 drive variety pack</td></tr><tr><td>USB Novelties</td><td>USB food flash drive - pizza slice</td></tr><tr><td>USB Novelties</td><td>USB food flash drive - hot dog</td></tr><tr><td>USB Novelties</td><td>USB food flash drive - hamburger</td></tr><tr><td>USB Novelties</td><td>USB food flash drive - sushi roll</td></tr></table>"
                    },
                    "metadata": {}
                }
            ],
            "execution_count": 25
        },
        {
            "cell_type": "markdown",
            "source": [
                "## Conclusion\r\n",
                "\r\n",
                "Out of the 9 stock groups sold in January 2016, these are the proposed two groups that we can do marketing experimentation with:\r\n",
                "1. **Product Group 1** - Furry Footwear, USB Novelties and Mugs with  percentage of Total Revenue between 2.53% and 1.77%. \r\n",
                "2. **Product Group 2** - Clothing, Novelty Items and Toys with percentaage of Total Revenue between 8.81% and 1.84%\r\n",
                "\r\n",
                "This paper includes their January baseline of the Quntity Sold, the Profit and the Revenue. The next analysis should include these metrics including the % month over month growth for the treatment group and the control group of each Product Group. \r\n",
                "\r\n",
                ""
            ],
            "metadata": {
                "azdata_cell_guid": "a4fee37e-e28d-49c8-af1e-ff7ddd498594"
            }
        },
        {
            "cell_type": "code",
            "source": [
                "SELECT \r\n",
                "    'PG1:' + StockGroupName AS StockGroup\r\n",
                "    ,[Margin%]\r\n",
                "FROM #ProductGroup1\r\n",
                "UNION ALL \r\n",
                "SELECT    \r\n",
                "    'PG2:' + StockGroupName AS StockGroup\r\n",
                "    ,[Margin%]\r\n",
                "FROM #ProductGroup2"
            ],
            "metadata": {
                "azdata_cell_guid": "d3b6266e-3736-45ad-aeca-60ee2afa70ab",
                "tags": [
                    "hide_input"
                ]
            },
            "outputs": [
                {
                    "output_type": "display_data",
                    "data": {
                        "text/html": "Commands completed successfully."
                    },
                    "metadata": {}
                },
                {
                    "output_type": "display_data",
                    "data": {
                        "text/html": "Total execution time: 00:00:00.010"
                    },
                    "metadata": {}
                },
                {
                    "output_type": "execute_result",
                    "execution_count": 31,
                    "data": {
                        "application/vnd.dataresource+json": {
                            "schema": {
                                "fields": [
                                    {
                                        "name": "StockGroup"
                                    },
                                    {
                                        "name": "Margin%"
                                    }
                                ]
                            },
                            "data": [
                                {
                                    "0": "PG1:Furry Footwear",
                                    "1": "63.898944"
                                },
                                {
                                    "0": "PG1:Mugs",
                                    "1": "56.856187"
                                },
                                {
                                    "0": "PG2:USB Novelties",
                                    "1": "37.532478"
                                },
                                {
                                    "0": "PG2:Toys",
                                    "1": "36.009497"
                                }
                            ]
                        },
                        "text/html": "<table><tr><th>StockGroup</th><th>Margin%</th></tr><tr><td>PG1:Furry Footwear</td><td>63.898944</td></tr><tr><td>PG1:Mugs</td><td>56.856187</td></tr><tr><td>PG2:USB Novelties</td><td>37.532478</td></tr><tr><td>PG2:Toys</td><td>36.009497</td></tr></table>"
                    },
                    "metadata": {
                        "azdata_chartOptions": {
                            "type": "bar",
                            "dataDirection": "vertical",
                            "columnsAsLabels": true,
                            "labelFirstColumn": false,
                            "legendPosition": "top"
                        }
                    }
                }
            ],
            "execution_count": 31
        }
    ]
}