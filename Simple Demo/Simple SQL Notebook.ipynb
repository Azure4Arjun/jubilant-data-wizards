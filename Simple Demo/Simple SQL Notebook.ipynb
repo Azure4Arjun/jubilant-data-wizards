{
    "metadata": {
        "kernelspec": {
            "name": "SQL",
            "display_name": "SQL",
            "language": "sql"
        },
        "language_info": {
            "name": "sql",
            "version": ""
        }
    },
    "nbformat_minor": 2,
    "nbformat": 4,
    "cells": [
        {
            "cell_type": "markdown",
            "source": [
                "# Useful scripts for new database developers\r\n",
                "\r\n",
                "This notebook illustrates how we can create a simple SQL Notebook and use it to share information with other users."
            ],
            "metadata": {
                "azdata_cell_guid": "f97ae540-f592-4461-8c1b-281b3a9adadf"
            }
        },
        {
            "cell_type": "markdown",
            "source": [
                "## Get a list of databases"
            ],
            "metadata": {
                "azdata_cell_guid": "c563da3b-781a-4a1b-9963-4b9f73d92661"
            }
        },
        {
            "cell_type": "code",
            "source": [
                "SELECT database_id, name, create_date, compatibility_level, state_desc, recovery_model_desc, is_memory_optimized_enabled\n",
                "FROM [sys].[databases]"
            ],
            "metadata": {
                "azdata_cell_guid": "d9cbe33e-f0aa-421b-975b-2a568159be13",
                "tags": []
            },
            "outputs": [
                {
                    "output_type": "display_data",
                    "data": {
                        "text/html": "(5 rows affected)"
                    },
                    "metadata": {}
                },
                {
                    "output_type": "display_data",
                    "data": {
                        "text/html": "Total execution time: 00:00:00.152"
                    },
                    "metadata": {}
                },
                {
                    "output_type": "execute_result",
                    "metadata": {},
                    "execution_count": 6,
                    "data": {
                        "application/vnd.dataresource+json": {
                            "schema": {
                                "fields": [
                                    {
                                        "name": "database_id"
                                    },
                                    {
                                        "name": "name"
                                    },
                                    {
                                        "name": "create_date"
                                    },
                                    {
                                        "name": "compatibility_level"
                                    },
                                    {
                                        "name": "state_desc"
                                    },
                                    {
                                        "name": "recovery_model_desc"
                                    },
                                    {
                                        "name": "is_memory_optimized_enabled"
                                    }
                                ]
                            },
                            "data": [
                                {
                                    "0": "1",
                                    "1": "master",
                                    "2": "2003-04-08 09:13:36.390",
                                    "3": "150",
                                    "4": "ONLINE",
                                    "5": "SIMPLE",
                                    "6": "1"
                                },
                                {
                                    "0": "2",
                                    "1": "tempdb",
                                    "2": "2019-11-01 14:41:01.663",
                                    "3": "150",
                                    "4": "ONLINE",
                                    "5": "SIMPLE",
                                    "6": "1"
                                },
                                {
                                    "0": "3",
                                    "1": "model",
                                    "2": "2003-04-08 09:13:36.390",
                                    "3": "150",
                                    "4": "ONLINE",
                                    "5": "FULL",
                                    "6": "1"
                                },
                                {
                                    "0": "4",
                                    "1": "msdb",
                                    "2": "2019-10-11 11:53:33.357",
                                    "3": "150",
                                    "4": "ONLINE",
                                    "5": "SIMPLE",
                                    "6": "1"
                                },
                                {
                                    "0": "5",
                                    "1": "IronOreSilicaPrediction",
                                    "2": "2019-10-31 05:12:25.617",
                                    "3": "150",
                                    "4": "ONLINE",
                                    "5": "FULL",
                                    "6": "1"
                                }
                            ]
                        },
                        "text/html": "<table><tr><th>database_id</th><th>name</th><th>create_date</th><th>compatibility_level</th><th>state_desc</th><th>recovery_model_desc</th><th>is_memory_optimized_enabled</th></tr><tr><td>1</td><td>master</td><td>2003-04-08 09:13:36.390</td><td>150</td><td>ONLINE</td><td>SIMPLE</td><td>1</td></tr><tr><td>2</td><td>tempdb</td><td>2019-11-01 14:41:01.663</td><td>150</td><td>ONLINE</td><td>SIMPLE</td><td>1</td></tr><tr><td>3</td><td>model</td><td>2003-04-08 09:13:36.390</td><td>150</td><td>ONLINE</td><td>FULL</td><td>1</td></tr><tr><td>4</td><td>msdb</td><td>2019-10-11 11:53:33.357</td><td>150</td><td>ONLINE</td><td>SIMPLE</td><td>1</td></tr><tr><td>5</td><td>IronOreSilicaPrediction</td><td>2019-10-31 05:12:25.617</td><td>150</td><td>ONLINE</td><td>FULL</td><td>1</td></tr></table>"
                    }
                }
            ],
            "execution_count": 6
        },
        {
            "cell_type": "markdown",
            "source": [
                "## Show SQL version"
            ],
            "metadata": {
                "azdata_cell_guid": "2f574b94-2ae3-491f-9aea-7f2697fd9657"
            }
        },
        {
            "cell_type": "code",
            "source": [
                "SELECT @@VERSION"
            ],
            "metadata": {
                "azdata_cell_guid": "2f004588-305b-4639-a66f-700dffd6880e"
            },
            "outputs": [
                {
                    "output_type": "display_data",
                    "data": {
                        "text/html": "(1 row affected)"
                    },
                    "metadata": {}
                },
                {
                    "output_type": "display_data",
                    "data": {
                        "text/html": "Total execution time: 00:00:00.067"
                    },
                    "metadata": {}
                },
                {
                    "output_type": "execute_result",
                    "metadata": {},
                    "execution_count": 7,
                    "data": {
                        "application/vnd.dataresource+json": {
                            "schema": {
                                "fields": [
                                    {
                                        "name": "(No column name)"
                                    }
                                ]
                            },
                            "data": [
                                {
                                    "0": "Microsoft Azure SQL Database Edge (CTP) - 15.0.2000.55 (X64) \n\tOct 23 2019 16:32:50 \n\tCopyright (C) 2019 Microsoft Corporation\n\tDeveloper Edition (64-bit) on Linux (Ubuntu 16.04.6 LTS) <X64>"
                                }
                            ]
                        },
                        "text/html": "<table><tr><th>(No column name)</th></tr><tr><td>Microsoft Azure SQL Database Edge (CTP) - 15.0.2000.55 (X64) \n\tOct 23 2019 16:32:50 \n\tCopyright (C) 2019 Microsoft Corporation\n\tDeveloper Edition (64-bit) on Linux (Ubuntu 16.04.6 LTS) &lt;X64&gt;</td></tr></table>"
                    }
                }
            ],
            "execution_count": 7
        },
        {
            "cell_type": "markdown",
            "source": [
                "## Show Server Configurations"
            ],
            "metadata": {
                "azdata_cell_guid": "8be76aea-f144-4eb1-901a-d105a890332e"
            }
        },
        {
            "cell_type": "code",
            "source": [
                "SELECT * \r\n",
                "FROM [sys].[configurations]"
            ],
            "metadata": {
                "azdata_cell_guid": "cbc02c2d-7354-4d39-b272-49c05ecb7392"
            },
            "outputs": [
                {
                    "output_type": "display_data",
                    "data": {
                        "text/html": "(82 rows affected)"
                    },
                    "metadata": {}
                },
                {
                    "output_type": "display_data",
                    "data": {
                        "text/html": "Total execution time: 00:00:00.133"
                    },
                    "metadata": {}
                },
                {
                    "output_type": "execute_result",
                    "metadata": {},
                    "execution_count": 8,
                    "data": {
                        "application/vnd.dataresource+json": {
                            "schema": {
                                "fields": [
                                    {
                                        "name": "configuration_id"
                                    },
                                    {
                                        "name": "name"
                                    },
                                    {
                                        "name": "value"
                                    },
                                    {
                                        "name": "minimum"
                                    },
                                    {
                                        "name": "maximum"
                                    },
                                    {
                                        "name": "value_in_use"
                                    },
                                    {
                                        "name": "description"
                                    },
                                    {
                                        "name": "is_dynamic"
                                    },
                                    {
                                        "name": "is_advanced"
                                    }
                                ]
                            },
                            "data": [
                                {
                                    "0": "101",
                                    "1": "recovery interval (min)",
                                    "2": "0",
                                    "3": "0",
                                    "4": "32767",
                                    "5": "0",
                                    "6": "Maximum recovery interval in minutes",
                                    "7": "1",
                                    "8": "1"
                                },
                                {
                                    "0": "102",
                                    "1": "allow updates",
                                    "2": "0",
                                    "3": "0",
                                    "4": "1",
                                    "5": "0",
                                    "6": "Allow updates to system tables",
                                    "7": "1",
                                    "8": "0"
                                },
                                {
                                    "0": "103",
                                    "1": "user connections",
                                    "2": "0",
                                    "3": "0",
                                    "4": "32767",
                                    "5": "0",
                                    "6": "Number of user connections allowed",
                                    "7": "0",
                                    "8": "1"
                                },
                                {
                                    "0": "106",
                                    "1": "locks",
                                    "2": "0",
                                    "3": "5000",
                                    "4": "2147483647",
                                    "5": "0",
                                    "6": "Number of locks for all users",
                                    "7": "0",
                                    "8": "1"
                                },
                                {
                                    "0": "107",
                                    "1": "open objects",
                                    "2": "0",
                                    "3": "0",
                                    "4": "2147483647",
                                    "5": "0",
                                    "6": "Number of open database objects",
                                    "7": "0",
                                    "8": "1"
                                },
                                {
                                    "0": "109",
                                    "1": "fill factor (%)",
                                    "2": "0",
                                    "3": "0",
                                    "4": "100",
                                    "5": "0",
                                    "6": "Default fill factor percentage",
                                    "7": "0",
                                    "8": "1"
                                },
                                {
                                    "0": "114",
                                    "1": "disallow results from triggers",
                                    "2": "0",
                                    "3": "0",
                                    "4": "1",
                                    "5": "0",
                                    "6": "Disallow returning results from triggers",
                                    "7": "1",
                                    "8": "1"
                                },
                                {
                                    "0": "115",
                                    "1": "nested triggers",
                                    "2": "1",
                                    "3": "0",
                                    "4": "1",
                                    "5": "1",
                                    "6": "Allow triggers to be invoked within triggers",
                                    "7": "1",
                                    "8": "0"
                                },
                                {
                                    "0": "116",
                                    "1": "server trigger recursion",
                                    "2": "1",
                                    "3": "0",
                                    "4": "1",
                                    "5": "1",
                                    "6": "Allow recursion for server level triggers",
                                    "7": "1",
                                    "8": "0"
                                },
                                {
                                    "0": "117",
                                    "1": "remote access",
                                    "2": "1",
                                    "3": "0",
                                    "4": "1",
                                    "5": "0",
                                    "6": "Allow remote access",
                                    "7": "0",
                                    "8": "0"
                                },
                                {
                                    "0": "124",
                                    "1": "default language",
                                    "2": "0",
                                    "3": "0",
                                    "4": "9999",
                                    "5": "0",
                                    "6": "default language",
                                    "7": "1",
                                    "8": "0"
                                },
                                {
                                    "0": "400",
                                    "1": "cross db ownership chaining",
                                    "2": "0",
                                    "3": "0",
                                    "4": "1",
                                    "5": "0",
                                    "6": "Allow cross db ownership chaining",
                                    "7": "1",
                                    "8": "0"
                                },
                                {
                                    "0": "503",
                                    "1": "max worker threads",
                                    "2": "0",
                                    "3": "128",
                                    "4": "65535",
                                    "5": "0",
                                    "6": "Maximum worker threads",
                                    "7": "1",
                                    "8": "1"
                                },
                                {
                                    "0": "505",
                                    "1": "network packet size (B)",
                                    "2": "4096",
                                    "3": "512",
                                    "4": "32767",
                                    "5": "4096",
                                    "6": "Network packet size",
                                    "7": "1",
                                    "8": "1"
                                },
                                {
                                    "0": "518",
                                    "1": "show advanced options",
                                    "2": "0",
                                    "3": "0",
                                    "4": "1",
                                    "5": "1",
                                    "6": "show advanced options",
                                    "7": "1",
                                    "8": "0"
                                },
                                {
                                    "0": "542",
                                    "1": "remote proc trans",
                                    "2": "0",
                                    "3": "0",
                                    "4": "1",
                                    "5": "0",
                                    "6": "Create DTC transaction for remote procedures",
                                    "7": "1",
                                    "8": "0"
                                },
                                {
                                    "0": "544",
                                    "1": "c2 audit mode",
                                    "2": "0",
                                    "3": "0",
                                    "4": "1",
                                    "5": "0",
                                    "6": "c2 audit mode",
                                    "7": "0",
                                    "8": "1"
                                },
                                {
                                    "0": "1126",
                                    "1": "default full-text language",
                                    "2": "1033",
                                    "3": "0",
                                    "4": "2147483647",
                                    "5": "1033",
                                    "6": "default full-text language",
                                    "7": "1",
                                    "8": "1"
                                },
                                {
                                    "0": "1127",
                                    "1": "two digit year cutoff",
                                    "2": "2049",
                                    "3": "1753",
                                    "4": "9999",
                                    "5": "2049",
                                    "6": "two digit year cutoff",
                                    "7": "1",
                                    "8": "1"
                                },
                                {
                                    "0": "1505",
                                    "1": "index create memory (KB)",
                                    "2": "0",
                                    "3": "704",
                                    "4": "2147483647",
                                    "5": "704",
                                    "6": "Memory for index create sorts (kBytes)",
                                    "7": "1",
                                    "8": "1"
                                },
                                {
                                    "0": "1517",
                                    "1": "priority boost",
                                    "2": "0",
                                    "3": "0",
                                    "4": "1",
                                    "5": "0",
                                    "6": "Priority boost",
                                    "7": "0",
                                    "8": "1"
                                },
                                {
                                    "0": "1519",
                                    "1": "remote login timeout (s)",
                                    "2": "10",
                                    "3": "0",
                                    "4": "2147483647",
                                    "5": "5",
                                    "6": "remote login timeout",
                                    "7": "1",
                                    "8": "0"
                                },
                                {
                                    "0": "1520",
                                    "1": "remote query timeout (s)",
                                    "2": "600",
                                    "3": "0",
                                    "4": "2147483647",
                                    "5": "600",
                                    "6": "remote query timeout",
                                    "7": "1",
                                    "8": "0"
                                },
                                {
                                    "0": "1531",
                                    "1": "cursor threshold",
                                    "2": "-1",
                                    "3": "-1",
                                    "4": "2147483647",
                                    "5": "-1",
                                    "6": "cursor threshold",
                                    "7": "1",
                                    "8": "1"
                                },
                                {
                                    "0": "1532",
                                    "1": "set working set size",
                                    "2": "0",
                                    "3": "0",
                                    "4": "1",
                                    "5": "0",
                                    "6": "set working set size",
                                    "7": "0",
                                    "8": "1"
                                },
                                {
                                    "0": "1534",
                                    "1": "user options",
                                    "2": "0",
                                    "3": "0",
                                    "4": "32767",
                                    "5": "0",
                                    "6": "user options",
                                    "7": "1",
                                    "8": "0"
                                },
                                {
                                    "0": "1535",
                                    "1": "affinity mask",
                                    "2": "0",
                                    "3": "-2147483648",
                                    "4": "2147483647",
                                    "5": "0",
                                    "6": "affinity mask",
                                    "7": "1",
                                    "8": "1"
                                },
                                {
                                    "0": "1536",
                                    "1": "max text repl size (B)",
                                    "2": "65536",
                                    "3": "-1",
                                    "4": "2147483647",
                                    "5": "65536",
                                    "6": "Maximum size of a text field in replication.",
                                    "7": "1",
                                    "8": "0"
                                },
                                {
                                    "0": "1537",
                                    "1": "media retention",
                                    "2": "0",
                                    "3": "0",
                                    "4": "365",
                                    "5": "0",
                                    "6": "Tape retention period in days",
                                    "7": "1",
                                    "8": "1"
                                },
                                {
                                    "0": "1538",
                                    "1": "cost threshold for parallelism",
                                    "2": "5",
                                    "3": "0",
                                    "4": "32767",
                                    "5": "0",
                                    "6": "cost threshold for parallelism",
                                    "7": "1",
                                    "8": "1"
                                },
                                {
                                    "0": "1539",
                                    "1": "max degree of parallelism",
                                    "2": "0",
                                    "3": "0",
                                    "4": "32767",
                                    "5": "0",
                                    "6": "maximum degree of parallelism",
                                    "7": "1",
                                    "8": "1"
                                },
                                {
                                    "0": "1540",
                                    "1": "min memory per query (KB)",
                                    "2": "1024",
                                    "3": "512",
                                    "4": "2147483647",
                                    "5": "1024",
                                    "6": "minimum memory per query (kBytes)",
                                    "7": "1",
                                    "8": "1"
                                },
                                {
                                    "0": "1541",
                                    "1": "query wait (s)",
                                    "2": "-1",
                                    "3": "-1",
                                    "4": "2147483647",
                                    "5": "-1",
                                    "6": "maximum time to wait for query memory (s)",
                                    "7": "1",
                                    "8": "1"
                                },
                                {
                                    "0": "1543",
                                    "1": "min server memory (MB)",
                                    "2": "0",
                                    "3": "0",
                                    "4": "2147483647",
                                    "5": "16",
                                    "6": "Minimum size of server memory (MB)",
                                    "7": "1",
                                    "8": "1"
                                },
                                {
                                    "0": "1544",
                                    "1": "max server memory (MB)",
                                    "2": "2147483647",
                                    "3": "128",
                                    "4": "2147483647",
                                    "5": "2147483647",
                                    "6": "Maximum size of server memory (MB)",
                                    "7": "1",
                                    "8": "1"
                                },
                                {
                                    "0": "1545",
                                    "1": "query governor cost limit",
                                    "2": "0",
                                    "3": "0",
                                    "4": "2147483647",
                                    "5": "0",
                                    "6": "Maximum estimated cost allowed by query governor",
                                    "7": "1",
                                    "8": "1"
                                },
                                {
                                    "0": "1546",
                                    "1": "lightweight pooling",
                                    "2": "0",
                                    "3": "0",
                                    "4": "1",
                                    "5": "0",
                                    "6": "User mode scheduler uses lightweight pooling",
                                    "7": "0",
                                    "8": "1"
                                },
                                {
                                    "0": "1547",
                                    "1": "scan for startup procs",
                                    "2": "0",
                                    "3": "0",
                                    "4": "1",
                                    "5": "0",
                                    "6": "scan for startup stored procedures",
                                    "7": "0",
                                    "8": "1"
                                },
                                {
                                    "0": "1549",
                                    "1": "affinity64 mask",
                                    "2": "0",
                                    "3": "-2147483648",
                                    "4": "2147483647",
                                    "5": "0",
                                    "6": "affinity64 mask",
                                    "7": "1",
                                    "8": "1"
                                },
                                {
                                    "0": "1550",
                                    "1": "affinity I/O mask",
                                    "2": "0",
                                    "3": "-2147483648",
                                    "4": "2147483647",
                                    "5": "0",
                                    "6": "affinity I/O mask",
                                    "7": "0",
                                    "8": "1"
                                },
                                {
                                    "0": "1551",
                                    "1": "affinity64 I/O mask",
                                    "2": "0",
                                    "3": "-2147483648",
                                    "4": "2147483647",
                                    "5": "0",
                                    "6": "affinity64 I/O mask",
                                    "7": "0",
                                    "8": "1"
                                },
                                {
                                    "0": "1555",
                                    "1": "transform noise words",
                                    "2": "0",
                                    "3": "0",
                                    "4": "1",
                                    "5": "0",
                                    "6": "Transform noise words for full-text query",
                                    "7": "1",
                                    "8": "1"
                                },
                                {
                                    "0": "1556",
                                    "1": "precompute rank",
                                    "2": "0",
                                    "3": "0",
                                    "4": "1",
                                    "5": "0",
                                    "6": "Use precomputed rank for full-text query",
                                    "7": "1",
                                    "8": "1"
                                },
                                {
                                    "0": "1557",
                                    "1": "PH timeout (s)",
                                    "2": "60",
                                    "3": "1",
                                    "4": "3600",
                                    "5": "60",
                                    "6": "DB connection timeout for full-text protocol handler (s)",
                                    "7": "1",
                                    "8": "1"
                                },
                                {
                                    "0": "1562",
                                    "1": "clr enabled",
                                    "2": "0",
                                    "3": "0",
                                    "4": "1",
                                    "5": "0",
                                    "6": "CLR user code execution enabled in the server",
                                    "7": "1",
                                    "8": "0"
                                },
                                {
                                    "0": "1563",
                                    "1": "max full-text crawl range",
                                    "2": "4",
                                    "3": "0",
                                    "4": "256",
                                    "5": "4",
                                    "6": "Maximum  crawl ranges allowed in full-text indexing",
                                    "7": "1",
                                    "8": "1"
                                },
                                {
                                    "0": "1564",
                                    "1": "ft notify bandwidth (min)",
                                    "2": "0",
                                    "3": "0",
                                    "4": "32767",
                                    "5": "0",
                                    "6": "Number of reserved full-text notifications buffers",
                                    "7": "1",
                                    "8": "1"
                                },
                                {
                                    "0": "1565",
                                    "1": "ft notify bandwidth (max)",
                                    "2": "100",
                                    "3": "0",
                                    "4": "32767",
                                    "5": "100",
                                    "6": "Max number of full-text notifications buffers",
                                    "7": "1",
                                    "8": "1"
                                },
                                {
                                    "0": "1566",
                                    "1": "ft crawl bandwidth (min)",
                                    "2": "0",
                                    "3": "0",
                                    "4": "32767",
                                    "5": "0",
                                    "6": "Number of reserved full-text crawl buffers",
                                    "7": "1",
                                    "8": "1"
                                },
                                {
                                    "0": "1567",
                                    "1": "ft crawl bandwidth (max)",
                                    "2": "100",
                                    "3": "0",
                                    "4": "32767",
                                    "5": "100",
                                    "6": "Max number of full-text crawl buffers",
                                    "7": "1",
                                    "8": "1"
                                },
                                {
                                    "0": "1568",
                                    "1": "default trace enabled",
                                    "2": "1",
                                    "3": "0",
                                    "4": "1",
                                    "5": "1",
                                    "6": "Enable or disable the default trace",
                                    "7": "1",
                                    "8": "1"
                                },
                                {
                                    "0": "1569",
                                    "1": "blocked process threshold (s)",
                                    "2": "0",
                                    "3": "0",
                                    "4": "86400",
                                    "5": "0",
                                    "6": "Blocked process reporting threshold",
                                    "7": "1",
                                    "8": "1"
                                },
                                {
                                    "0": "1570",
                                    "1": "in-doubt xact resolution",
                                    "2": "0",
                                    "3": "0",
                                    "4": "2",
                                    "5": "0",
                                    "6": "Recovery policy for DTC transactions with unknown outcome",
                                    "7": "1",
                                    "8": "1"
                                },
                                {
                                    "0": "1576",
                                    "1": "remote admin connections",
                                    "2": "0",
                                    "3": "0",
                                    "4": "1",
                                    "5": "0",
                                    "6": "Dedicated Admin Connections are allowed from remote clients",
                                    "7": "1",
                                    "8": "0"
                                },
                                {
                                    "0": "1578",
                                    "1": "EKM provider enabled",
                                    "2": "0",
                                    "3": "0",
                                    "4": "1",
                                    "5": "0",
                                    "6": "Enable or disable EKM provider",
                                    "7": "1",
                                    "8": "1"
                                },
                                {
                                    "0": "1579",
                                    "1": "backup compression default",
                                    "2": "0",
                                    "3": "0",
                                    "4": "1",
                                    "5": "0",
                                    "6": "Enable compression of backups by default",
                                    "7": "1",
                                    "8": "0"
                                },
                                {
                                    "0": "1580",
                                    "1": "filestream access level",
                                    "2": "0",
                                    "3": "0",
                                    "4": "2",
                                    "5": "0",
                                    "6": "Sets the FILESTREAM access level",
                                    "7": "1",
                                    "8": "0"
                                },
                                {
                                    "0": "1581",
                                    "1": "optimize for ad hoc workloads",
                                    "2": "0",
                                    "3": "0",
                                    "4": "1",
                                    "5": "0",
                                    "6": "When this option is set, plan cache size is further reduced for single-use adhoc OLTP workload.",
                                    "7": "1",
                                    "8": "1"
                                },
                                {
                                    "0": "1582",
                                    "1": "access check cache bucket count",
                                    "2": "0",
                                    "3": "0",
                                    "4": "65536",
                                    "5": "0",
                                    "6": "Default hash bucket count for the access check result security cache",
                                    "7": "1",
                                    "8": "1"
                                },
                                {
                                    "0": "1583",
                                    "1": "access check cache quota",
                                    "2": "0",
                                    "3": "0",
                                    "4": "2147483647",
                                    "5": "0",
                                    "6": "Default quota for the access check result security cache",
                                    "7": "1",
                                    "8": "1"
                                },
                                {
                                    "0": "1584",
                                    "1": "backup checksum default",
                                    "2": "0",
                                    "3": "0",
                                    "4": "1",
                                    "5": "0",
                                    "6": "Enable checksum of backups by default",
                                    "7": "1",
                                    "8": "0"
                                },
                                {
                                    "0": "1585",
                                    "1": "automatic soft-NUMA disabled",
                                    "2": "0",
                                    "3": "0",
                                    "4": "1",
                                    "5": "0",
                                    "6": "Automatic soft-NUMA is enabled by default",
                                    "7": "0",
                                    "8": "1"
                                },
                                {
                                    "0": "1586",
                                    "1": "external scripts enabled",
                                    "2": "0",
                                    "3": "0",
                                    "4": "1",
                                    "5": "0",
                                    "6": "Allows execution of external scripts",
                                    "7": "1",
                                    "8": "0"
                                },
                                {
                                    "0": "1587",
                                    "1": "clr strict security",
                                    "2": "1",
                                    "3": "0",
                                    "4": "1",
                                    "5": "1",
                                    "6": "CLR strict security enabled in the server",
                                    "7": "1",
                                    "8": "1"
                                },
                                {
                                    "0": "1588",
                                    "1": "column encryption enclave type",
                                    "2": "0",
                                    "3": "0",
                                    "4": "2",
                                    "5": "0",
                                    "6": "Type of enclave used for computations on encrypted columns",
                                    "7": "0",
                                    "8": "0"
                                },
                                {
                                    "0": "1589",
                                    "1": "tempdb metadata memory-optimized",
                                    "2": "0",
                                    "3": "0",
                                    "4": "1",
                                    "5": "0",
                                    "6": "Tempdb metadata memory-optimized is disabled by default.",
                                    "7": "0",
                                    "8": "1"
                                },
                                {
                                    "0": "1591",
                                    "1": "ADR cleaner retry timeout (min)",
                                    "2": "0",
                                    "3": "0",
                                    "4": "32767",
                                    "5": "0",
                                    "6": "ADR cleaner retry timeout.",
                                    "7": "1",
                                    "8": "1"
                                },
                                {
                                    "0": "1592",
                                    "1": "ADR Preallocation Factor",
                                    "2": "0",
                                    "3": "0",
                                    "4": "32767",
                                    "5": "0",
                                    "6": "ADR Preallocation Factor.",
                                    "7": "1",
                                    "8": "1"
                                },
                                {
                                    "0": "16384",
                                    "1": "Agent XPs",
                                    "2": "1",
                                    "3": "0",
                                    "4": "1",
                                    "5": "1",
                                    "6": "Enable or disable Agent XPs",
                                    "7": "1",
                                    "8": "1"
                                },
                                {
                                    "0": "16386",
                                    "1": "Database Mail XPs",
                                    "2": "0",
                                    "3": "0",
                                    "4": "1",
                                    "5": "0",
                                    "6": "Enable or disable Database Mail XPs",
                                    "7": "1",
                                    "8": "1"
                                },
                                {
                                    "0": "16387",
                                    "1": "SMO and DMO XPs",
                                    "2": "1",
                                    "3": "0",
                                    "4": "1",
                                    "5": "1",
                                    "6": "Enable or disable SMO and DMO XPs",
                                    "7": "1",
                                    "8": "1"
                                },
                                {
                                    "0": "16388",
                                    "1": "Ole Automation Procedures",
                                    "2": "0",
                                    "3": "0",
                                    "4": "1",
                                    "5": "0",
                                    "6": "Enable or disable Ole Automation Procedures",
                                    "7": "1",
                                    "8": "1"
                                },
                                {
                                    "0": "16390",
                                    "1": "xp_cmdshell",
                                    "2": "0",
                                    "3": "0",
                                    "4": "1",
                                    "5": "0",
                                    "6": "Enable or disable command shell",
                                    "7": "1",
                                    "8": "1"
                                },
                                {
                                    "0": "16391",
                                    "1": "Ad Hoc Distributed Queries",
                                    "2": "0",
                                    "3": "0",
                                    "4": "1",
                                    "5": "0",
                                    "6": "Enable or disable Ad Hoc Distributed Queries",
                                    "7": "1",
                                    "8": "1"
                                },
                                {
                                    "0": "16392",
                                    "1": "Replication XPs",
                                    "2": "0",
                                    "3": "0",
                                    "4": "1",
                                    "5": "0",
                                    "6": "Enable or disable Replication XPs",
                                    "7": "1",
                                    "8": "1"
                                },
                                {
                                    "0": "16393",
                                    "1": "contained database authentication",
                                    "2": "0",
                                    "3": "0",
                                    "4": "1",
                                    "5": "0",
                                    "6": "Enables contained databases and contained authentication",
                                    "7": "1",
                                    "8": "0"
                                },
                                {
                                    "0": "16394",
                                    "1": "hadoop connectivity",
                                    "2": "0",
                                    "3": "0",
                                    "4": "7",
                                    "5": "0",
                                    "6": "Configure SQL Server to connect to external Hadoop or Microsoft Azure storage blob data sources through PolyBase",
                                    "7": "1",
                                    "8": "0"
                                },
                                {
                                    "0": "16395",
                                    "1": "polybase network encryption",
                                    "2": "1",
                                    "3": "0",
                                    "4": "1",
                                    "5": "1",
                                    "6": "Configure SQL Server to encrypt control and data channels when using PolyBase",
                                    "7": "1",
                                    "8": "0"
                                },
                                {
                                    "0": "16396",
                                    "1": "remote data archive",
                                    "2": "0",
                                    "3": "0",
                                    "4": "1",
                                    "5": "0",
                                    "6": "Allow the use of the REMOTE_DATA_ARCHIVE data access for databases",
                                    "7": "1",
                                    "8": "0"
                                },
                                {
                                    "0": "16397",
                                    "1": "allow polybase export",
                                    "2": "0",
                                    "3": "0",
                                    "4": "1",
                                    "5": "0",
                                    "6": "Allow INSERT into a Hadoop external table",
                                    "7": "1",
                                    "8": "0"
                                },
                                {
                                    "0": "16398",
                                    "1": "allow filesystem enumeration",
                                    "2": "1",
                                    "3": "0",
                                    "4": "1",
                                    "5": "1",
                                    "6": "Allow enumeration of filesystem",
                                    "7": "1",
                                    "8": "1"
                                },
                                {
                                    "0": "16399",
                                    "1": "polybase enabled",
                                    "2": "0",
                                    "3": "0",
                                    "4": "1",
                                    "5": "0",
                                    "6": "Configure SQL Server to connect to external data sources through PolyBase",
                                    "7": "1",
                                    "8": "0"
                                }
                            ]
                        },
                        "text/html": "<table><tr><th>configuration_id</th><th>name</th><th>value</th><th>minimum</th><th>maximum</th><th>value_in_use</th><th>description</th><th>is_dynamic</th><th>is_advanced</th></tr><tr><td>101</td><td>recovery interval (min)</td><td>0</td><td>0</td><td>32767</td><td>0</td><td>Maximum recovery interval in minutes</td><td>1</td><td>1</td></tr><tr><td>102</td><td>allow updates</td><td>0</td><td>0</td><td>1</td><td>0</td><td>Allow updates to system tables</td><td>1</td><td>0</td></tr><tr><td>103</td><td>user connections</td><td>0</td><td>0</td><td>32767</td><td>0</td><td>Number of user connections allowed</td><td>0</td><td>1</td></tr><tr><td>106</td><td>locks</td><td>0</td><td>5000</td><td>2147483647</td><td>0</td><td>Number of locks for all users</td><td>0</td><td>1</td></tr><tr><td>107</td><td>open objects</td><td>0</td><td>0</td><td>2147483647</td><td>0</td><td>Number of open database objects</td><td>0</td><td>1</td></tr><tr><td>109</td><td>fill factor (%)</td><td>0</td><td>0</td><td>100</td><td>0</td><td>Default fill factor percentage</td><td>0</td><td>1</td></tr><tr><td>114</td><td>disallow results from triggers</td><td>0</td><td>0</td><td>1</td><td>0</td><td>Disallow returning results from triggers</td><td>1</td><td>1</td></tr><tr><td>115</td><td>nested triggers</td><td>1</td><td>0</td><td>1</td><td>1</td><td>Allow triggers to be invoked within triggers</td><td>1</td><td>0</td></tr><tr><td>116</td><td>server trigger recursion</td><td>1</td><td>0</td><td>1</td><td>1</td><td>Allow recursion for server level triggers</td><td>1</td><td>0</td></tr><tr><td>117</td><td>remote access</td><td>1</td><td>0</td><td>1</td><td>0</td><td>Allow remote access</td><td>0</td><td>0</td></tr><tr><td>124</td><td>default language</td><td>0</td><td>0</td><td>9999</td><td>0</td><td>default language</td><td>1</td><td>0</td></tr><tr><td>400</td><td>cross db ownership chaining</td><td>0</td><td>0</td><td>1</td><td>0</td><td>Allow cross db ownership chaining</td><td>1</td><td>0</td></tr><tr><td>503</td><td>max worker threads</td><td>0</td><td>128</td><td>65535</td><td>0</td><td>Maximum worker threads</td><td>1</td><td>1</td></tr><tr><td>505</td><td>network packet size (B)</td><td>4096</td><td>512</td><td>32767</td><td>4096</td><td>Network packet size</td><td>1</td><td>1</td></tr><tr><td>518</td><td>show advanced options</td><td>0</td><td>0</td><td>1</td><td>1</td><td>show advanced options</td><td>1</td><td>0</td></tr><tr><td>542</td><td>remote proc trans</td><td>0</td><td>0</td><td>1</td><td>0</td><td>Create DTC transaction for remote procedures</td><td>1</td><td>0</td></tr><tr><td>544</td><td>c2 audit mode</td><td>0</td><td>0</td><td>1</td><td>0</td><td>c2 audit mode</td><td>0</td><td>1</td></tr><tr><td>1126</td><td>default full-text language</td><td>1033</td><td>0</td><td>2147483647</td><td>1033</td><td>default full-text language</td><td>1</td><td>1</td></tr><tr><td>1127</td><td>two digit year cutoff</td><td>2049</td><td>1753</td><td>9999</td><td>2049</td><td>two digit year cutoff</td><td>1</td><td>1</td></tr><tr><td>1505</td><td>index create memory (KB)</td><td>0</td><td>704</td><td>2147483647</td><td>704</td><td>Memory for index create sorts (kBytes)</td><td>1</td><td>1</td></tr><tr><td>1517</td><td>priority boost</td><td>0</td><td>0</td><td>1</td><td>0</td><td>Priority boost</td><td>0</td><td>1</td></tr><tr><td>1519</td><td>remote login timeout (s)</td><td>10</td><td>0</td><td>2147483647</td><td>5</td><td>remote login timeout</td><td>1</td><td>0</td></tr><tr><td>1520</td><td>remote query timeout (s)</td><td>600</td><td>0</td><td>2147483647</td><td>600</td><td>remote query timeout</td><td>1</td><td>0</td></tr><tr><td>1531</td><td>cursor threshold</td><td>-1</td><td>-1</td><td>2147483647</td><td>-1</td><td>cursor threshold</td><td>1</td><td>1</td></tr><tr><td>1532</td><td>set working set size</td><td>0</td><td>0</td><td>1</td><td>0</td><td>set working set size</td><td>0</td><td>1</td></tr><tr><td>1534</td><td>user options</td><td>0</td><td>0</td><td>32767</td><td>0</td><td>user options</td><td>1</td><td>0</td></tr><tr><td>1535</td><td>affinity mask</td><td>0</td><td>-2147483648</td><td>2147483647</td><td>0</td><td>affinity mask</td><td>1</td><td>1</td></tr><tr><td>1536</td><td>max text repl size (B)</td><td>65536</td><td>-1</td><td>2147483647</td><td>65536</td><td>Maximum size of a text field in replication.</td><td>1</td><td>0</td></tr><tr><td>1537</td><td>media retention</td><td>0</td><td>0</td><td>365</td><td>0</td><td>Tape retention period in days</td><td>1</td><td>1</td></tr><tr><td>1538</td><td>cost threshold for parallelism</td><td>5</td><td>0</td><td>32767</td><td>0</td><td>cost threshold for parallelism</td><td>1</td><td>1</td></tr><tr><td>1539</td><td>max degree of parallelism</td><td>0</td><td>0</td><td>32767</td><td>0</td><td>maximum degree of parallelism</td><td>1</td><td>1</td></tr><tr><td>1540</td><td>min memory per query (KB)</td><td>1024</td><td>512</td><td>2147483647</td><td>1024</td><td>minimum memory per query (kBytes)</td><td>1</td><td>1</td></tr><tr><td>1541</td><td>query wait (s)</td><td>-1</td><td>-1</td><td>2147483647</td><td>-1</td><td>maximum time to wait for query memory (s)</td><td>1</td><td>1</td></tr><tr><td>1543</td><td>min server memory (MB)</td><td>0</td><td>0</td><td>2147483647</td><td>16</td><td>Minimum size of server memory (MB)</td><td>1</td><td>1</td></tr><tr><td>1544</td><td>max server memory (MB)</td><td>2147483647</td><td>128</td><td>2147483647</td><td>2147483647</td><td>Maximum size of server memory (MB)</td><td>1</td><td>1</td></tr><tr><td>1545</td><td>query governor cost limit</td><td>0</td><td>0</td><td>2147483647</td><td>0</td><td>Maximum estimated cost allowed by query governor</td><td>1</td><td>1</td></tr><tr><td>1546</td><td>lightweight pooling</td><td>0</td><td>0</td><td>1</td><td>0</td><td>User mode scheduler uses lightweight pooling</td><td>0</td><td>1</td></tr><tr><td>1547</td><td>scan for startup procs</td><td>0</td><td>0</td><td>1</td><td>0</td><td>scan for startup stored procedures</td><td>0</td><td>1</td></tr><tr><td>1549</td><td>affinity64 mask</td><td>0</td><td>-2147483648</td><td>2147483647</td><td>0</td><td>affinity64 mask</td><td>1</td><td>1</td></tr><tr><td>1550</td><td>affinity I/O mask</td><td>0</td><td>-2147483648</td><td>2147483647</td><td>0</td><td>affinity I/O mask</td><td>0</td><td>1</td></tr><tr><td>1551</td><td>affinity64 I/O mask</td><td>0</td><td>-2147483648</td><td>2147483647</td><td>0</td><td>affinity64 I/O mask</td><td>0</td><td>1</td></tr><tr><td>1555</td><td>transform noise words</td><td>0</td><td>0</td><td>1</td><td>0</td><td>Transform noise words for full-text query</td><td>1</td><td>1</td></tr><tr><td>1556</td><td>precompute rank</td><td>0</td><td>0</td><td>1</td><td>0</td><td>Use precomputed rank for full-text query</td><td>1</td><td>1</td></tr><tr><td>1557</td><td>PH timeout (s)</td><td>60</td><td>1</td><td>3600</td><td>60</td><td>DB connection timeout for full-text protocol handler (s)</td><td>1</td><td>1</td></tr><tr><td>1562</td><td>clr enabled</td><td>0</td><td>0</td><td>1</td><td>0</td><td>CLR user code execution enabled in the server</td><td>1</td><td>0</td></tr><tr><td>1563</td><td>max full-text crawl range</td><td>4</td><td>0</td><td>256</td><td>4</td><td>Maximum  crawl ranges allowed in full-text indexing</td><td>1</td><td>1</td></tr><tr><td>1564</td><td>ft notify bandwidth (min)</td><td>0</td><td>0</td><td>32767</td><td>0</td><td>Number of reserved full-text notifications buffers</td><td>1</td><td>1</td></tr><tr><td>1565</td><td>ft notify bandwidth (max)</td><td>100</td><td>0</td><td>32767</td><td>100</td><td>Max number of full-text notifications buffers</td><td>1</td><td>1</td></tr><tr><td>1566</td><td>ft crawl bandwidth (min)</td><td>0</td><td>0</td><td>32767</td><td>0</td><td>Number of reserved full-text crawl buffers</td><td>1</td><td>1</td></tr><tr><td>1567</td><td>ft crawl bandwidth (max)</td><td>100</td><td>0</td><td>32767</td><td>100</td><td>Max number of full-text crawl buffers</td><td>1</td><td>1</td></tr><tr><td>1568</td><td>default trace enabled</td><td>1</td><td>0</td><td>1</td><td>1</td><td>Enable or disable the default trace</td><td>1</td><td>1</td></tr><tr><td>1569</td><td>blocked process threshold (s)</td><td>0</td><td>0</td><td>86400</td><td>0</td><td>Blocked process reporting threshold</td><td>1</td><td>1</td></tr><tr><td>1570</td><td>in-doubt xact resolution</td><td>0</td><td>0</td><td>2</td><td>0</td><td>Recovery policy for DTC transactions with unknown outcome</td><td>1</td><td>1</td></tr><tr><td>1576</td><td>remote admin connections</td><td>0</td><td>0</td><td>1</td><td>0</td><td>Dedicated Admin Connections are allowed from remote clients</td><td>1</td><td>0</td></tr><tr><td>1578</td><td>EKM provider enabled</td><td>0</td><td>0</td><td>1</td><td>0</td><td>Enable or disable EKM provider</td><td>1</td><td>1</td></tr><tr><td>1579</td><td>backup compression default</td><td>0</td><td>0</td><td>1</td><td>0</td><td>Enable compression of backups by default</td><td>1</td><td>0</td></tr><tr><td>1580</td><td>filestream access level</td><td>0</td><td>0</td><td>2</td><td>0</td><td>Sets the FILESTREAM access level</td><td>1</td><td>0</td></tr><tr><td>1581</td><td>optimize for ad hoc workloads</td><td>0</td><td>0</td><td>1</td><td>0</td><td>When this option is set, plan cache size is further reduced for single-use adhoc OLTP workload.</td><td>1</td><td>1</td></tr><tr><td>1582</td><td>access check cache bucket count</td><td>0</td><td>0</td><td>65536</td><td>0</td><td>Default hash bucket count for the access check result security cache</td><td>1</td><td>1</td></tr><tr><td>1583</td><td>access check cache quota</td><td>0</td><td>0</td><td>2147483647</td><td>0</td><td>Default quota for the access check result security cache</td><td>1</td><td>1</td></tr><tr><td>1584</td><td>backup checksum default</td><td>0</td><td>0</td><td>1</td><td>0</td><td>Enable checksum of backups by default</td><td>1</td><td>0</td></tr><tr><td>1585</td><td>automatic soft-NUMA disabled</td><td>0</td><td>0</td><td>1</td><td>0</td><td>Automatic soft-NUMA is enabled by default</td><td>0</td><td>1</td></tr><tr><td>1586</td><td>external scripts enabled</td><td>0</td><td>0</td><td>1</td><td>0</td><td>Allows execution of external scripts</td><td>1</td><td>0</td></tr><tr><td>1587</td><td>clr strict security</td><td>1</td><td>0</td><td>1</td><td>1</td><td>CLR strict security enabled in the server</td><td>1</td><td>1</td></tr><tr><td>1588</td><td>column encryption enclave type</td><td>0</td><td>0</td><td>2</td><td>0</td><td>Type of enclave used for computations on encrypted columns</td><td>0</td><td>0</td></tr><tr><td>1589</td><td>tempdb metadata memory-optimized</td><td>0</td><td>0</td><td>1</td><td>0</td><td>Tempdb metadata memory-optimized is disabled by default.</td><td>0</td><td>1</td></tr><tr><td>1591</td><td>ADR cleaner retry timeout (min)</td><td>0</td><td>0</td><td>32767</td><td>0</td><td>ADR cleaner retry timeout.</td><td>1</td><td>1</td></tr><tr><td>1592</td><td>ADR Preallocation Factor</td><td>0</td><td>0</td><td>32767</td><td>0</td><td>ADR Preallocation Factor.</td><td>1</td><td>1</td></tr><tr><td>16384</td><td>Agent XPs</td><td>1</td><td>0</td><td>1</td><td>1</td><td>Enable or disable Agent XPs</td><td>1</td><td>1</td></tr><tr><td>16386</td><td>Database Mail XPs</td><td>0</td><td>0</td><td>1</td><td>0</td><td>Enable or disable Database Mail XPs</td><td>1</td><td>1</td></tr><tr><td>16387</td><td>SMO and DMO XPs</td><td>1</td><td>0</td><td>1</td><td>1</td><td>Enable or disable SMO and DMO XPs</td><td>1</td><td>1</td></tr><tr><td>16388</td><td>Ole Automation Procedures</td><td>0</td><td>0</td><td>1</td><td>0</td><td>Enable or disable Ole Automation Procedures</td><td>1</td><td>1</td></tr><tr><td>16390</td><td>xp_cmdshell</td><td>0</td><td>0</td><td>1</td><td>0</td><td>Enable or disable command shell</td><td>1</td><td>1</td></tr><tr><td>16391</td><td>Ad Hoc Distributed Queries</td><td>0</td><td>0</td><td>1</td><td>0</td><td>Enable or disable Ad Hoc Distributed Queries</td><td>1</td><td>1</td></tr><tr><td>16392</td><td>Replication XPs</td><td>0</td><td>0</td><td>1</td><td>0</td><td>Enable or disable Replication XPs</td><td>1</td><td>1</td></tr><tr><td>16393</td><td>contained database authentication</td><td>0</td><td>0</td><td>1</td><td>0</td><td>Enables contained databases and contained authentication</td><td>1</td><td>0</td></tr><tr><td>16394</td><td>hadoop connectivity</td><td>0</td><td>0</td><td>7</td><td>0</td><td>Configure SQL Server to connect to external Hadoop or Microsoft Azure storage blob data sources through PolyBase</td><td>1</td><td>0</td></tr><tr><td>16395</td><td>polybase network encryption</td><td>1</td><td>0</td><td>1</td><td>1</td><td>Configure SQL Server to encrypt control and data channels when using PolyBase</td><td>1</td><td>0</td></tr><tr><td>16396</td><td>remote data archive</td><td>0</td><td>0</td><td>1</td><td>0</td><td>Allow the use of the REMOTE_DATA_ARCHIVE data access for databases</td><td>1</td><td>0</td></tr><tr><td>16397</td><td>allow polybase export</td><td>0</td><td>0</td><td>1</td><td>0</td><td>Allow INSERT into a Hadoop external table</td><td>1</td><td>0</td></tr><tr><td>16398</td><td>allow filesystem enumeration</td><td>1</td><td>0</td><td>1</td><td>1</td><td>Allow enumeration of filesystem</td><td>1</td><td>1</td></tr><tr><td>16399</td><td>polybase enabled</td><td>0</td><td>0</td><td>1</td><td>0</td><td>Configure SQL Server to connect to external data sources through PolyBase</td><td>1</td><td>0</td></tr></table>"
                    }
                }
            ],
            "execution_count": 8
        },
        {
            "cell_type": "markdown",
            "source": [
                "## More info about the OS"
            ],
            "metadata": {
                "azdata_cell_guid": "30b95f89-494a-425f-861f-343dc3f48b6c"
            }
        },
        {
            "cell_type": "code",
            "source": [
                "SELECT [physical_memory_kb], [container_type_desc]\r\n",
                "FROM [sys].[dm_os_sys_info]\r\n",
                "\r\n",
                "SELECT [host_platform], [host_distribution], [host_release], [os_language_version], [host_architecture]\r\n",
                "FROM [sys].[dm_os_host_info]"
            ],
            "metadata": {
                "azdata_cell_guid": "5adc55f9-d0a8-42a0-b87d-9c1b44be03ca",
                "tags": []
            },
            "outputs": [
                {
                    "output_type": "display_data",
                    "data": {
                        "text/html": "(1 row affected)"
                    },
                    "metadata": {}
                },
                {
                    "output_type": "display_data",
                    "data": {
                        "text/html": "(1 row affected)"
                    },
                    "metadata": {}
                },
                {
                    "output_type": "display_data",
                    "data": {
                        "text/html": "Total execution time: 00:00:00.074"
                    },
                    "metadata": {}
                },
                {
                    "output_type": "execute_result",
                    "metadata": {},
                    "execution_count": 12,
                    "data": {
                        "application/vnd.dataresource+json": {
                            "schema": {
                                "fields": [
                                    {
                                        "name": "physical_memory_kb"
                                    },
                                    {
                                        "name": "container_type_desc"
                                    }
                                ]
                            },
                            "data": [
                                {
                                    "0": "2820096",
                                    "1": "LINUX CONTAINER"
                                }
                            ]
                        },
                        "text/html": "<table><tr><th>physical_memory_kb</th><th>container_type_desc</th></tr><tr><td>2820096</td><td>LINUX CONTAINER</td></tr></table>"
                    }
                },
                {
                    "output_type": "execute_result",
                    "metadata": {},
                    "execution_count": 12,
                    "data": {
                        "application/vnd.dataresource+json": {
                            "schema": {
                                "fields": [
                                    {
                                        "name": "host_platform"
                                    },
                                    {
                                        "name": "host_distribution"
                                    },
                                    {
                                        "name": "host_release"
                                    },
                                    {
                                        "name": "os_language_version"
                                    },
                                    {
                                        "name": "host_architecture"
                                    }
                                ]
                            },
                            "data": [
                                {
                                    "0": "Linux",
                                    "1": "Ubuntu",
                                    "2": "16.04",
                                    "3": "1033",
                                    "4": "X64"
                                }
                            ]
                        },
                        "text/html": "<table><tr><th>host_platform</th><th>host_distribution</th><th>host_release</th><th>os_language_version</th><th>host_architecture</th></tr><tr><td>Linux</td><td>Ubuntu</td><td>16.04</td><td>1033</td><td>X64</td></tr></table>"
                    }
                }
            ],
            "execution_count": 12
        },
        {
            "cell_type": "markdown",
            "source": [
                ""
            ],
            "metadata": {
                "azdata_cell_guid": "8b2b6582-1a03-4148-bd90-e4ffba3e8fae"
            }
        },
        {
            "cell_type": "markdown",
            "source": [
                "# Header 1\r\n",
                "## Header 2\r\n",
                "### Header 3\r\n",
                "\r\n",
                "> Block\r\n",
                "\r\n",
                ">> Double Block\r\n",
                "\r\n",
                "Some simple paragraph here.\r\n",
                "\r\n",
                "Some simple line by line text <br>\r\n",
                "Line #2 here\r\n",
                "\r\n",
                "Some bullet list:\r\n",
                "* Bullet 1\r\n",
                "* Bullet 2\r\n",
                "    * Bullet 2.1\r\n",
                "\r\n",
                "Some magical numbering\r\n",
                "1. Fancy numbering\r\n",
                "3. It gets reordered as #2, even though I put #1\r\n",
                "\r\n",
                "``` \r\n",
                "Fancy code\r\n",
                "```\r\n",
                "\r\n",
                ""
            ],
            "metadata": {
                "azdata_cell_guid": "d6c56afe-b11b-448e-b4e4-7b8502f20ca0"
            }
        },
        {
            "cell_type": "code",
            "source": [
                ""
            ],
            "metadata": {
                "azdata_cell_guid": "5b8ce0ee-7d60-4552-874b-ffb6cc1a225c"
            },
            "outputs": [],
            "execution_count": 0
        }
    ]
}