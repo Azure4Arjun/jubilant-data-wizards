{
    "metadata": {
        "kernelspec": {
            "name": "python3",
            "display_name": "Python 3",
            "language": "python"
        },
        "language_info": {
            "name": "python",
            "version": "3.6.6",
            "mimetype": "text/x-python",
            "codemirror_mode": {
                "name": "ipython",
                "version": 3
            },
            "pygments_lexer": "ipython3",
            "nbconvert_exporter": "python",
            "file_extension": ".py"
        }
    },
    "nbformat_minor": 2,
    "nbformat": 4,
    "cells": [
        {
            "cell_type": "markdown",
            "source": [
                "# Testing Kqlmagic with parameterized query\r\n",
                "\r\n",
                "The purpose of this notebook is to query Samples database in the Help ADX cluster. The default parameter is set to GEORGIA. When invoking this notebook, users can change the filter to something else.\r\n",
                "\r\n",
                "The login is provided with az cli. If users already logged in, they won't have to do SSO anymore. \r\n",
                "\r\n",
                ""
            ],
            "metadata": {
                "azdata_cell_guid": "20381b60-8ed9-4c00-b61c-4f04e0b9f8b0"
            }
        },
        {
            "cell_type": "markdown",
            "source": [
                "## Set the stateFilter parameter\r\n",
                "\r\n",
                "Default value for stateFilter is GEORGIA. It can be set to something else. "
            ],
            "metadata": {
                "azdata_cell_guid": "a7387bee-4449-457d-a52a-17a23f62acab"
            }
        },
        {
            "cell_type": "code",
            "source": [
                "stateFilter = \"GEORGIA\";"
            ],
            "metadata": {
                "azdata_cell_guid": "7cd71a72-6990-403e-bc90-f88e7aa8d059",
                "tags": [
                    "parameters"
                ]
            },
            "outputs": [],
            "execution_count": 1
        },
        {
            "cell_type": "markdown",
            "source": [
                "## Get the Azure login going via Azure CLI\r\n",
                "\r\n",
                "The following snippet of code cells are borrowed from the Azure Data Studio Deployment script :)"
            ],
            "metadata": {
                "azdata_cell_guid": "0de46467-a0a6-42be-b91b-ebb44d149ba7"
            }
        },
        {
            "cell_type": "code",
            "source": [
                "import sys, os, json, time, string, random, subprocess\r\n",
                "def run_command(command, json_decode = True, printOutput = True):\r\n",
                "    print(command)\r\n",
                "    process = subprocess.Popen(command.split(), stdout=subprocess.PIPE, stderr=subprocess.PIPE, shell=True)\r\n",
                "    output, error = process.communicate()\r\n",
                "    if process.returncode != 0: \r\n",
                "        print(\"Process failed %d \\n%s\" % (process.returncode, error.decode(\"utf-8\")))\r\n",
                "        raise Exception()\r\n",
                "    if output:\r\n",
                "        output = output.decode(\"utf-8\")\r\n",
                "        if printOutput:\r\n",
                "            print(output)\r\n",
                "        try:\r\n",
                "            return json.loads(output)\r\n",
                "        except:\r\n",
                "            return output\r\n",
                ""
            ],
            "metadata": {
                "azdata_cell_guid": "bf60cae4-93cc-4c16-b326-a8750ac8a394"
            },
            "outputs": [],
            "execution_count": 2
        },
        {
            "cell_type": "code",
            "source": [
                "run_command('az login', printOutput = False)"
            ],
            "metadata": {
                "azdata_cell_guid": "5e56aa0c-28cc-47a6-8e07-4d83b6b1cfe2"
            },
            "outputs": [
                {
                    "name": "stdout",
                    "text": "az login\n",
                    "output_type": "stream"
                }
            ],
            "execution_count": 8
        },
        {
            "cell_type": "markdown",
            "source": [
                "## Load Kqlmagic first\r\n",
                "\r\n",
                "This assumes that Kqlmagic has been installed."
            ],
            "metadata": {
                "azdata_cell_guid": "2bec6e83-8dec-448c-bc73-13ec7b79df27"
            }
        },
        {
            "cell_type": "code",
            "source": [
                "%reload_ext Kqlmagic"
            ],
            "metadata": {
                "azdata_cell_guid": "662ad3dd-5934-4265-976a-8c0d18cc9676"
            },
            "outputs": [
                {
                    "data": {
                        "text/plain": "<IPython.core.display.HTML object>",
                        "text/html": "<html>\n            <head>\n            <title>Kqlmagic - banner</title>\n            <style>\n            .kql-magic-banner {\n                display: flex; \n                background-color: #d9edf7;\n            }\n            .kql-magic-banner > div {\n                margin: 10px; \n                padding: 20px; \n                color: #3a87ad; \n                font-size: 13px;\n            }\n            </style>\n            </head>\n            <body>\n                <div class='kql-magic-banner'>\n                    <div><img src='data:image/png;base64,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'></div>\n                    <div>\n                        <p>Kql Query Language, aka kql, is the query language for advanced analytics on Azure Monitor resources. The current supported data sources are \n                        Azure Data Explorer (Kusto), Log Analytics and Application Insights. To get more information execute '%kql --help \"kql\"'</p>\n                        <p>   \n                          &bull; \n                kql reference: Click on 'Help' tab > and Select 'kql reference' or execute '%kql --help \"kql\"'<br>\n                          &bull; \n                Kqlmagic configuration: execute '%config Kqlmagic'<br>\n                          &bull; \n                Kqlmagic usage: execute '%kql --usage'<br>\n                        </p> \n                    </div>\n                </div>\n            </body>\n            </html>"
                    },
                    "metadata": {},
                    "output_type": "display_data"
                },
                {
                    "data": {
                        "text/plain": "<IPython.core.display.HTML object>",
                        "text/html": "<html>\n        <head>\n            \n            \n        </head>\n        <body>\n            <div><p style='padding: 10px; color: #3a87ad; background-color: #d9edf7; border-color: #bce9f1'>Kqlmagic&nbsp;package&nbsp;is&nbsp;updated&nbsp;frequently.&nbsp;Run&nbsp;&apos;!pip&nbsp;install&nbsp;Kqlmagic&nbsp;--no-cache-dir&nbsp;--upgrade&apos;&nbsp;to&nbsp;use&nbsp;the&nbsp;latest&nbsp;version.<br>Kqlmagic&nbsp;version:&nbsp;0.1.113.post1,&nbsp;source:&nbsp;https://github.com/Microsoft/jupyter-Kqlmagic</p></div>\n        </body>\n        </html>"
                    },
                    "metadata": {},
                    "output_type": "display_data"
                },
                {
                    "data": {
                        "text/plain": "<IPython.core.display.HTML object>",
                        "text/html": "<!DOCTYPE html>\n            <html><body>\n            <div style='padding: 10px; color: #3a87ad; background-color: #d9edf7; border-color: #bce9f1'>\n            Click&nbsp;to&nbsp;find&nbsp;out&nbsp;what's&nbsp;new&nbsp;in&nbsp;Kqlmagic&nbsp;&nbsp;<a href='http://127.0.0.1:61215/webbrowser?url=http%3A//127.0.0.1%3A61215/files/.kqlmagic/temp_files/57899b72-4edb-4716-b3b9-46c07df397a9/popup_what_new_history.html%3Fkernelid%3D57899b72-4edb-4716-b3b9-46c07df397a9&kernelid=57899b72-4edb-4716-b3b9-46c07df397a9' style='padding: 2px 6px 2px 6px; color: #333333; background-color: #EEEEEE; border-top: 1px solid #CCCCCC; border-right: 1px solid #333333; border-bottom: 1px solid #333333; border-left: 1px solid #CCCCCC' target='popup_what_new_history'>What's New? </a>\n            </div>\n            </body></html>"
                    },
                    "metadata": {},
                    "output_type": "display_data"
                }
            ],
            "execution_count": 4
        },
        {
            "cell_type": "markdown",
            "source": [
                "## Setup the connection"
            ],
            "metadata": {
                "azdata_cell_guid": "393052fc-020b-4eb6-96b6-feb166972d22"
            }
        },
        {
            "cell_type": "code",
            "source": [
                "%kql azureDataExplorer://code;cluster='help';database='Samples' -try-azcli_login"
            ],
            "metadata": {
                "azdata_cell_guid": "573614bc-73ae-4887-835e-06b63ecb01f1"
            },
            "outputs": [
                {
                    "data": {
                        "text/plain": "<IPython.core.display.HTML object>",
                        "text/html": "<!DOCTYPE html>\n            <html><body>\n            <div style=''>\n            <a href='http://127.0.0.1:61215/webbrowser?url=http%3A//127.0.0.1%3A61215/files/.kqlmagic/temp_files/57899b72-4edb-4716-b3b9-46c07df397a9/popup__Samples_at_help_schema.html%3Fkernelid%3D57899b72-4edb-4716-b3b9-46c07df397a9&kernelid=57899b72-4edb-4716-b3b9-46c07df397a9' style='padding: 2px 6px 2px 6px; color: #333333; background-color: #EEEEEE; border-top: 1px solid #CCCCCC; border-right: 1px solid #333333; border-bottom: 1px solid #333333; border-left: 1px solid #CCCCCC' target='popup__Samples_at_help_schema'>popup schema Samples@help</a>\n            </div>\n            </body></html>"
                    },
                    "metadata": {},
                    "output_type": "display_data"
                }
            ],
            "execution_count": 5
        },
        {
            "cell_type": "markdown",
            "source": [
                "## The query that would use the parameters"
            ],
            "metadata": {
                "azdata_cell_guid": "2362df1d-e14f-492a-a8d5-48e161c14a66"
            }
        },
        {
            "cell_type": "code",
            "source": [
                "%%kql \r\n",
                "let _state = stateFilter;\r\n",
                "StormEvents \r\n",
                "| where State == _state\r\n",
                "| limit 10"
            ],
            "metadata": {
                "azdata_cell_guid": "a24b0ed9-7b4c-417f-87dd-753cbd80f3b2"
            },
            "outputs": [
                {
                    "data": {
                        "text/plain": "<IPython.core.display.HTML object>",
                        "text/html": "<html>\n        <head>\n            \n            \n        </head>\n        <body>\n            <div><p style='padding: 10px; color: #3a87ad; background-color: #d9edf7; border-color: #bce9f1'>&nbsp;*&nbsp;Samples@help</p></div>\n        </body>\n        </html>"
                    },
                    "metadata": {},
                    "output_type": "display_data"
                },
                {
                    "data": {
                        "text/plain": "                  StartTime                   EndTime  EpisodeId  EventId  \\\n0 2007-12-30 16:00:00+00:00 2007-12-30 16:05:00+00:00      11749    64588   \n1 2007-12-30 18:30:00+00:00 2007-12-30 18:30:00+00:00      11833    64921   \n2 2007-12-21 09:00:00+00:00 2007-12-21 10:00:00+00:00      11824    64901   \n3 2007-12-21 07:45:00+00:00 2007-12-21 10:00:00+00:00      11824    64899   \n4 2007-12-21 09:35:00+00:00 2007-12-21 10:00:00+00:00      11824    64902   \n5 2007-12-21 09:35:00+00:00 2007-12-21 10:00:00+00:00      11824    64903   \n6 2007-12-21 11:15:00+00:00 2007-12-21 12:00:00+00:00      11824    64904   \n7 2007-12-21 08:25:00+00:00 2007-12-21 10:00:00+00:00      11824    64900   \n8 2007-08-26 13:20:00+00:00 2007-08-26 13:20:00+00:00      10444    58115   \n9 2007-08-23 14:20:00+00:00 2007-08-23 14:20:00+00:00      10412    57947   \n\n     State          EventType  InjuriesDirect  InjuriesIndirect  DeathsDirect  \\\n0  GEORGIA  Thunderstorm Wind               0                 0             0   \n1  GEORGIA  Thunderstorm Wind               0                 0             0   \n2  GEORGIA        Flash Flood               0                 0             0   \n3  GEORGIA        Flash Flood               0                 0             0   \n4  GEORGIA        Flash Flood               0                 0             0   \n5  GEORGIA        Flash Flood               0                 0             0   \n6  GEORGIA        Flash Flood               0                 0             0   \n7  GEORGIA        Flash Flood               0                 0             0   \n8  GEORGIA  Thunderstorm Wind               0                 0             0   \n9  GEORGIA               Hail               0                 0             0   \n\n   DeathsIndirect  DamageProperty  DamageCrops               Source  \\\n0               0            2000            0      Law Enforcement   \n1               0           25000            0    Emergency Manager   \n2               0            6000            0      Law Enforcement   \n3               0               0            0    Emergency Manager   \n4               0            5000            0    Emergency Manager   \n5               0               0            0    Emergency Manager   \n6               0               0            0    Emergency Manager   \n7               0               0            0    Emergency Manager   \n8               0               0            0      Trained Spotter   \n9               0               0            0  Park/Forest Service   \n\n          BeginLocation     EndLocation  BeginLat  BeginLon   EndLat   EndLon  \\\n0                 LOTTS           LOTTS   31.5600  -82.8900  31.5600 -82.8900   \n1                MIDWAY          MIDWAY   31.8100  -81.4300  31.8100 -81.4300   \n2            BONA BELLA      BONA BELLA   32.1000  -81.1800  32.0880 -81.1799   \n3        PORT WENTWORTH  PORT WENTWORTH   32.1500  -81.1800  32.1604 -81.1830   \n4              SAVANNAH        SAVANNAH   32.0600  -81.0900  32.0599 -81.0929   \n5  (SAV)SAVANNAH INTL A     GARDEN CITY   32.1288  -81.1885  32.1229 -81.1842   \n6              SAVANNAH        SAVANNAH   32.0500  -81.0800  32.0744 -81.0810   \n7           CENTRAL JCT     CENTRAL JCT   32.0878  -81.1193  32.0785 -81.1179   \n8         MOUNTAIN CITY   MOUNTAIN CITY   34.9200  -83.3800  34.9200 -83.3800   \n9               CLAYTON         CLAYTON   34.7778  -83.5245  34.7778 -83.5245   \n\n                                    EpisodeNarrative  \\\n0  An area of low pressure developed near the cen...   \n1  A strong cold front pushed through southeaster...   \n2  Low pressure developed off the coast of South ...   \n3  Low pressure developed off the coast of South ...   \n4  Low pressure developed off the coast of South ...   \n5  Low pressure developed off the coast of South ...   \n6  Low pressure developed off the coast of South ...   \n7  Low pressure developed off the coast of South ...   \n8  An isolated severe storm affected extreme nort...   \n9  An isolated severe storm produced large hail i...   \n\n                                      EventNarrative  \\\n0  The county dispatch reported several trees wer...   \n1  Eight homes were reported to have sustained da...   \n2  Heavy rain completely flooded parts of Commerc...   \n3  Bonnie bridge Road was reported to be flooded ...   \n4  One house was evacuated due to flooding on Eas...   \n5  The intersection of Robert Miller and Highway ...   \n6  Chatham County Emergency Management reported t...   \n7  The Chatham County Emergency Manager reported ...   \n8         Six trees blown down around Mountain City.   \n9  Ping-pong ball size hail reported on Seed Lake...   \n\n                                        StormSummary  \n0  {'TotalDamages': 2000, 'StartTime': '2007-12-3...  \n1  {'TotalDamages': 25000, 'StartTime': '2007-12-...  \n2  {'TotalDamages': 6000, 'StartTime': '2007-12-2...  \n3  {'TotalDamages': 0, 'StartTime': '2007-12-21T0...  \n4  {'TotalDamages': 5000, 'StartTime': '2007-12-2...  \n5  {'TotalDamages': 0, 'StartTime': '2007-12-21T0...  \n6  {'TotalDamages': 0, 'StartTime': '2007-12-21T1...  \n7  {'TotalDamages': 0, 'StartTime': '2007-12-21T0...  \n8  {'TotalDamages': 0, 'StartTime': '2007-08-26T1...  \n9  {'TotalDamages': 0, 'StartTime': '2007-08-23T1...  ",
                        "text/html": "<div>\n<style scoped>\n    .dataframe tbody tr th:only-of-type {\n        vertical-align: middle;\n    }\n\n    .dataframe tbody tr th {\n        vertical-align: top;\n    }\n\n    .dataframe thead th {\n        text-align: right;\n    }\n</style>\n<table border=\"1\" class=\"dataframe\">\n  <thead>\n    <tr style=\"text-align: right;\">\n      <th></th>\n      <th>StartTime</th>\n      <th>EndTime</th>\n      <th>EpisodeId</th>\n      <th>EventId</th>\n      <th>State</th>\n      <th>EventType</th>\n      <th>InjuriesDirect</th>\n      <th>InjuriesIndirect</th>\n      <th>DeathsDirect</th>\n      <th>DeathsIndirect</th>\n      <th>DamageProperty</th>\n      <th>DamageCrops</th>\n      <th>Source</th>\n      <th>BeginLocation</th>\n      <th>EndLocation</th>\n      <th>BeginLat</th>\n      <th>BeginLon</th>\n      <th>EndLat</th>\n      <th>EndLon</th>\n      <th>EpisodeNarrative</th>\n      <th>EventNarrative</th>\n      <th>StormSummary</th>\n    </tr>\n  </thead>\n  <tbody>\n    <tr>\n      <th>0</th>\n      <td>2007-12-30 16:00:00+00:00</td>\n      <td>2007-12-30 16:05:00+00:00</td>\n      <td>11749</td>\n      <td>64588</td>\n      <td>GEORGIA</td>\n      <td>Thunderstorm Wind</td>\n      <td>0</td>\n      <td>0</td>\n      <td>0</td>\n      <td>0</td>\n      <td>2000</td>\n      <td>0</td>\n      <td>Law Enforcement</td>\n      <td>LOTTS</td>\n      <td>LOTTS</td>\n      <td>31.5600</td>\n      <td>-82.8900</td>\n      <td>31.5600</td>\n      <td>-82.8900</td>\n      <td>An area of low pressure developed near the cen...</td>\n      <td>The county dispatch reported several trees wer...</td>\n      <td>{'TotalDamages': 2000, 'StartTime': '2007-12-3...</td>\n    </tr>\n    <tr>\n      <th>1</th>\n      <td>2007-12-30 18:30:00+00:00</td>\n      <td>2007-12-30 18:30:00+00:00</td>\n      <td>11833</td>\n      <td>64921</td>\n      <td>GEORGIA</td>\n      <td>Thunderstorm Wind</td>\n      <td>0</td>\n      <td>0</td>\n      <td>0</td>\n      <td>0</td>\n      <td>25000</td>\n      <td>0</td>\n      <td>Emergency Manager</td>\n      <td>MIDWAY</td>\n      <td>MIDWAY</td>\n      <td>31.8100</td>\n      <td>-81.4300</td>\n      <td>31.8100</td>\n      <td>-81.4300</td>\n      <td>A strong cold front pushed through southeaster...</td>\n      <td>Eight homes were reported to have sustained da...</td>\n      <td>{'TotalDamages': 25000, 'StartTime': '2007-12-...</td>\n    </tr>\n    <tr>\n      <th>2</th>\n      <td>2007-12-21 09:00:00+00:00</td>\n      <td>2007-12-21 10:00:00+00:00</td>\n      <td>11824</td>\n      <td>64901</td>\n      <td>GEORGIA</td>\n      <td>Flash Flood</td>\n      <td>0</td>\n      <td>0</td>\n      <td>0</td>\n      <td>0</td>\n      <td>6000</td>\n      <td>0</td>\n      <td>Law Enforcement</td>\n      <td>BONA BELLA</td>\n      <td>BONA BELLA</td>\n      <td>32.1000</td>\n      <td>-81.1800</td>\n      <td>32.0880</td>\n      <td>-81.1799</td>\n      <td>Low pressure developed off the coast of South ...</td>\n      <td>Heavy rain completely flooded parts of Commerc...</td>\n      <td>{'TotalDamages': 6000, 'StartTime': '2007-12-2...</td>\n    </tr>\n    <tr>\n      <th>3</th>\n      <td>2007-12-21 07:45:00+00:00</td>\n      <td>2007-12-21 10:00:00+00:00</td>\n      <td>11824</td>\n      <td>64899</td>\n      <td>GEORGIA</td>\n      <td>Flash Flood</td>\n      <td>0</td>\n      <td>0</td>\n      <td>0</td>\n      <td>0</td>\n      <td>0</td>\n      <td>0</td>\n      <td>Emergency Manager</td>\n      <td>PORT WENTWORTH</td>\n      <td>PORT WENTWORTH</td>\n      <td>32.1500</td>\n      <td>-81.1800</td>\n      <td>32.1604</td>\n      <td>-81.1830</td>\n      <td>Low pressure developed off the coast of South ...</td>\n      <td>Bonnie bridge Road was reported to be flooded ...</td>\n      <td>{'TotalDamages': 0, 'StartTime': '2007-12-21T0...</td>\n    </tr>\n    <tr>\n      <th>4</th>\n      <td>2007-12-21 09:35:00+00:00</td>\n      <td>2007-12-21 10:00:00+00:00</td>\n      <td>11824</td>\n      <td>64902</td>\n      <td>GEORGIA</td>\n      <td>Flash Flood</td>\n      <td>0</td>\n      <td>0</td>\n      <td>0</td>\n      <td>0</td>\n      <td>5000</td>\n      <td>0</td>\n      <td>Emergency Manager</td>\n      <td>SAVANNAH</td>\n      <td>SAVANNAH</td>\n      <td>32.0600</td>\n      <td>-81.0900</td>\n      <td>32.0599</td>\n      <td>-81.0929</td>\n      <td>Low pressure developed off the coast of South ...</td>\n      <td>One house was evacuated due to flooding on Eas...</td>\n      <td>{'TotalDamages': 5000, 'StartTime': '2007-12-2...</td>\n    </tr>\n    <tr>\n      <th>5</th>\n      <td>2007-12-21 09:35:00+00:00</td>\n      <td>2007-12-21 10:00:00+00:00</td>\n      <td>11824</td>\n      <td>64903</td>\n      <td>GEORGIA</td>\n      <td>Flash Flood</td>\n      <td>0</td>\n      <td>0</td>\n      <td>0</td>\n      <td>0</td>\n      <td>0</td>\n      <td>0</td>\n      <td>Emergency Manager</td>\n      <td>(SAV)SAVANNAH INTL A</td>\n      <td>GARDEN CITY</td>\n      <td>32.1288</td>\n      <td>-81.1885</td>\n      <td>32.1229</td>\n      <td>-81.1842</td>\n      <td>Low pressure developed off the coast of South ...</td>\n      <td>The intersection of Robert Miller and Highway ...</td>\n      <td>{'TotalDamages': 0, 'StartTime': '2007-12-21T0...</td>\n    </tr>\n    <tr>\n      <th>6</th>\n      <td>2007-12-21 11:15:00+00:00</td>\n      <td>2007-12-21 12:00:00+00:00</td>\n      <td>11824</td>\n      <td>64904</td>\n      <td>GEORGIA</td>\n      <td>Flash Flood</td>\n      <td>0</td>\n      <td>0</td>\n      <td>0</td>\n      <td>0</td>\n      <td>0</td>\n      <td>0</td>\n      <td>Emergency Manager</td>\n      <td>SAVANNAH</td>\n      <td>SAVANNAH</td>\n      <td>32.0500</td>\n      <td>-81.0800</td>\n      <td>32.0744</td>\n      <td>-81.0810</td>\n      <td>Low pressure developed off the coast of South ...</td>\n      <td>Chatham County Emergency Management reported t...</td>\n      <td>{'TotalDamages': 0, 'StartTime': '2007-12-21T1...</td>\n    </tr>\n    <tr>\n      <th>7</th>\n      <td>2007-12-21 08:25:00+00:00</td>\n      <td>2007-12-21 10:00:00+00:00</td>\n      <td>11824</td>\n      <td>64900</td>\n      <td>GEORGIA</td>\n      <td>Flash Flood</td>\n      <td>0</td>\n      <td>0</td>\n      <td>0</td>\n      <td>0</td>\n      <td>0</td>\n      <td>0</td>\n      <td>Emergency Manager</td>\n      <td>CENTRAL JCT</td>\n      <td>CENTRAL JCT</td>\n      <td>32.0878</td>\n      <td>-81.1193</td>\n      <td>32.0785</td>\n      <td>-81.1179</td>\n      <td>Low pressure developed off the coast of South ...</td>\n      <td>The Chatham County Emergency Manager reported ...</td>\n      <td>{'TotalDamages': 0, 'StartTime': '2007-12-21T0...</td>\n    </tr>\n    <tr>\n      <th>8</th>\n      <td>2007-08-26 13:20:00+00:00</td>\n      <td>2007-08-26 13:20:00+00:00</td>\n      <td>10444</td>\n      <td>58115</td>\n      <td>GEORGIA</td>\n      <td>Thunderstorm Wind</td>\n      <td>0</td>\n      <td>0</td>\n      <td>0</td>\n      <td>0</td>\n      <td>0</td>\n      <td>0</td>\n      <td>Trained Spotter</td>\n      <td>MOUNTAIN CITY</td>\n      <td>MOUNTAIN CITY</td>\n      <td>34.9200</td>\n      <td>-83.3800</td>\n      <td>34.9200</td>\n      <td>-83.3800</td>\n      <td>An isolated severe storm affected extreme nort...</td>\n      <td>Six trees blown down around Mountain City.</td>\n      <td>{'TotalDamages': 0, 'StartTime': '2007-08-26T1...</td>\n    </tr>\n    <tr>\n      <th>9</th>\n      <td>2007-08-23 14:20:00+00:00</td>\n      <td>2007-08-23 14:20:00+00:00</td>\n      <td>10412</td>\n      <td>57947</td>\n      <td>GEORGIA</td>\n      <td>Hail</td>\n      <td>0</td>\n      <td>0</td>\n      <td>0</td>\n      <td>0</td>\n      <td>0</td>\n      <td>0</td>\n      <td>Park/Forest Service</td>\n      <td>CLAYTON</td>\n      <td>CLAYTON</td>\n      <td>34.7778</td>\n      <td>-83.5245</td>\n      <td>34.7778</td>\n      <td>-83.5245</td>\n      <td>An isolated severe storm produced large hail i...</td>\n      <td>Ping-pong ball size hail reported on Seed Lake...</td>\n      <td>{'TotalDamages': 0, 'StartTime': '2007-08-23T1...</td>\n    </tr>\n  </tbody>\n</table>\n</div>",
                        "application/vnd.dataresource+json": {
                            "schema": {
                                "fields": [
                                    {
                                        "name": "StartTime",
                                        "type": "datetime",
                                        "tz": "UTC"
                                    },
                                    {
                                        "name": "EndTime",
                                        "type": "datetime",
                                        "tz": "UTC"
                                    },
                                    {
                                        "name": "EpisodeId",
                                        "type": "integer"
                                    },
                                    {
                                        "name": "EventId",
                                        "type": "integer"
                                    },
                                    {
                                        "name": "State",
                                        "type": "string"
                                    },
                                    {
                                        "name": "EventType",
                                        "type": "string"
                                    },
                                    {
                                        "name": "InjuriesDirect",
                                        "type": "integer"
                                    },
                                    {
                                        "name": "InjuriesIndirect",
                                        "type": "integer"
                                    },
                                    {
                                        "name": "DeathsDirect",
                                        "type": "integer"
                                    },
                                    {
                                        "name": "DeathsIndirect",
                                        "type": "integer"
                                    },
                                    {
                                        "name": "DamageProperty",
                                        "type": "integer"
                                    },
                                    {
                                        "name": "DamageCrops",
                                        "type": "integer"
                                    },
                                    {
                                        "name": "Source",
                                        "type": "string"
                                    },
                                    {
                                        "name": "BeginLocation",
                                        "type": "string"
                                    },
                                    {
                                        "name": "EndLocation",
                                        "type": "string"
                                    },
                                    {
                                        "name": "BeginLat",
                                        "type": "number"
                                    },
                                    {
                                        "name": "BeginLon",
                                        "type": "number"
                                    },
                                    {
                                        "name": "EndLat",
                                        "type": "number"
                                    },
                                    {
                                        "name": "EndLon",
                                        "type": "number"
                                    },
                                    {
                                        "name": "EpisodeNarrative",
                                        "type": "string"
                                    },
                                    {
                                        "name": "EventNarrative",
                                        "type": "string"
                                    },
                                    {
                                        "name": "StormSummary",
                                        "type": "string"
                                    }
                                ],
                                "kqmagic_version": "0.1.113.post1"
                            },
                            "data": [
                                {
                                    "StartTime": "2007-12-30T16:00:00.000Z",
                                    "EndTime": "2007-12-30T16:05:00.000Z",
                                    "EpisodeId": 11749,
                                    "EventId": 64588,
                                    "State": "GEORGIA",
                                    "EventType": "Thunderstorm Wind",
                                    "InjuriesDirect": 0,
                                    "InjuriesIndirect": 0,
                                    "DeathsDirect": 0,
                                    "DeathsIndirect": 0,
                                    "DamageProperty": 2000,
                                    "DamageCrops": 0,
                                    "Source": "Law Enforcement",
                                    "BeginLocation": "LOTTS",
                                    "EndLocation": "LOTTS",
                                    "BeginLat": 31.56,
                                    "BeginLon": -82.89,
                                    "EndLat": 31.56,
                                    "EndLon": -82.89,
                                    "EpisodeNarrative": "An area of low pressure developed near the central Gulf coast states and tracked northeast along a nearly stationary front across south Georgia during the late afternoon of December 30th.  Pre-frontal storms developed across south Georgia where surface based lifted indices were near -2 to -3. Storms had persistent mesocyclone rotations and several storms developed bow echo signatures with outbound velocities around 40 to 50 knots along the leading edge of the bow around 3-4 kft above ground level prior to warning issuance.",
                                    "EventNarrative": "The county dispatch reported several trees were blown down along Quincey Batten Loop near State Road 206. The cost of tree removal was estimated.",
                                    "StormSummary": "{'TotalDamages': 2000, 'StartTime': '2007-12-30T16:00:00.0000000Z', 'EndTime': '2007-12-30T16:05:00.0000000Z', 'Details': {'Description': 'The county dispatch reported several trees were blown down along Quincey Batten Loop near State Road 206. The cost of tree removal was estimated.', 'Location': 'GEORGIA'}}"
                                },
                                {
                                    "StartTime": "2007-12-30T18:30:00.000Z",
                                    "EndTime": "2007-12-30T18:30:00.000Z",
                                    "EpisodeId": 11833,
                                    "EventId": 64921,
                                    "State": "GEORGIA",
                                    "EventType": "Thunderstorm Wind",
                                    "InjuriesDirect": 0,
                                    "InjuriesIndirect": 0,
                                    "DeathsDirect": 0,
                                    "DeathsIndirect": 0,
                                    "DamageProperty": 25000,
                                    "DamageCrops": 0,
                                    "Source": "Emergency Manager",
                                    "BeginLocation": "MIDWAY",
                                    "EndLocation": "MIDWAY",
                                    "BeginLat": 31.81,
                                    "BeginLon": -81.43,
                                    "EndLat": 31.81,
                                    "EndLon": -81.43,
                                    "EpisodeNarrative": "A strong cold front pushed through southeastern Georgia resulting in a couple strong thunderstorms.",
                                    "EventNarrative": "Eight homes were reported to have sustained damage by debris and tree branches. One home had brick siding separate from the home. Several trees were reported to have snapped off at the base.",
                                    "StormSummary": "{'TotalDamages': 25000, 'StartTime': '2007-12-30T18:30:00.0000000Z', 'EndTime': '2007-12-30T18:30:00.0000000Z', 'Details': {'Description': 'Eight homes were reported to have sustained damage by debris and tree branches. One home had brick siding separate from the home. Several trees were reported to have snapped off at the base.', 'Location': 'GEORGIA'}}"
                                },
                                {
                                    "StartTime": "2007-12-21T09:00:00.000Z",
                                    "EndTime": "2007-12-21T10:00:00.000Z",
                                    "EpisodeId": 11824,
                                    "EventId": 64901,
                                    "State": "GEORGIA",
                                    "EventType": "Flash Flood",
                                    "InjuriesDirect": 0,
                                    "InjuriesIndirect": 0,
                                    "DeathsDirect": 0,
                                    "DeathsIndirect": 0,
                                    "DamageProperty": 6000,
                                    "DamageCrops": 0,
                                    "Source": "Law Enforcement",
                                    "BeginLocation": "BONA BELLA",
                                    "EndLocation": "BONA BELLA",
                                    "BeginLat": 32.1,
                                    "BeginLon": -81.18,
                                    "EndLat": 32.088,
                                    "EndLon": -81.1799,
                                    "EpisodeNarrative": "Low pressure developed off the coast of South Carolina and Georgia as a potent upper level disturbance moved across the region. Moderate to heavy rains fell across the area, bringing much needed rainfall to some drought stricken areas. The pressure gradient between the area of low pressure and a wedge of high pressure across the piedmont of South Carolina and Georgia, associated with strong cold air damming, produced strong winds along the coast.",
                                    "EventNarrative": "Heavy rain completely flooded parts of Commerce Boulevard in Garden City, Georgia. The depth of the water was as high as 6 feet in places and several cars were reported to be completely submerged.",
                                    "StormSummary": "{'TotalDamages': 6000, 'StartTime': '2007-12-21T09:00:00.0000000Z', 'EndTime': '2007-12-21T10:00:00.0000000Z', 'Details': {'Description': 'Heavy rain completely flooded parts of Commerce Boulevard in Garden City, Georgia. The depth of the water was as high as 6 feet in places and several cars were reported to be completely submerged.', 'Location': 'GEORGIA'}}"
                                },
                                {
                                    "StartTime": "2007-12-21T07:45:00.000Z",
                                    "EndTime": "2007-12-21T10:00:00.000Z",
                                    "EpisodeId": 11824,
                                    "EventId": 64899,
                                    "State": "GEORGIA",
                                    "EventType": "Flash Flood",
                                    "InjuriesDirect": 0,
                                    "InjuriesIndirect": 0,
                                    "DeathsDirect": 0,
                                    "DeathsIndirect": 0,
                                    "DamageProperty": 0,
                                    "DamageCrops": 0,
                                    "Source": "Emergency Manager",
                                    "BeginLocation": "PORT WENTWORTH",
                                    "EndLocation": "PORT WENTWORTH",
                                    "BeginLat": 32.15,
                                    "BeginLon": -81.18,
                                    "EndLat": 32.1604,
                                    "EndLon": -81.183,
                                    "EpisodeNarrative": "Low pressure developed off the coast of South Carolina and Georgia as a potent upper level disturbance moved across the region. Moderate to heavy rains fell across the area, bringing much needed rainfall to some drought stricken areas. The pressure gradient between the area of low pressure and a wedge of high pressure across the piedmont of South Carolina and Georgia, associated with strong cold air damming, produced strong winds along the coast.",
                                    "EventNarrative": "Bonnie bridge Road was reported to be flooded by the Chatham County Emergency Manager.",
                                    "StormSummary": "{'TotalDamages': 0, 'StartTime': '2007-12-21T07:45:00.0000000Z', 'EndTime': '2007-12-21T10:00:00.0000000Z', 'Details': {'Description': 'Bonnie bridge Road was reported to be flooded by the Chatham County Emergency Manager.', 'Location': 'GEORGIA'}}"
                                },
                                {
                                    "StartTime": "2007-12-21T09:35:00.000Z",
                                    "EndTime": "2007-12-21T10:00:00.000Z",
                                    "EpisodeId": 11824,
                                    "EventId": 64902,
                                    "State": "GEORGIA",
                                    "EventType": "Flash Flood",
                                    "InjuriesDirect": 0,
                                    "InjuriesIndirect": 0,
                                    "DeathsDirect": 0,
                                    "DeathsIndirect": 0,
                                    "DamageProperty": 5000,
                                    "DamageCrops": 0,
                                    "Source": "Emergency Manager",
                                    "BeginLocation": "SAVANNAH",
                                    "EndLocation": "SAVANNAH",
                                    "BeginLat": 32.06,
                                    "BeginLon": -81.09,
                                    "EndLat": 32.0599,
                                    "EndLon": -81.0929,
                                    "EpisodeNarrative": "Low pressure developed off the coast of South Carolina and Georgia as a potent upper level disturbance moved across the region. Moderate to heavy rains fell across the area, bringing much needed rainfall to some drought stricken areas. The pressure gradient between the area of low pressure and a wedge of high pressure across the piedmont of South Carolina and Georgia, associated with strong cold air damming, produced strong winds along the coast.",
                                    "EventNarrative": "One house was evacuated due to flooding on East 33rd street.",
                                    "StormSummary": "{'TotalDamages': 5000, 'StartTime': '2007-12-21T09:35:00.0000000Z', 'EndTime': '2007-12-21T10:00:00.0000000Z', 'Details': {'Description': 'One house was evacuated due to flooding on East 33rd street.', 'Location': 'GEORGIA'}}"
                                },
                                {
                                    "StartTime": "2007-12-21T09:35:00.000Z",
                                    "EndTime": "2007-12-21T10:00:00.000Z",
                                    "EpisodeId": 11824,
                                    "EventId": 64903,
                                    "State": "GEORGIA",
                                    "EventType": "Flash Flood",
                                    "InjuriesDirect": 0,
                                    "InjuriesIndirect": 0,
                                    "DeathsDirect": 0,
                                    "DeathsIndirect": 0,
                                    "DamageProperty": 0,
                                    "DamageCrops": 0,
                                    "Source": "Emergency Manager",
                                    "BeginLocation": "(SAV)SAVANNAH INTL A",
                                    "EndLocation": "GARDEN CITY",
                                    "BeginLat": 32.1288,
                                    "BeginLon": -81.1885,
                                    "EndLat": 32.1229,
                                    "EndLon": -81.1842,
                                    "EpisodeNarrative": "Low pressure developed off the coast of South Carolina and Georgia as a potent upper level disturbance moved across the region. Moderate to heavy rains fell across the area, bringing much needed rainfall to some drought stricken areas. The pressure gradient between the area of low pressure and a wedge of high pressure across the piedmont of South Carolina and Georgia, associated with strong cold air damming, produced strong winds along the coast.",
                                    "EventNarrative": "The intersection of Robert Miller and Highway 301 was reported to be flooded under the railroad crossing.",
                                    "StormSummary": "{'TotalDamages': 0, 'StartTime': '2007-12-21T09:35:00.0000000Z', 'EndTime': '2007-12-21T10:00:00.0000000Z', 'Details': {'Description': 'The intersection of Robert Miller and Highway 301 was reported to be flooded under the railroad crossing.', 'Location': 'GEORGIA'}}"
                                },
                                {
                                    "StartTime": "2007-12-21T11:15:00.000Z",
                                    "EndTime": "2007-12-21T12:00:00.000Z",
                                    "EpisodeId": 11824,
                                    "EventId": 64904,
                                    "State": "GEORGIA",
                                    "EventType": "Flash Flood",
                                    "InjuriesDirect": 0,
                                    "InjuriesIndirect": 0,
                                    "DeathsDirect": 0,
                                    "DeathsIndirect": 0,
                                    "DamageProperty": 0,
                                    "DamageCrops": 0,
                                    "Source": "Emergency Manager",
                                    "BeginLocation": "SAVANNAH",
                                    "EndLocation": "SAVANNAH",
                                    "BeginLat": 32.05,
                                    "BeginLon": -81.08,
                                    "EndLat": 32.0744,
                                    "EndLon": -81.081,
                                    "EpisodeNarrative": "Low pressure developed off the coast of South Carolina and Georgia as a potent upper level disturbance moved across the region. Moderate to heavy rains fell across the area, bringing much needed rainfall to some drought stricken areas. The pressure gradient between the area of low pressure and a wedge of high pressure across the piedmont of South Carolina and Georgia, associated with strong cold air damming, produced strong winds along the coast.",
                                    "EventNarrative": "Chatham County Emergency Management reported that several roads were closed due to flash flooding throughout northern Chatham County, including the city of Savannah, Georgia.",
                                    "StormSummary": "{'TotalDamages': 0, 'StartTime': '2007-12-21T11:15:00.0000000Z', 'EndTime': '2007-12-21T12:00:00.0000000Z', 'Details': {'Description': 'Chatham County Emergency Management reported that several roads were closed due to flash flooding throughout northern Chatham County, including the city of Savannah, Georgia.', 'Location': 'GEORGIA'}}"
                                },
                                {
                                    "StartTime": "2007-12-21T08:25:00.000Z",
                                    "EndTime": "2007-12-21T10:00:00.000Z",
                                    "EpisodeId": 11824,
                                    "EventId": 64900,
                                    "State": "GEORGIA",
                                    "EventType": "Flash Flood",
                                    "InjuriesDirect": 0,
                                    "InjuriesIndirect": 0,
                                    "DeathsDirect": 0,
                                    "DeathsIndirect": 0,
                                    "DamageProperty": 0,
                                    "DamageCrops": 0,
                                    "Source": "Emergency Manager",
                                    "BeginLocation": "CENTRAL JCT",
                                    "EndLocation": "CENTRAL JCT",
                                    "BeginLat": 32.0878,
                                    "BeginLon": -81.1193,
                                    "EndLat": 32.0785,
                                    "EndLon": -81.1179,
                                    "EpisodeNarrative": "Low pressure developed off the coast of South Carolina and Georgia as a potent upper level disturbance moved across the region. Moderate to heavy rains fell across the area, bringing much needed rainfall to some drought stricken areas. The pressure gradient between the area of low pressure and a wedge of high pressure across the piedmont of South Carolina and Georgia, associated with strong cold air damming, produced strong winds along the coast.",
                                    "EventNarrative": "The Chatham County Emergency Manager reported flooding on more than 10 roads in and north of Savannah, Georgia.",
                                    "StormSummary": "{'TotalDamages': 0, 'StartTime': '2007-12-21T08:25:00.0000000Z', 'EndTime': '2007-12-21T10:00:00.0000000Z', 'Details': {'Description': 'The Chatham County Emergency Manager reported flooding on more than 10 roads in and north of Savannah, Georgia.', 'Location': 'GEORGIA'}}"
                                },
                                {
                                    "StartTime": "2007-08-26T13:20:00.000Z",
                                    "EndTime": "2007-08-26T13:20:00.000Z",
                                    "EpisodeId": 10444,
                                    "EventId": 58115,
                                    "State": "GEORGIA",
                                    "EventType": "Thunderstorm Wind",
                                    "InjuriesDirect": 0,
                                    "InjuriesIndirect": 0,
                                    "DeathsDirect": 0,
                                    "DeathsIndirect": 0,
                                    "DamageProperty": 0,
                                    "DamageCrops": 0,
                                    "Source": "Trained Spotter",
                                    "BeginLocation": "MOUNTAIN CITY",
                                    "EndLocation": "MOUNTAIN CITY",
                                    "BeginLat": 34.92,
                                    "BeginLon": -83.38,
                                    "EndLat": 34.92,
                                    "EndLon": -83.38,
                                    "EpisodeNarrative": "An isolated severe storm affected extreme northeast Georgia during the afternoon hours.",
                                    "EventNarrative": "Six trees blown down around Mountain City.",
                                    "StormSummary": "{'TotalDamages': 0, 'StartTime': '2007-08-26T13:20:00.0000000Z', 'EndTime': '2007-08-26T13:20:00.0000000Z', 'Details': {'Description': 'Six trees blown down around Mountain City.', 'Location': 'GEORGIA'}}"
                                },
                                {
                                    "StartTime": "2007-08-23T14:20:00.000Z",
                                    "EndTime": "2007-08-23T14:20:00.000Z",
                                    "EpisodeId": 10412,
                                    "EventId": 57947,
                                    "State": "GEORGIA",
                                    "EventType": "Hail",
                                    "InjuriesDirect": 0,
                                    "InjuriesIndirect": 0,
                                    "DeathsDirect": 0,
                                    "DeathsIndirect": 0,
                                    "DamageProperty": 0,
                                    "DamageCrops": 0,
                                    "Source": "Park/Forest Service",
                                    "BeginLocation": "CLAYTON",
                                    "EndLocation": "CLAYTON",
                                    "BeginLat": 34.7778,
                                    "BeginLon": -83.5245,
                                    "EndLat": 34.7778,
                                    "EndLon": -83.5245,
                                    "EpisodeNarrative": "An isolated severe storm produced large hail in extreme northeast Georgia.",
                                    "EventNarrative": "Ping-pong ball size hail reported on Seed Lake Rd.",
                                    "StormSummary": "{'TotalDamages': 0, 'StartTime': '2007-08-23T14:20:00.0000000Z', 'EndTime': '2007-08-23T14:20:00.0000000Z', 'Details': {'Description': 'Ping-pong ball size hail reported on Seed Lake Rd.', 'Location': 'GEORGIA'}}"
                                }
                            ]
                        }
                    },
                    "metadata": {},
                    "output_type": "display_data"
                },
                {
                    "data": {
                        "text/plain": "<IPython.core.display.HTML object>",
                        "text/html": "<html>\n        <head>\n            \n            \n        </head>\n        <body>\n            <div><p style='padding: 10px; color: #3a87ad; background-color: #d9edf7; border-color: #bce9f1'>Done&nbsp;(00:00.366):&nbsp;10&nbsp;records</p></div>\n        </body>\n        </html>"
                    },
                    "metadata": {},
                    "output_type": "display_data"
                },
                {
                    "data": {
                        "text/plain": "[{'StartTime': datetime.datetime(2007, 12, 30, 16, 0, tzinfo=tzutc()), 'EndTime': datetime.datetime(2007, 12, 30, 16, 5, tzinfo=tzutc()), 'EpisodeId': 11749, 'EventId': 64588, 'State': 'GEORGIA', 'EventType': 'Thunderstorm Wind', 'InjuriesDirect': 0, 'InjuriesIndirect': 0, 'DeathsDirect': 0, 'DeathsIndirect': 0, 'DamageProperty': 2000, 'DamageCrops': 0, 'Source': 'Law Enforcement', 'BeginLocation': 'LOTTS', 'EndLocation': 'LOTTS', 'BeginLat': 31.56, 'BeginLon': -82.89, 'EndLat': 31.56, 'EndLon': -82.89, 'EpisodeNarrative': 'An area of low pressure developed near the central Gulf coast states and tracked northeast along a nearly stationary front across south Georgia during the late afternoon of December 30th.  Pre-frontal storms developed across south Georgia where surface based lifted indices were near -2 to -3. Storms had persistent mesocyclone rotations and several storms developed bow echo signatures with outbound velocities around 40 to 50 knots along the leading edge of the bow around 3-4 kft above ground level prior to warning issuance.', 'EventNarrative': 'The county dispatch reported several trees were blown down along Quincey Batten Loop near State Road 206. The cost of tree removal was estimated.', 'StormSummary': {'TotalDamages': 2000, 'StartTime': '2007-12-30T16:00:00.0000000Z', 'EndTime': '2007-12-30T16:05:00.0000000Z', 'Details': {'Description': 'The county dispatch reported several trees were blown down along Quincey Batten Loop near State Road 206. The cost of tree removal was estimated.', 'Location': 'GEORGIA'}}},\n {'StartTime': datetime.datetime(2007, 12, 30, 18, 30, tzinfo=tzutc()), 'EndTime': datetime.datetime(2007, 12, 30, 18, 30, tzinfo=tzutc()), 'EpisodeId': 11833, 'EventId': 64921, 'State': 'GEORGIA', 'EventType': 'Thunderstorm Wind', 'InjuriesDirect': 0, 'InjuriesIndirect': 0, 'DeathsDirect': 0, 'DeathsIndirect': 0, 'DamageProperty': 25000, 'DamageCrops': 0, 'Source': 'Emergency Manager', 'BeginLocation': 'MIDWAY', 'EndLocation': 'MIDWAY', 'BeginLat': 31.81, 'BeginLon': -81.43, 'EndLat': 31.81, 'EndLon': -81.43, 'EpisodeNarrative': 'A strong cold front pushed through southeastern Georgia resulting in a couple strong thunderstorms.', 'EventNarrative': 'Eight homes were reported to have sustained damage by debris and tree branches. One home had brick siding separate from the home. Several trees were reported to have snapped off at the base.', 'StormSummary': {'TotalDamages': 25000, 'StartTime': '2007-12-30T18:30:00.0000000Z', 'EndTime': '2007-12-30T18:30:00.0000000Z', 'Details': {'Description': 'Eight homes were reported to have sustained damage by debris and tree branches. One home had brick siding separate from the home. Several trees were reported to have snapped off at the base.', 'Location': 'GEORGIA'}}},\n {'StartTime': datetime.datetime(2007, 12, 21, 9, 0, tzinfo=tzutc()), 'EndTime': datetime.datetime(2007, 12, 21, 10, 0, tzinfo=tzutc()), 'EpisodeId': 11824, 'EventId': 64901, 'State': 'GEORGIA', 'EventType': 'Flash Flood', 'InjuriesDirect': 0, 'InjuriesIndirect': 0, 'DeathsDirect': 0, 'DeathsIndirect': 0, 'DamageProperty': 6000, 'DamageCrops': 0, 'Source': 'Law Enforcement', 'BeginLocation': 'BONA BELLA', 'EndLocation': 'BONA BELLA', 'BeginLat': 32.1, 'BeginLon': -81.18, 'EndLat': 32.088, 'EndLon': -81.1799, 'EpisodeNarrative': 'Low pressure developed off the coast of South Carolina and Georgia as a potent upper level disturbance moved across the region. Moderate to heavy rains fell across the area, bringing much needed rainfall to some drought stricken areas. The pressure gradient between the area of low pressure and a wedge of high pressure across the piedmont of South Carolina and Georgia, associated with strong cold air damming, produced strong winds along the coast.', 'EventNarrative': 'Heavy rain completely flooded parts of Commerce Boulevard in Garden City, Georgia. The depth of the water was as high as 6 feet in places and several cars were reported to be completely submerged.', 'StormSummary': {'TotalDamages': 6000, 'StartTime': '2007-12-21T09:00:00.0000000Z', 'EndTime': '2007-12-21T10:00:00.0000000Z', 'Details': {'Description': 'Heavy rain completely flooded parts of Commerce Boulevard in Garden City, Georgia. The depth of the water was as high as 6 feet in places and several cars were reported to be completely submerged.', 'Location': 'GEORGIA'}}},\n {'StartTime': datetime.datetime(2007, 12, 21, 7, 45, tzinfo=tzutc()), 'EndTime': datetime.datetime(2007, 12, 21, 10, 0, tzinfo=tzutc()), 'EpisodeId': 11824, 'EventId': 64899, 'State': 'GEORGIA', 'EventType': 'Flash Flood', 'InjuriesDirect': 0, 'InjuriesIndirect': 0, 'DeathsDirect': 0, 'DeathsIndirect': 0, 'DamageProperty': 0, 'DamageCrops': 0, 'Source': 'Emergency Manager', 'BeginLocation': 'PORT WENTWORTH', 'EndLocation': 'PORT WENTWORTH', 'BeginLat': 32.15, 'BeginLon': -81.18, 'EndLat': 32.1604, 'EndLon': -81.183, 'EpisodeNarrative': 'Low pressure developed off the coast of South Carolina and Georgia as a potent upper level disturbance moved across the region. Moderate to heavy rains fell across the area, bringing much needed rainfall to some drought stricken areas. The pressure gradient between the area of low pressure and a wedge of high pressure across the piedmont of South Carolina and Georgia, associated with strong cold air damming, produced strong winds along the coast.', 'EventNarrative': 'Bonnie bridge Road was reported to be flooded by the Chatham County Emergency Manager.', 'StormSummary': {'TotalDamages': 0, 'StartTime': '2007-12-21T07:45:00.0000000Z', 'EndTime': '2007-12-21T10:00:00.0000000Z', 'Details': {'Description': 'Bonnie bridge Road was reported to be flooded by the Chatham County Emergency Manager.', 'Location': 'GEORGIA'}}},\n {'StartTime': datetime.datetime(2007, 12, 21, 9, 35, tzinfo=tzutc()), 'EndTime': datetime.datetime(2007, 12, 21, 10, 0, tzinfo=tzutc()), 'EpisodeId': 11824, 'EventId': 64902, 'State': 'GEORGIA', 'EventType': 'Flash Flood', 'InjuriesDirect': 0, 'InjuriesIndirect': 0, 'DeathsDirect': 0, 'DeathsIndirect': 0, 'DamageProperty': 5000, 'DamageCrops': 0, 'Source': 'Emergency Manager', 'BeginLocation': 'SAVANNAH', 'EndLocation': 'SAVANNAH', 'BeginLat': 32.06, 'BeginLon': -81.09, 'EndLat': 32.0599, 'EndLon': -81.0929, 'EpisodeNarrative': 'Low pressure developed off the coast of South Carolina and Georgia as a potent upper level disturbance moved across the region. Moderate to heavy rains fell across the area, bringing much needed rainfall to some drought stricken areas. The pressure gradient between the area of low pressure and a wedge of high pressure across the piedmont of South Carolina and Georgia, associated with strong cold air damming, produced strong winds along the coast.', 'EventNarrative': 'One house was evacuated due to flooding on East 33rd street.', 'StormSummary': {'TotalDamages': 5000, 'StartTime': '2007-12-21T09:35:00.0000000Z', 'EndTime': '2007-12-21T10:00:00.0000000Z', 'Details': {'Description': 'One house was evacuated due to flooding on East 33rd street.', 'Location': 'GEORGIA'}}},\n {'StartTime': datetime.datetime(2007, 12, 21, 9, 35, tzinfo=tzutc()), 'EndTime': datetime.datetime(2007, 12, 21, 10, 0, tzinfo=tzutc()), 'EpisodeId': 11824, 'EventId': 64903, 'State': 'GEORGIA', 'EventType': 'Flash Flood', 'InjuriesDirect': 0, 'InjuriesIndirect': 0, 'DeathsDirect': 0, 'DeathsIndirect': 0, 'DamageProperty': 0, 'DamageCrops': 0, 'Source': 'Emergency Manager', 'BeginLocation': '(SAV)SAVANNAH INTL A', 'EndLocation': 'GARDEN CITY', 'BeginLat': 32.1288, 'BeginLon': -81.1885, 'EndLat': 32.1229, 'EndLon': -81.1842, 'EpisodeNarrative': 'Low pressure developed off the coast of South Carolina and Georgia as a potent upper level disturbance moved across the region. Moderate to heavy rains fell across the area, bringing much needed rainfall to some drought stricken areas. The pressure gradient between the area of low pressure and a wedge of high pressure across the piedmont of South Carolina and Georgia, associated with strong cold air damming, produced strong winds along the coast.', 'EventNarrative': 'The intersection of Robert Miller and Highway 301 was reported to be flooded under the railroad crossing.', 'StormSummary': {'TotalDamages': 0, 'StartTime': '2007-12-21T09:35:00.0000000Z', 'EndTime': '2007-12-21T10:00:00.0000000Z', 'Details': {'Description': 'The intersection of Robert Miller and Highway 301 was reported to be flooded under the railroad crossing.', 'Location': 'GEORGIA'}}},\n {'StartTime': datetime.datetime(2007, 12, 21, 11, 15, tzinfo=tzutc()), 'EndTime': datetime.datetime(2007, 12, 21, 12, 0, tzinfo=tzutc()), 'EpisodeId': 11824, 'EventId': 64904, 'State': 'GEORGIA', 'EventType': 'Flash Flood', 'InjuriesDirect': 0, 'InjuriesIndirect': 0, 'DeathsDirect': 0, 'DeathsIndirect': 0, 'DamageProperty': 0, 'DamageCrops': 0, 'Source': 'Emergency Manager', 'BeginLocation': 'SAVANNAH', 'EndLocation': 'SAVANNAH', 'BeginLat': 32.05, 'BeginLon': -81.08, 'EndLat': 32.0744, 'EndLon': -81.081, 'EpisodeNarrative': 'Low pressure developed off the coast of South Carolina and Georgia as a potent upper level disturbance moved across the region. Moderate to heavy rains fell across the area, bringing much needed rainfall to some drought stricken areas. The pressure gradient between the area of low pressure and a wedge of high pressure across the piedmont of South Carolina and Georgia, associated with strong cold air damming, produced strong winds along the coast.', 'EventNarrative': 'Chatham County Emergency Management reported that several roads were closed due to flash flooding throughout northern Chatham County, including the city of Savannah, Georgia.', 'StormSummary': {'TotalDamages': 0, 'StartTime': '2007-12-21T11:15:00.0000000Z', 'EndTime': '2007-12-21T12:00:00.0000000Z', 'Details': {'Description': 'Chatham County Emergency Management reported that several roads were closed due to flash flooding throughout northern Chatham County, including the city of Savannah, Georgia.', 'Location': 'GEORGIA'}}},\n {'StartTime': datetime.datetime(2007, 12, 21, 8, 25, tzinfo=tzutc()), 'EndTime': datetime.datetime(2007, 12, 21, 10, 0, tzinfo=tzutc()), 'EpisodeId': 11824, 'EventId': 64900, 'State': 'GEORGIA', 'EventType': 'Flash Flood', 'InjuriesDirect': 0, 'InjuriesIndirect': 0, 'DeathsDirect': 0, 'DeathsIndirect': 0, 'DamageProperty': 0, 'DamageCrops': 0, 'Source': 'Emergency Manager', 'BeginLocation': 'CENTRAL JCT', 'EndLocation': 'CENTRAL JCT', 'BeginLat': 32.0878, 'BeginLon': -81.1193, 'EndLat': 32.0785, 'EndLon': -81.1179, 'EpisodeNarrative': 'Low pressure developed off the coast of South Carolina and Georgia as a potent upper level disturbance moved across the region. Moderate to heavy rains fell across the area, bringing much needed rainfall to some drought stricken areas. The pressure gradient between the area of low pressure and a wedge of high pressure across the piedmont of South Carolina and Georgia, associated with strong cold air damming, produced strong winds along the coast.', 'EventNarrative': 'The Chatham County Emergency Manager reported flooding on more than 10 roads in and north of Savannah, Georgia.', 'StormSummary': {'TotalDamages': 0, 'StartTime': '2007-12-21T08:25:00.0000000Z', 'EndTime': '2007-12-21T10:00:00.0000000Z', 'Details': {'Description': 'The Chatham County Emergency Manager reported flooding on more than 10 roads in and north of Savannah, Georgia.', 'Location': 'GEORGIA'}}},\n {'StartTime': datetime.datetime(2007, 8, 26, 13, 20, tzinfo=tzutc()), 'EndTime': datetime.datetime(2007, 8, 26, 13, 20, tzinfo=tzutc()), 'EpisodeId': 10444, 'EventId': 58115, 'State': 'GEORGIA', 'EventType': 'Thunderstorm Wind', 'InjuriesDirect': 0, 'InjuriesIndirect': 0, 'DeathsDirect': 0, 'DeathsIndirect': 0, 'DamageProperty': 0, 'DamageCrops': 0, 'Source': 'Trained Spotter', 'BeginLocation': 'MOUNTAIN CITY', 'EndLocation': 'MOUNTAIN CITY', 'BeginLat': 34.92, 'BeginLon': -83.38, 'EndLat': 34.92, 'EndLon': -83.38, 'EpisodeNarrative': 'An isolated severe storm affected extreme northeast Georgia during the afternoon hours.', 'EventNarrative': 'Six trees blown down around Mountain City.', 'StormSummary': {'TotalDamages': 0, 'StartTime': '2007-08-26T13:20:00.0000000Z', 'EndTime': '2007-08-26T13:20:00.0000000Z', 'Details': {'Description': 'Six trees blown down around Mountain City.', 'Location': 'GEORGIA'}}},\n {'StartTime': datetime.datetime(2007, 8, 23, 14, 20, tzinfo=tzutc()), 'EndTime': datetime.datetime(2007, 8, 23, 14, 20, tzinfo=tzutc()), 'EpisodeId': 10412, 'EventId': 57947, 'State': 'GEORGIA', 'EventType': 'Hail', 'InjuriesDirect': 0, 'InjuriesIndirect': 0, 'DeathsDirect': 0, 'DeathsIndirect': 0, 'DamageProperty': 0, 'DamageCrops': 0, 'Source': 'Park/Forest Service', 'BeginLocation': 'CLAYTON', 'EndLocation': 'CLAYTON', 'BeginLat': 34.7778, 'BeginLon': -83.5245, 'EndLat': 34.7778, 'EndLon': -83.5245, 'EpisodeNarrative': 'An isolated severe storm produced large hail in extreme northeast Georgia.', 'EventNarrative': 'Ping-pong ball size hail reported on Seed Lake Rd.', 'StormSummary': {'TotalDamages': 0, 'StartTime': '2007-08-23T14:20:00.0000000Z', 'EndTime': '2007-08-23T14:20:00.0000000Z', 'Details': {'Description': 'Ping-pong ball size hail reported on Seed Lake Rd.', 'Location': 'GEORGIA'}}}]",
                        "text/html": ""
                    },
                    "metadata": {},
                    "execution_count": 6,
                    "output_type": "execute_result"
                }
            ],
            "execution_count": 6
        }
    ]
}